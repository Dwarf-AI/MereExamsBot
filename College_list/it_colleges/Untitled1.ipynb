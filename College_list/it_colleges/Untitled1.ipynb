{
 "cells": [
  {
   "cell_type": "code",
   "execution_count": 1,
   "metadata": {
    "collapsed": true
   },
   "outputs": [],
   "source": [
    "import numpy as np\n",
    "import pandas as pd\n",
    "import requests as rq\n",
    "from bs4 import BeautifulSoup as bs\n",
    "#from google.colab import files\n",
    "from tqdm import *\n",
    "#courses = pd.read_csv('courses_all.csv')\n",
    "#career360_courses = pd.DataFrame(columns=['College','City','State','Course','Duration','Study mode','Approved intake','Course level','Course Fee','Approval','Eligiblity','Course_Detail'])"
   ]
  },
  {
   "cell_type": "code",
   "execution_count": 2,
   "metadata": {
    "collapsed": true
   },
   "outputs": [],
   "source": [
    "courses = pd.read_csv('it_courses.csv')"
   ]
  },
  {
   "cell_type": "code",
   "execution_count": 3,
   "metadata": {
    "collapsed": true
   },
   "outputs": [],
   "source": [
    "from threading import Thread\n",
    "def scrapper(start, end):\n",
    "    career360_courses = pd.DataFrame(columns=['College','City','State','Course','Duration','Study mode','Approved intake','Course level','Course Fee','Approval','Eligiblity','Course_Detail'])\n",
    "    indx = 0\n",
    "    cnt = start - 1\n",
    "    for header_course in tqdm(courses['2'][start:end]):\n",
    "        cnt += 1\n",
    "        try:\n",
    "            num = int(np.ceil(int(courses['1'][cnt])/10))\n",
    "        except:\n",
    "            continue\n",
    "    #     print(f'num = {num}')\n",
    "        for page_num in tqdm(range(num)):\n",
    "            link = header_course + '?levelId=all&courseNid=all-all&page='+str(page_num)\n",
    "    #         print(link)\n",
    "            page = rq.get(link)\n",
    "            course_soup = bs(page.content, 'html.parser')\n",
    "        for course_link in course_soup.find_all('span',class_='readmore'):\n",
    "            course_link = 'https://it.careers360.com/' + course_link.a['href']\n",
    "            #             print(f'course_link = {course_link}')\n",
    "            page1 = rq.get(course_link)\n",
    "            soup = bs(page1.content,'html.parser')\n",
    "            career360_courses.loc[indx]=None\n",
    "\n",
    "            try:\n",
    "                career360_courses.loc[indx]['Course'] = soup.find_all('h2',class_='block-title')[0].get_text()\n",
    "                career360_courses.loc[indx]['College']=soup.find_all('h1',class_='titleNameCol')[0].get_text()\n",
    "                career360_courses.loc[indx]['City'] = soup.find_all('ul',class_='clg-info')[0].find_all('li')[0].find_all('a')[0].get_text()\n",
    "                career360_courses.loc[indx]['State'] = soup.find_all('ul',class_='clg-info')[0].find_all('li')[0].find_all('a')[1].get_text()\n",
    "            except:\n",
    "                pass\n",
    "\n",
    "            try:\n",
    "                career360_courses.loc[indx]['Eligiblity'] = soup.find_all('span',class_='more-eligibility')[0].get_text()[:-11]\n",
    "            except:\n",
    "                try:\n",
    "                    career360_courses.loc[indx]['Eligiblity'] = soup.find_all('div',class_='default-elig')[0].get_text()\n",
    "                except:\n",
    "                    career360_courses.loc[indx]['Eligiblity'] = None\n",
    "\n",
    "            try:\n",
    "                career360_courses.loc[indx]['Course_Detail'] = (soup.find_all('span',class_='moreCourseDetails')[0].p.get_text())[:-11]\n",
    "            except:\n",
    "                try:\n",
    "                    career360_courses.loc[indx]['Course_Detail'] = (soup.find_all('div',class_='default-course-details')[0].get_text())\n",
    "                except:\n",
    "                    career360_courses.loc[indx]['Course_Detail'] = None\n",
    "\n",
    "            for row in soup.find_all('div',class_='coursesPageLableInnerSec'):\n",
    "                career360_courses.loc[indx][row.strong.get_text()] = row.p.get_text()\n",
    "            indx+=1\n",
    "    career360_courses.to_csv(f'career360_scrap_dm_it({start}-{end}).csv')"
   ]
  },
  {
   "cell_type": "code",
   "execution_count": null,
   "metadata": {
    "collapsed": true
   },
   "outputs": [],
   "source": []
  },
  {
   "cell_type": "code",
   "execution_count": null,
   "metadata": {},
   "outputs": [
    {
     "name": "stderr",
     "output_type": "stream",
     "text": [
      "  0%|          | 0/545 [00:00<?, ?it/s]\n",
      "  0%|          | 0/1 [00:00<?, ?it/s]\u001b[A\n",
      "100%|██████████| 1/1 [00:02<00:00,  2.50s/it]\u001b[A\n",
      "  0%|          | 1/545 [00:09<1:26:48,  9.57s/it]\n",
      "  0%|          | 0/1 [00:00<?, ?it/s]\u001b[A\n",
      "100%|██████████| 1/1 [00:02<00:00,  2.54s/it]\u001b[A\n",
      "  0%|          | 2/545 [00:18<1:25:55,  9.49s/it]\n",
      "  0%|          | 0/1 [00:00<?, ?it/s]\u001b[A\n",
      "100%|██████████| 1/1 [00:01<00:00,  1.82s/it]\u001b[A\n",
      "  1%|          | 3/545 [00:26<1:20:37,  8.92s/it]\n",
      "  0%|          | 0/1 [00:00<?, ?it/s]\u001b[A\n",
      "100%|██████████| 1/1 [00:02<00:00,  2.36s/it]\u001b[A\n",
      "  1%|          | 4/545 [00:35<1:20:46,  8.96s/it]\n",
      "  0%|          | 0/1 [00:00<?, ?it/s]\u001b[A\n",
      "100%|██████████| 1/1 [00:02<00:00,  2.01s/it]\u001b[A\n",
      "  1%|          | 5/545 [00:46<1:22:55,  9.21s/it]\n",
      "  0%|          | 0/1 [00:00<?, ?it/s]\u001b[A\n",
      "100%|██████████| 1/1 [00:02<00:00,  2.51s/it]\u001b[A\n",
      "  1%|          | 6/545 [00:56<1:24:00,  9.35s/it]\n",
      "  0%|          | 0/1 [00:00<?, ?it/s]\u001b[A\n",
      "100%|██████████| 1/1 [00:02<00:00,  2.48s/it]\u001b[A\n",
      "  1%|▏         | 7/545 [01:03<1:21:46,  9.12s/it]\n",
      "  0%|          | 0/1 [00:00<?, ?it/s]\u001b[A\n",
      "100%|██████████| 1/1 [00:02<00:00,  2.11s/it]\u001b[A\n",
      "  1%|▏         | 8/545 [01:08<1:16:52,  8.59s/it]\n",
      "  0%|          | 0/1 [00:00<?, ?it/s]\u001b[A\n",
      "100%|██████████| 1/1 [00:02<00:00,  2.17s/it]\u001b[A\n",
      "  2%|▏         | 9/545 [01:12<1:12:15,  8.09s/it]\n",
      "  0%|          | 0/1 [00:00<?, ?it/s]\u001b[A\n",
      "100%|██████████| 1/1 [00:01<00:00,  1.85s/it]\u001b[A\n",
      "  2%|▏         | 10/545 [01:18<1:10:17,  7.88s/it]\n",
      "  0%|          | 0/1 [00:00<?, ?it/s]\u001b[A\n",
      "100%|██████████| 1/1 [00:02<00:00,  2.06s/it]\u001b[A\n",
      "  2%|▏         | 11/545 [01:22<1:06:57,  7.52s/it]\n",
      "  0%|          | 0/1 [00:00<?, ?it/s]\u001b[A\n",
      "100%|██████████| 1/1 [00:01<00:00,  1.88s/it]\u001b[A\n",
      "  2%|▏         | 12/545 [01:26<1:04:23,  7.25s/it]\n",
      "  0%|          | 0/1 [00:00<?, ?it/s]\u001b[A\n",
      "100%|██████████| 1/1 [00:02<00:00,  2.11s/it]\u001b[A\n",
      "  2%|▏         | 13/545 [01:33<1:03:48,  7.20s/it]\n",
      "  0%|          | 0/1 [00:00<?, ?it/s]\u001b[A\n",
      "100%|██████████| 1/1 [00:02<00:00,  2.01s/it]\u001b[A\n",
      "  3%|▎         | 14/545 [01:40<1:03:48,  7.21s/it]\n",
      "  0%|          | 0/1 [00:00<?, ?it/s]\u001b[A\n",
      "100%|██████████| 1/1 [00:02<00:00,  2.01s/it]\u001b[A\n",
      "  3%|▎         | 15/545 [01:47<1:03:09,  7.15s/it]\n",
      "  0%|          | 0/1 [00:00<?, ?it/s]\u001b[A\n",
      "100%|██████████| 1/1 [00:02<00:00,  2.31s/it]\u001b[A\n",
      "  3%|▎         | 16/545 [01:53<1:02:40,  7.11s/it]\n",
      "  0%|          | 0/1 [00:00<?, ?it/s]\u001b[A\n",
      "100%|██████████| 1/1 [00:01<00:00,  1.92s/it]\u001b[A\n",
      "  3%|▎         | 17/545 [02:00<1:02:15,  7.08s/it]\n",
      "  0%|          | 0/1 [00:00<?, ?it/s]\u001b[A\n",
      "100%|██████████| 1/1 [00:02<00:00,  2.01s/it]\u001b[A\n",
      "  3%|▎         | 18/545 [02:06<1:01:33,  7.01s/it]\n",
      "  0%|          | 0/1 [00:00<?, ?it/s]\u001b[A\n",
      "100%|██████████| 1/1 [00:02<00:00,  2.06s/it]\u001b[A\n",
      "  3%|▎         | 19/545 [02:10<1:00:14,  6.87s/it]\n",
      "  0%|          | 0/1 [00:00<?, ?it/s]\u001b[A\n",
      "100%|██████████| 1/1 [00:02<00:00,  2.13s/it]\u001b[A\n",
      "  4%|▎         | 20/545 [02:14<59:02,  6.75s/it]  \n",
      "  0%|          | 0/1 [00:00<?, ?it/s]\u001b[A\n",
      "100%|██████████| 1/1 [00:02<00:00,  2.32s/it]\u001b[A\n",
      "  4%|▍         | 21/545 [02:21<58:51,  6.74s/it]\n",
      "  0%|          | 0/1 [00:00<?, ?it/s]\u001b[A\n",
      "100%|██████████| 1/1 [00:02<00:00,  2.12s/it]\u001b[A\n",
      "  4%|▍         | 22/545 [02:28<58:59,  6.77s/it]\n",
      "  0%|          | 0/1 [00:00<?, ?it/s]\u001b[A\n",
      "100%|██████████| 1/1 [00:02<00:00,  2.14s/it]\u001b[A\n",
      "  4%|▍         | 23/545 [02:35<58:45,  6.75s/it]\n",
      "  0%|          | 0/1 [00:00<?, ?it/s]\u001b[A\n",
      "100%|██████████| 1/1 [00:01<00:00,  1.99s/it]\u001b[A\n",
      "  4%|▍         | 24/545 [02:42<58:37,  6.75s/it]\n",
      "  0%|          | 0/1 [00:00<?, ?it/s]\u001b[A\n",
      "100%|██████████| 1/1 [00:01<00:00,  2.00s/it]\u001b[A\n",
      "  5%|▍         | 25/545 [02:46<57:41,  6.66s/it]\n",
      "  0%|          | 0/1 [00:00<?, ?it/s]\u001b[A\n",
      "100%|██████████| 1/1 [00:01<00:00,  1.93s/it]\u001b[A\n",
      "  5%|▍         | 26/545 [02:50<56:40,  6.55s/it]\n",
      "  0%|          | 0/1 [00:00<?, ?it/s]\u001b[A\n",
      "100%|██████████| 1/1 [00:01<00:00,  1.98s/it]\u001b[A\n",
      "  5%|▍         | 27/545 [02:54<55:55,  6.48s/it]\n",
      "  0%|          | 0/1 [00:00<?, ?it/s]\u001b[A\n",
      "100%|██████████| 1/1 [00:02<00:00,  2.04s/it]\u001b[A\n",
      "  5%|▌         | 28/545 [03:01<55:42,  6.47s/it]\n",
      "  0%|          | 0/1 [00:00<?, ?it/s]\u001b[A\n",
      "100%|██████████| 1/1 [00:02<00:00,  2.62s/it]\u001b[A\n",
      "  5%|▌         | 29/545 [03:05<55:09,  6.41s/it]\n",
      "  0%|          | 0/1 [00:00<?, ?it/s]\u001b[A\n",
      "100%|██████████| 1/1 [00:11<00:00, 11.25s/it]\u001b[A"
     ]
    }
   ],
   "source": [
    "scrapper(3600,4145)"
   ]
  },
  {
   "cell_type": "code",
   "execution_count": null,
   "metadata": {
    "collapsed": true
   },
   "outputs": [],
   "source": []
  },
  {
   "cell_type": "code",
   "execution_count": null,
   "metadata": {
    "collapsed": true
   },
   "outputs": [],
   "source": []
  },
  {
   "cell_type": "code",
   "execution_count": null,
   "metadata": {
    "collapsed": true
   },
   "outputs": [],
   "source": []
  }
 ],
 "metadata": {
  "kernelspec": {
   "display_name": "Python 3",
   "language": "python",
   "name": "python3"
  },
  "language_info": {
   "codemirror_mode": {
    "name": "ipython",
    "version": 3
   },
   "file_extension": ".py",
   "mimetype": "text/x-python",
   "name": "python",
   "nbconvert_exporter": "python",
   "pygments_lexer": "ipython3",
   "version": "3.6.3"
  }
 },
 "nbformat": 4,
 "nbformat_minor": 2
}
