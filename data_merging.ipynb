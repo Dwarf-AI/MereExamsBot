{
 "cells": [
  {
   "cell_type": "code",
   "execution_count": 120,
   "metadata": {},
   "outputs": [],
   "source": [
    "import pandas as pd\n",
    "import numpy as np"
   ]
  },
  {
   "cell_type": "code",
   "execution_count": 121,
   "metadata": {},
   "outputs": [],
   "source": [
    "gc = pd.read_csv('data/googledata_cleaned.csv',index_col=0)"
   ]
  },
  {
   "cell_type": "code",
   "execution_count": 122,
   "metadata": {},
   "outputs": [
    {
     "name": "stderr",
     "output_type": "stream",
     "text": [
      "/home/kunal_goyal/anaconda3/lib/python3.6/site-packages/IPython/core/interactiveshell.py:2728: DtypeWarning: Columns (14,15,16,17,18,19,20,21,22,23,24,25,26,40,42,43,44,47,48,49,50) have mixed types. Specify dtype option on import or set low_memory=False.\n",
      "  interactivity=interactivity, compiler=compiler, result=result)\n"
     ]
    }
   ],
   "source": [
    "me = pd.read_csv('notebooks/all_live_institution_cleaned.csv',index_col=0)"
   ]
  },
  {
   "cell_type": "code",
   "execution_count": 123,
   "metadata": {},
   "outputs": [
    {
     "data": {
      "text/html": [
       "<div>\n",
       "<style scoped>\n",
       "    .dataframe tbody tr th:only-of-type {\n",
       "        vertical-align: middle;\n",
       "    }\n",
       "\n",
       "    .dataframe tbody tr th {\n",
       "        vertical-align: top;\n",
       "    }\n",
       "\n",
       "    .dataframe thead th {\n",
       "        text-align: right;\n",
       "    }\n",
       "</style>\n",
       "<table border=\"1\" class=\"dataframe\">\n",
       "  <thead>\n",
       "    <tr style=\"text-align: right;\">\n",
       "      <th></th>\n",
       "      <th>0</th>\n",
       "      <th>1</th>\n",
       "      <th>2</th>\n",
       "      <th>3</th>\n",
       "      <th>4</th>\n",
       "      <th>5</th>\n",
       "      <th>6</th>\n",
       "      <th>7</th>\n",
       "      <th>8</th>\n",
       "      <th>9</th>\n",
       "      <th>10</th>\n",
       "      <th>11</th>\n",
       "      <th>12</th>\n",
       "      <th>13</th>\n",
       "      <th>14</th>\n",
       "      <th>null_count</th>\n",
       "    </tr>\n",
       "  </thead>\n",
       "  <tbody>\n",
       "    <tr>\n",
       "      <th>0</th>\n",
       "      <td>0</td>\n",
       "      <td>C100</td>\n",
       "      <td>ChIJM7k39sBPXDkRiU6Om4PD_e8</td>\n",
       "      <td>SPCE Campus, Visnagar, Gujarat 384315, India</td>\n",
       "      <td>02765 225 505</td>\n",
       "      <td>+91 2765 225 505</td>\n",
       "      <td>Manish Institute of Computer Studies</td>\n",
       "      <td>5.0</td>\n",
       "      <td>2</td>\n",
       "      <td>http://mcavisnagar.org/</td>\n",
       "      <td>https://maps.google.com/?cid=17293193114190499465</td>\n",
       "      <td>23.683418</td>\n",
       "      <td>72.547188</td>\n",
       "      <td>2018-04-03 08:02:41</td>\n",
       "      <td>2018-04-03 16:12:34</td>\n",
       "      <td>-1</td>\n",
       "    </tr>\n",
       "  </tbody>\n",
       "</table>\n",
       "</div>"
      ],
      "text/plain": [
       "   0     1                            2  \\\n",
       "0  0  C100  ChIJM7k39sBPXDkRiU6Om4PD_e8   \n",
       "\n",
       "                                              3              4  \\\n",
       "0  SPCE Campus, Visnagar, Gujarat 384315, India  02765 225 505   \n",
       "\n",
       "                  5                                     6    7  8  \\\n",
       "0  +91 2765 225 505  Manish Institute of Computer Studies  5.0  2   \n",
       "\n",
       "                         9                                                 10  \\\n",
       "0  http://mcavisnagar.org/  https://maps.google.com/?cid=17293193114190499465   \n",
       "\n",
       "          11         12                   13                   14  null_count  \n",
       "0  23.683418  72.547188  2018-04-03 08:02:41  2018-04-03 16:12:34          -1  "
      ]
     },
     "execution_count": 123,
     "metadata": {},
     "output_type": "execute_result"
    }
   ],
   "source": [
    "gc.head(1)"
   ]
  },
  {
   "cell_type": "code",
   "execution_count": 124,
   "metadata": {},
   "outputs": [
    {
     "data": {
      "text/html": [
       "<div>\n",
       "<style scoped>\n",
       "    .dataframe tbody tr th:only-of-type {\n",
       "        vertical-align: middle;\n",
       "    }\n",
       "\n",
       "    .dataframe tbody tr th {\n",
       "        vertical-align: top;\n",
       "    }\n",
       "\n",
       "    .dataframe thead th {\n",
       "        text-align: right;\n",
       "    }\n",
       "</style>\n",
       "<table border=\"1\" class=\"dataframe\">\n",
       "  <thead>\n",
       "    <tr style=\"text-align: right;\">\n",
       "      <th></th>\n",
       "      <th>cid</th>\n",
       "      <th>name</th>\n",
       "      <th>address_line1</th>\n",
       "      <th>address_line2</th>\n",
       "      <th>city</th>\n",
       "      <th>Affiliated_to_University</th>\n",
       "      <th>state</th>\n",
       "      <th>pin_code</th>\n",
       "      <th>area</th>\n",
       "      <th>website</th>\n",
       "      <th>...</th>\n",
       "      <th>connectivity_nmeict</th>\n",
       "      <th>no_of_books</th>\n",
       "      <th>no_of_journals</th>\n",
       "      <th>campus_friendly</th>\n",
       "      <th>grievance_redressal_mechanism</th>\n",
       "      <th>vigilance_cell</th>\n",
       "      <th>opportunity_cell</th>\n",
       "      <th>name_clean</th>\n",
       "      <th>city_clean</th>\n",
       "      <th>name_city_cleaned</th>\n",
       "    </tr>\n",
       "  </thead>\n",
       "  <tbody>\n",
       "    <tr>\n",
       "      <th>0</th>\n",
       "      <td>C100</td>\n",
       "      <td>Manish Institute of Computer Studies</td>\n",
       "      <td>S. K. Patel Campus, Kamana Char Rasta</td>\n",
       "      <td>Gandhinagar Ambaji State Highway</td>\n",
       "      <td>Visnagar-384315</td>\n",
       "      <td>Sankalchand Patel University, Visnagar</td>\n",
       "      <td>Gujarat</td>\n",
       "      <td>384315</td>\n",
       "      <td>2.5</td>\n",
       "      <td>www.mcavisnagar.org</td>\n",
       "      <td>...</td>\n",
       "      <td>False</td>\n",
       "      <td>8222.0</td>\n",
       "      <td>17.0</td>\n",
       "      <td>True</td>\n",
       "      <td>True</td>\n",
       "      <td>False</td>\n",
       "      <td>False</td>\n",
       "      <td>Manish Institute of Computer Studies</td>\n",
       "      <td>visnagar</td>\n",
       "      <td>Manish Institute of Computer Studies, Visnagar</td>\n",
       "    </tr>\n",
       "  </tbody>\n",
       "</table>\n",
       "<p>1 rows × 53 columns</p>\n",
       "</div>"
      ],
      "text/plain": [
       "    cid                                  name  \\\n",
       "0  C100  Manish Institute of Computer Studies   \n",
       "\n",
       "                           address_line1                     address_line2  \\\n",
       "0  S. K. Patel Campus, Kamana Char Rasta  Gandhinagar Ambaji State Highway   \n",
       "\n",
       "              city                Affiliated_to_University    state  pin_code  \\\n",
       "0  Visnagar-384315  Sankalchand Patel University, Visnagar  Gujarat    384315   \n",
       "\n",
       "   area              website                       ...                        \\\n",
       "0   2.5  www.mcavisnagar.org                       ...                         \n",
       "\n",
       "   connectivity_nmeict no_of_books no_of_journals campus_friendly  \\\n",
       "0                False      8222.0           17.0            True   \n",
       "\n",
       "  grievance_redressal_mechanism vigilance_cell opportunity_cell  \\\n",
       "0                          True          False            False   \n",
       "\n",
       "                             name_clean city_clean  \\\n",
       "0  Manish Institute of Computer Studies   visnagar   \n",
       "\n",
       "                                name_city_cleaned  \n",
       "0  Manish Institute of Computer Studies, Visnagar  \n",
       "\n",
       "[1 rows x 53 columns]"
      ]
     },
     "execution_count": 124,
     "metadata": {},
     "output_type": "execute_result"
    }
   ],
   "source": [
    "me.head(1)"
   ]
  },
  {
   "cell_type": "code",
   "execution_count": 125,
   "metadata": {},
   "outputs": [],
   "source": [
    "gc = gc.drop(['0','4','6','7','8','13','14','null_count'],1)"
   ]
  },
  {
   "cell_type": "code",
   "execution_count": 126,
   "metadata": {},
   "outputs": [],
   "source": [
    "gc.columns = ['g_cid','g_place_id','g_address','g_phone','g_website','g_map','g_lat','g_lng']"
   ]
  },
  {
   "cell_type": "code",
   "execution_count": 127,
   "metadata": {},
   "outputs": [],
   "source": [
    "merged = pd.merge(me,gc,'left',left_on='cid',right_on='g_cid')"
   ]
  },
  {
   "cell_type": "code",
   "execution_count": 128,
   "metadata": {},
   "outputs": [],
   "source": [
    "merged['address'] = merged['address_line1'] + ' ' + merged['address_line2']\n",
    "merged.drop(['address_line1','address_line2'],1,inplace=True)"
   ]
  },
  {
   "cell_type": "code",
   "execution_count": 129,
   "metadata": {},
   "outputs": [],
   "source": [
    "def add_pin(row):\n",
    "    row['pin_code'] = str(row['pin_code'])\n",
    "    if row['address'] and row['pin_code'] not in str(row['address']):\n",
    "        row['address'] = str(row['address'])\n",
    "        row['address'] += ', pin:' + (row['pin_code']) \n",
    "    else : row['address'] = row['pin_code']\n",
    "    return row    "
   ]
  },
  {
   "cell_type": "code",
   "execution_count": 130,
   "metadata": {},
   "outputs": [
    {
     "name": "stdout",
     "output_type": "stream",
     "text": [
      "7794\n"
     ]
    },
    {
     "data": {
      "text/plain": [
       "3582"
      ]
     },
     "execution_count": 130,
     "metadata": {},
     "output_type": "execute_result"
    }
   ],
   "source": [
    "print(merged.address.isnull().sum())\n",
    "merged.loc[merged.address.isnull(),'address'] = merged.loc[merged.address.isnull(),'g_address']\n",
    "merged.address.isnull().sum()"
   ]
  },
  {
   "cell_type": "code",
   "execution_count": 131,
   "metadata": {},
   "outputs": [],
   "source": [
    "merged = merged.apply(add_pin,axis=1)\n",
    "merged.drop('pin_code',1,inplace=True)\n",
    "merged.columns = ['cid', 'old_me_name', 'old_me_city', 'Affiliated_to_University', 'state',\n",
    "       'area', 'website', 'year_of_establishment', 'scholarship_id',\n",
    "       'management_type', 'playground', 'auditorium', 'theatre', 'library',\n",
    "       'laboratory', 'conference_hall', 'health_center',\n",
    "       'gymnasium_fitness_center', 'indoor_stadium', 'common_room',\n",
    "       'computer_center', 'cafeteria', 'guest_house', 'no_of_playgrounds',\n",
    "       'no_of_auditoriums', 'no_of_theatres', 'no_of_libraries',\n",
    "       'no_of_laboratories', 'no_of_conference_halls', 'no_of_health_centers',\n",
    "       'no_of_gymnasim_fitness_centers', 'no_of_indoor_stadiums',\n",
    "       'no_of_common_rooms', 'no_of_computer_centers', 'no_of_cafeteria',\n",
    "       'no_of_guest_houses', 'separate_room_for_girls',\n",
    "       'no_of_separate_rooms_for_girls', 'solar_power_generation',\n",
    "       'connectivity_nkn', 'connectivity_nmeict', 'no_of_books',\n",
    "       'no_of_journals', 'campus_friendly', 'grievance_redressal_mechanism',\n",
    "       'vigilance_cell', 'opportunity_cell', 'name_clean', 'city_clean',\n",
    "       'name_city_cleaned', 'g_cid', 'g_place_id', 'g_address', 'g_phone',\n",
    "       'g_website', 'g_map', 'g_lat', 'g_lng', 'address']\n"
   ]
  },
  {
   "cell_type": "code",
   "execution_count": 132,
   "metadata": {},
   "outputs": [],
   "source": [
    "merged.loc[merged.website.str.contains('^N',na=False),'website'] = np.nan"
   ]
  },
  {
   "cell_type": "code",
   "execution_count": 133,
   "metadata": {},
   "outputs": [],
   "source": [
    "merged.drop('scholarship_id',1,inplace=True)"
   ]
  },
  {
   "cell_type": "code",
   "execution_count": 134,
   "metadata": {},
   "outputs": [
    {
     "data": {
      "text/plain": [
       "8860"
      ]
     },
     "execution_count": 134,
     "metadata": {},
     "output_type": "execute_result"
    }
   ],
   "source": [
    "merged.loc[merged.website.isnull(),'website'] = merged.loc[merged.website.isnull(),'g_website']\n",
    "merged.website.isnull().sum()"
   ]
  },
  {
   "cell_type": "code",
   "execution_count": 140,
   "metadata": {},
   "outputs": [],
   "source": [
    "merged.drop(['g_website','g_address'],1,inplace=True)\n",
    "merged.drop(['g_cid'],1,inplace=True)\n",
    "merged.drop(['name_clean'],1,inplace=True)"
   ]
  },
  {
   "cell_type": "code",
   "execution_count": 141,
   "metadata": {},
   "outputs": [
    {
     "data": {
      "text/plain": [
       "Index(['cid', 'old_me_name', 'old_me_city', 'Affiliated_to_University',\n",
       "       'state', 'area', 'website', 'year_of_establishment', 'management_type',\n",
       "       'playground', 'auditorium', 'theatre', 'library', 'laboratory',\n",
       "       'conference_hall', 'health_center', 'gymnasium_fitness_center',\n",
       "       'indoor_stadium', 'common_room', 'computer_center', 'cafeteria',\n",
       "       'guest_house', 'no_of_playgrounds', 'no_of_auditoriums',\n",
       "       'no_of_theatres', 'no_of_libraries', 'no_of_laboratories',\n",
       "       'no_of_conference_halls', 'no_of_health_centers',\n",
       "       'no_of_gymnasim_fitness_centers', 'no_of_indoor_stadiums',\n",
       "       'no_of_common_rooms', 'no_of_computer_centers', 'no_of_cafeteria',\n",
       "       'no_of_guest_houses', 'separate_room_for_girls',\n",
       "       'no_of_separate_rooms_for_girls', 'solar_power_generation',\n",
       "       'connectivity_nkn', 'connectivity_nmeict', 'no_of_books',\n",
       "       'no_of_journals', 'campus_friendly', 'grievance_redressal_mechanism',\n",
       "       'vigilance_cell', 'opportunity_cell', 'city_clean', 'name_city_cleaned',\n",
       "       'g_place_id', 'g_phone', 'g_map', 'g_lat', 'g_lng', 'address'],\n",
       "      dtype='object')"
      ]
     },
     "execution_count": 141,
     "metadata": {},
     "output_type": "execute_result"
    }
   ],
   "source": [
    "merged.columns"
   ]
  },
  {
   "cell_type": "code",
   "execution_count": 142,
   "metadata": {},
   "outputs": [
    {
     "data": {
      "text/html": [
       "<div>\n",
       "<style scoped>\n",
       "    .dataframe tbody tr th:only-of-type {\n",
       "        vertical-align: middle;\n",
       "    }\n",
       "\n",
       "    .dataframe tbody tr th {\n",
       "        vertical-align: top;\n",
       "    }\n",
       "\n",
       "    .dataframe thead th {\n",
       "        text-align: right;\n",
       "    }\n",
       "</style>\n",
       "<table border=\"1\" class=\"dataframe\">\n",
       "  <thead>\n",
       "    <tr style=\"text-align: right;\">\n",
       "      <th></th>\n",
       "      <th>cid</th>\n",
       "      <th>old_me_name</th>\n",
       "      <th>old_me_city</th>\n",
       "      <th>Affiliated_to_University</th>\n",
       "      <th>state</th>\n",
       "      <th>area</th>\n",
       "      <th>website</th>\n",
       "      <th>year_of_establishment</th>\n",
       "      <th>management_type</th>\n",
       "      <th>playground</th>\n",
       "      <th>...</th>\n",
       "      <th>vigilance_cell</th>\n",
       "      <th>opportunity_cell</th>\n",
       "      <th>city_clean</th>\n",
       "      <th>name_city_cleaned</th>\n",
       "      <th>g_place_id</th>\n",
       "      <th>g_phone</th>\n",
       "      <th>g_map</th>\n",
       "      <th>g_lat</th>\n",
       "      <th>g_lng</th>\n",
       "      <th>address</th>\n",
       "    </tr>\n",
       "  </thead>\n",
       "  <tbody>\n",
       "    <tr>\n",
       "      <th>0</th>\n",
       "      <td>C100</td>\n",
       "      <td>Manish Institute of Computer Studies</td>\n",
       "      <td>Visnagar-384315</td>\n",
       "      <td>Sankalchand Patel University, Visnagar</td>\n",
       "      <td>Gujarat</td>\n",
       "      <td>2.5</td>\n",
       "      <td>www.mcavisnagar.org</td>\n",
       "      <td>2002.0</td>\n",
       "      <td>Private Un-Aided</td>\n",
       "      <td>True</td>\n",
       "      <td>...</td>\n",
       "      <td>False</td>\n",
       "      <td>False</td>\n",
       "      <td>visnagar</td>\n",
       "      <td>Manish Institute of Computer Studies, Visnagar</td>\n",
       "      <td>ChIJM7k39sBPXDkRiU6Om4PD_e8</td>\n",
       "      <td>+91 2765 225 505</td>\n",
       "      <td>https://maps.google.com/?cid=17293193114190499465</td>\n",
       "      <td>23.683418</td>\n",
       "      <td>72.547188</td>\n",
       "      <td>S. K. Patel Campus, Kamana Char Rasta Gandhina...</td>\n",
       "    </tr>\n",
       "    <tr>\n",
       "      <th>1</th>\n",
       "      <td>C1000</td>\n",
       "      <td>VIRANI SCI. &amp; SHRI YOGIJI MAHARAJ ARTS, COMMER...</td>\n",
       "      <td>Rajkot, Tehsil - Rajkot, Pin - 360005</td>\n",
       "      <td>Saurashtra University, Rajkot</td>\n",
       "      <td>Gujarat</td>\n",
       "      <td>23.5</td>\n",
       "      <td>www.vsc.edu.in</td>\n",
       "      <td>1968.0</td>\n",
       "      <td>Private Aided</td>\n",
       "      <td>True</td>\n",
       "      <td>...</td>\n",
       "      <td>True</td>\n",
       "      <td>False</td>\n",
       "      <td>rajkot</td>\n",
       "      <td>VIRANI SCI. &amp; SHRI YOGIJI MAHARAJ ARTS, COMMER...</td>\n",
       "      <td>ChIJqWdamTTKWTkRia51FA2_j4g</td>\n",
       "      <td>+91 281 256 2681</td>\n",
       "      <td>https://maps.google.com/?cid=9840293773726559881</td>\n",
       "      <td>22.281674</td>\n",
       "      <td>70.766811</td>\n",
       "      <td>ATMIYA Group of Institutions, Yogidham Gurukul...</td>\n",
       "    </tr>\n",
       "    <tr>\n",
       "      <th>2</th>\n",
       "      <td>C10000</td>\n",
       "      <td>SIDDARTHA COLLEGE OF EDUCATION,  JAMKHANDI</td>\n",
       "      <td>JAMKHANDI</td>\n",
       "      <td>Rani Channamma University, Belagavi</td>\n",
       "      <td>Karnataka</td>\n",
       "      <td>3.0</td>\n",
       "      <td>www.siddarthbedjkd.org</td>\n",
       "      <td>2005.0</td>\n",
       "      <td>Private Un-Aided</td>\n",
       "      <td>True</td>\n",
       "      <td>...</td>\n",
       "      <td>False</td>\n",
       "      <td>True</td>\n",
       "      <td>jamkhandi</td>\n",
       "      <td>SIDDARTHA COLLEGE OF EDUCATION,  JAMKHANDI</td>\n",
       "      <td>ChIJq6qqWis3xzsRtQ9CQoxdMVo</td>\n",
       "      <td>+91 83532 20183</td>\n",
       "      <td>https://maps.google.com/?cid=6499078594260766645</td>\n",
       "      <td>16.507270</td>\n",
       "      <td>75.277040</td>\n",
       "      <td>BIJAPUR ROAD KATATE NAGAR JAMKHANDI BIJAPUR RO...</td>\n",
       "    </tr>\n",
       "    <tr>\n",
       "      <th>3</th>\n",
       "      <td>C10002</td>\n",
       "      <td>VVS'S ARTS/COMM COLLEGE,  BIJAPUR</td>\n",
       "      <td>BIJAPUR-586104</td>\n",
       "      <td>Rani Channamma University, Belagavi</td>\n",
       "      <td>Karnataka</td>\n",
       "      <td>2.0</td>\n",
       "      <td>http://dvdarbar.ac.in/index.html</td>\n",
       "      <td>1994.0</td>\n",
       "      <td>Private Un-Aided</td>\n",
       "      <td>True</td>\n",
       "      <td>...</td>\n",
       "      <td>False</td>\n",
       "      <td>False</td>\n",
       "      <td>bijapur</td>\n",
       "      <td>VVS'S ARTS/COMM COLLEGE,  BIJAPUR</td>\n",
       "      <td>ChIJNYdaIHpVxjsRtedcrJPZR50</td>\n",
       "      <td>+91 83522 41635</td>\n",
       "      <td>https://maps.google.com/?cid=11333266215576332213</td>\n",
       "      <td>16.826949</td>\n",
       "      <td>75.723884</td>\n",
       "      <td>STATION ROAD DARBAR HIGH SCHOOL CAMPUS STATION...</td>\n",
       "    </tr>\n",
       "    <tr>\n",
       "      <th>4</th>\n",
       "      <td>C10004</td>\n",
       "      <td>GOVT. FIRST GRADE COLLEGE,  KOKATANOOR</td>\n",
       "      <td>Athani</td>\n",
       "      <td>Rani Channamma University, Belagavi</td>\n",
       "      <td>Karnataka</td>\n",
       "      <td>5.0</td>\n",
       "      <td>http://www.gfgc.kar.nic.in/mudalgi</td>\n",
       "      <td>2007.0</td>\n",
       "      <td>State Government</td>\n",
       "      <td>True</td>\n",
       "      <td>...</td>\n",
       "      <td>False</td>\n",
       "      <td>False</td>\n",
       "      <td>athani</td>\n",
       "      <td>GOVT. FIRST GRADE COLLEGE,  KOKATANOOR</td>\n",
       "      <td>ChIJu_fyDzG1wDsR0kSMAAxBoDY</td>\n",
       "      <td>+91 83342 50083</td>\n",
       "      <td>https://maps.google.com/?cid=3936217594126419154</td>\n",
       "      <td>16.333503</td>\n",
       "      <td>74.959638</td>\n",
       "      <td>At Post Kokatanoor  - 591 230  Tq: Athani At P...</td>\n",
       "    </tr>\n",
       "  </tbody>\n",
       "</table>\n",
       "<p>5 rows × 54 columns</p>\n",
       "</div>"
      ],
      "text/plain": [
       "      cid                                        old_me_name  \\\n",
       "0    C100               Manish Institute of Computer Studies   \n",
       "1   C1000  VIRANI SCI. & SHRI YOGIJI MAHARAJ ARTS, COMMER...   \n",
       "2  C10000         SIDDARTHA COLLEGE OF EDUCATION,  JAMKHANDI   \n",
       "3  C10002                  VVS'S ARTS/COMM COLLEGE,  BIJAPUR   \n",
       "4  C10004             GOVT. FIRST GRADE COLLEGE,  KOKATANOOR   \n",
       "\n",
       "                             old_me_city  \\\n",
       "0                        Visnagar-384315   \n",
       "1  Rajkot, Tehsil - Rajkot, Pin - 360005   \n",
       "2                              JAMKHANDI   \n",
       "3                         BIJAPUR-586104   \n",
       "4                                 Athani   \n",
       "\n",
       "                 Affiliated_to_University      state  area  \\\n",
       "0  Sankalchand Patel University, Visnagar    Gujarat   2.5   \n",
       "1           Saurashtra University, Rajkot    Gujarat  23.5   \n",
       "2     Rani Channamma University, Belagavi  Karnataka   3.0   \n",
       "3     Rani Channamma University, Belagavi  Karnataka   2.0   \n",
       "4     Rani Channamma University, Belagavi  Karnataka   5.0   \n",
       "\n",
       "                              website  year_of_establishment  \\\n",
       "0                 www.mcavisnagar.org                 2002.0   \n",
       "1                      www.vsc.edu.in                 1968.0   \n",
       "2              www.siddarthbedjkd.org                 2005.0   \n",
       "3    http://dvdarbar.ac.in/index.html                 1994.0   \n",
       "4  http://www.gfgc.kar.nic.in/mudalgi                 2007.0   \n",
       "\n",
       "    management_type playground  \\\n",
       "0  Private Un-Aided       True   \n",
       "1     Private Aided       True   \n",
       "2  Private Un-Aided       True   \n",
       "3  Private Un-Aided       True   \n",
       "4  State Government       True   \n",
       "\n",
       "                         ...                         vigilance_cell  \\\n",
       "0                        ...                                  False   \n",
       "1                        ...                                   True   \n",
       "2                        ...                                  False   \n",
       "3                        ...                                  False   \n",
       "4                        ...                                  False   \n",
       "\n",
       "  opportunity_cell city_clean  \\\n",
       "0            False   visnagar   \n",
       "1            False     rajkot   \n",
       "2             True  jamkhandi   \n",
       "3            False    bijapur   \n",
       "4            False     athani   \n",
       "\n",
       "                                   name_city_cleaned  \\\n",
       "0     Manish Institute of Computer Studies, Visnagar   \n",
       "1  VIRANI SCI. & SHRI YOGIJI MAHARAJ ARTS, COMMER...   \n",
       "2         SIDDARTHA COLLEGE OF EDUCATION,  JAMKHANDI   \n",
       "3                  VVS'S ARTS/COMM COLLEGE,  BIJAPUR   \n",
       "4             GOVT. FIRST GRADE COLLEGE,  KOKATANOOR   \n",
       "\n",
       "                    g_place_id           g_phone  \\\n",
       "0  ChIJM7k39sBPXDkRiU6Om4PD_e8  +91 2765 225 505   \n",
       "1  ChIJqWdamTTKWTkRia51FA2_j4g  +91 281 256 2681   \n",
       "2  ChIJq6qqWis3xzsRtQ9CQoxdMVo   +91 83532 20183   \n",
       "3  ChIJNYdaIHpVxjsRtedcrJPZR50   +91 83522 41635   \n",
       "4  ChIJu_fyDzG1wDsR0kSMAAxBoDY   +91 83342 50083   \n",
       "\n",
       "                                               g_map      g_lat      g_lng  \\\n",
       "0  https://maps.google.com/?cid=17293193114190499465  23.683418  72.547188   \n",
       "1   https://maps.google.com/?cid=9840293773726559881  22.281674  70.766811   \n",
       "2   https://maps.google.com/?cid=6499078594260766645  16.507270  75.277040   \n",
       "3  https://maps.google.com/?cid=11333266215576332213  16.826949  75.723884   \n",
       "4   https://maps.google.com/?cid=3936217594126419154  16.333503  74.959638   \n",
       "\n",
       "                                             address  \n",
       "0  S. K. Patel Campus, Kamana Char Rasta Gandhina...  \n",
       "1  ATMIYA Group of Institutions, Yogidham Gurukul...  \n",
       "2  BIJAPUR ROAD KATATE NAGAR JAMKHANDI BIJAPUR RO...  \n",
       "3  STATION ROAD DARBAR HIGH SCHOOL CAMPUS STATION...  \n",
       "4  At Post Kokatanoor  - 591 230  Tq: Athani At P...  \n",
       "\n",
       "[5 rows x 54 columns]"
      ]
     },
     "execution_count": 142,
     "metadata": {},
     "output_type": "execute_result"
    }
   ],
   "source": []
  },
  {
   "cell_type": "code",
   "execution_count": 108,
   "metadata": {},
   "outputs": [
    {
     "data": {
      "text/plain": [
       "0"
      ]
     },
     "execution_count": 108,
     "metadata": {},
     "output_type": "execute_result"
    }
   ],
   "source": []
  },
  {
   "cell_type": "code",
   "execution_count": null,
   "metadata": {},
   "outputs": [],
   "source": []
  }
 ],
 "metadata": {
  "kernelspec": {
   "display_name": "Python 3",
   "language": "python",
   "name": "python3"
  },
  "language_info": {
   "codemirror_mode": {
    "name": "ipython",
    "version": 3
   },
   "file_extension": ".py",
   "mimetype": "text/x-python",
   "name": "python",
   "nbconvert_exporter": "python",
   "pygments_lexer": "ipython3",
   "version": "3.6.3"
  }
 },
 "nbformat": 4,
 "nbformat_minor": 2
}
