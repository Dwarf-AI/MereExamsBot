{
 "cells": [
  {
   "cell_type": "code",
   "execution_count": 120,
   "metadata": {},
   "outputs": [],
   "source": [
    "import pandas as pd\n",
    "import numpy as np"
   ]
  },
  {
   "cell_type": "code",
   "execution_count": 121,
   "metadata": {},
   "outputs": [],
   "source": [
    "gc = pd.read_csv('data/googledata_cleaned.csv',index_col=0)"
   ]
  },
  {
   "cell_type": "code",
   "execution_count": 122,
   "metadata": {},
   "outputs": [
    {
     "name": "stderr",
     "output_type": "stream",
     "text": [
      "/home/kunal_goyal/anaconda3/lib/python3.6/site-packages/IPython/core/interactiveshell.py:2728: DtypeWarning: Columns (14,15,16,17,18,19,20,21,22,23,24,25,26,40,42,43,44,47,48,49,50) have mixed types. Specify dtype option on import or set low_memory=False.\n",
      "  interactivity=interactivity, compiler=compiler, result=result)\n"
     ]
    }
   ],
   "source": [
    "me = pd.read_csv('notebooks/all_live_institution_cleaned.csv',index_col=0)"
   ]
  },
  {
   "cell_type": "code",
   "execution_count": 123,
   "metadata": {},
   "outputs": [
    {
     "data": {
      "text/html": [
       "<div>\n",
       "<style scoped>\n",
       "    .dataframe tbody tr th:only-of-type {\n",
       "        vertical-align: middle;\n",
       "    }\n",
       "\n",
       "    .dataframe tbody tr th {\n",
       "        vertical-align: top;\n",
       "    }\n",
       "\n",
       "    .dataframe thead th {\n",
       "        text-align: right;\n",
       "    }\n",
       "</style>\n",
       "<table border=\"1\" class=\"dataframe\">\n",
       "  <thead>\n",
       "    <tr style=\"text-align: right;\">\n",
       "      <th></th>\n",
       "      <th>0</th>\n",
       "      <th>1</th>\n",
       "      <th>2</th>\n",
       "      <th>3</th>\n",
       "      <th>4</th>\n",
       "      <th>5</th>\n",
       "      <th>6</th>\n",
       "      <th>7</th>\n",
       "      <th>8</th>\n",
       "      <th>9</th>\n",
       "      <th>10</th>\n",
       "      <th>11</th>\n",
       "      <th>12</th>\n",
       "      <th>13</th>\n",
       "      <th>14</th>\n",
       "      <th>null_count</th>\n",
       "    </tr>\n",
       "  </thead>\n",
       "  <tbody>\n",
       "    <tr>\n",
       "      <th>0</th>\n",
       "      <td>0</td>\n",
       "      <td>C100</td>\n",
       "      <td>ChIJM7k39sBPXDkRiU6Om4PD_e8</td>\n",
       "      <td>SPCE Campus, Visnagar, Gujarat 384315, India</td>\n",
       "      <td>02765 225 505</td>\n",
       "      <td>+91 2765 225 505</td>\n",
       "      <td>Manish Institute of Computer Studies</td>\n",
       "      <td>5.0</td>\n",
       "      <td>2</td>\n",
       "      <td>http://mcavisnagar.org/</td>\n",
       "      <td>https://maps.google.com/?cid=17293193114190499465</td>\n",
       "      <td>23.683418</td>\n",
       "      <td>72.547188</td>\n",
       "      <td>2018-04-03 08:02:41</td>\n",
       "      <td>2018-04-03 16:12:34</td>\n",
       "      <td>-1</td>\n",
       "    </tr>\n",
       "  </tbody>\n",
       "</table>\n",
       "</div>"
      ],
      "text/plain": [
       "   0     1                            2  \\\n",
       "0  0  C100  ChIJM7k39sBPXDkRiU6Om4PD_e8   \n",
       "\n",
       "                                              3              4  \\\n",
       "0  SPCE Campus, Visnagar, Gujarat 384315, India  02765 225 505   \n",
       "\n",
       "                  5                                     6    7  8  \\\n",
       "0  +91 2765 225 505  Manish Institute of Computer Studies  5.0  2   \n",
       "\n",
       "                         9                                                 10  \\\n",
       "0  http://mcavisnagar.org/  https://maps.google.com/?cid=17293193114190499465   \n",
       "\n",
       "          11         12                   13                   14  null_count  \n",
       "0  23.683418  72.547188  2018-04-03 08:02:41  2018-04-03 16:12:34          -1  "
      ]
     },
     "execution_count": 123,
     "metadata": {},
     "output_type": "execute_result"
    }
   ],
   "source": [
    "gc.head(1)"
   ]
  },
  {
   "cell_type": "code",
   "execution_count": 124,
   "metadata": {},
   "outputs": [
    {
     "data": {
      "text/html": [
       "<div>\n",
       "<style scoped>\n",
       "    .dataframe tbody tr th:only-of-type {\n",
       "        vertical-align: middle;\n",
       "    }\n",
       "\n",
       "    .dataframe tbody tr th {\n",
       "        vertical-align: top;\n",
       "    }\n",
       "\n",
       "    .dataframe thead th {\n",
       "        text-align: right;\n",
       "    }\n",
       "</style>\n",
       "<table border=\"1\" class=\"dataframe\">\n",
       "  <thead>\n",
       "    <tr style=\"text-align: right;\">\n",
       "      <th></th>\n",
       "      <th>cid</th>\n",
       "      <th>name</th>\n",
       "      <th>address_line1</th>\n",
       "      <th>address_line2</th>\n",
       "      <th>city</th>\n",
       "      <th>Affiliated_to_University</th>\n",
       "      <th>state</th>\n",
       "      <th>pin_code</th>\n",
       "      <th>area</th>\n",
       "      <th>website</th>\n",
       "      <th>...</th>\n",
       "      <th>connectivity_nmeict</th>\n",
       "      <th>no_of_books</th>\n",
       "      <th>no_of_journals</th>\n",
       "      <th>campus_friendly</th>\n",
       "      <th>grievance_redressal_mechanism</th>\n",
       "      <th>vigilance_cell</th>\n",
       "      <th>opportunity_cell</th>\n",
       "      <th>name_clean</th>\n",
       "      <th>city_clean</th>\n",
       "      <th>name_city_cleaned</th>\n",
       "    </tr>\n",
       "  </thead>\n",
       "  <tbody>\n",
       "    <tr>\n",
       "      <th>0</th>\n",
       "      <td>C100</td>\n",
       "      <td>Manish Institute of Computer Studies</td>\n",
       "      <td>S. K. Patel Campus, Kamana Char Rasta</td>\n",
       "      <td>Gandhinagar Ambaji State Highway</td>\n",
       "      <td>Visnagar-384315</td>\n",
       "      <td>Sankalchand Patel University, Visnagar</td>\n",
       "      <td>Gujarat</td>\n",
       "      <td>384315</td>\n",
       "      <td>2.5</td>\n",
       "      <td>www.mcavisnagar.org</td>\n",
       "      <td>...</td>\n",
       "      <td>False</td>\n",
       "      <td>8222.0</td>\n",
       "      <td>17.0</td>\n",
       "      <td>True</td>\n",
       "      <td>True</td>\n",
       "      <td>False</td>\n",
       "      <td>False</td>\n",
       "      <td>Manish Institute of Computer Studies</td>\n",
       "      <td>visnagar</td>\n",
       "      <td>Manish Institute of Computer Studies, Visnagar</td>\n",
       "    </tr>\n",
       "  </tbody>\n",
       "</table>\n",
       "<p>1 rows × 53 columns</p>\n",
       "</div>"
      ],
      "text/plain": [
       "    cid                                  name  \\\n",
       "0  C100  Manish Institute of Computer Studies   \n",
       "\n",
       "                           address_line1                     address_line2  \\\n",
       "0  S. K. Patel Campus, Kamana Char Rasta  Gandhinagar Ambaji State Highway   \n",
       "\n",
       "              city                Affiliated_to_University    state  pin_code  \\\n",
       "0  Visnagar-384315  Sankalchand Patel University, Visnagar  Gujarat    384315   \n",
       "\n",
       "   area              website                       ...                        \\\n",
       "0   2.5  www.mcavisnagar.org                       ...                         \n",
       "\n",
       "   connectivity_nmeict no_of_books no_of_journals campus_friendly  \\\n",
       "0                False      8222.0           17.0            True   \n",
       "\n",
       "  grievance_redressal_mechanism vigilance_cell opportunity_cell  \\\n",
       "0                          True          False            False   \n",
       "\n",
       "                             name_clean city_clean  \\\n",
       "0  Manish Institute of Computer Studies   visnagar   \n",
       "\n",
       "                                name_city_cleaned  \n",
       "0  Manish Institute of Computer Studies, Visnagar  \n",
       "\n",
       "[1 rows x 53 columns]"
      ]
     },
     "execution_count": 124,
     "metadata": {},
     "output_type": "execute_result"
    }
   ],
   "source": [
    "me.head(1)"
   ]
  },
  {
   "cell_type": "code",
   "execution_count": 125,
   "metadata": {},
   "outputs": [],
   "source": [
    "gc = gc.drop(['0','4','6','7','8','13','14','null_count'],1)"
   ]
  },
  {
   "cell_type": "code",
   "execution_count": 126,
   "metadata": {},
   "outputs": [],
   "source": [
    "gc.columns = ['g_cid','g_place_id','g_address','g_phone','g_website','g_map','g_lat','g_lng']"
   ]
  },
  {
   "cell_type": "code",
   "execution_count": 127,
   "metadata": {},
   "outputs": [],
   "source": [
    "merged = pd.merge(me,gc,'left',left_on='cid',right_on='g_cid')"
   ]
  },
  {
   "cell_type": "code",
   "execution_count": 128,
   "metadata": {},
   "outputs": [],
   "source": [
    "merged['address'] = merged['address_line1'] + ' ' + merged['address_line2']\n",
    "merged.drop(['address_line1','address_line2'],1,inplace=True)"
   ]
  },
  {
   "cell_type": "code",
   "execution_count": 129,
   "metadata": {},
   "outputs": [],
   "source": [
    "def add_pin(row):\n",
    "    row['pin_code'] = str(row['pin_code'])\n",
    "    if row['address'] and row['pin_code'] not in str(row['address']):\n",
    "        row['address'] = str(row['address'])\n",
    "        row['address'] += ', pin:' + (row['pin_code']) \n",
    "    else : row['address'] = row['pin_code']\n",
    "    return row    "
   ]
  },
  {
   "cell_type": "code",
   "execution_count": 130,
   "metadata": {},
   "outputs": [
    {
     "name": "stdout",
     "output_type": "stream",
     "text": [
      "7794\n"
     ]
    },
    {
     "data": {
      "text/plain": [
       "3582"
      ]
     },
     "execution_count": 130,
     "metadata": {},
     "output_type": "execute_result"
    }
   ],
   "source": [
    "print(merged.address.isnull().sum())\n",
    "merged.loc[merged.address.isnull(),'address'] = merged.loc[merged.address.isnull(),'g_address']\n",
    "merged.address.isnull().sum()"
   ]
  },
  {
   "cell_type": "code",
   "execution_count": 131,
   "metadata": {},
   "outputs": [],
   "source": [
    "merged = merged.apply(add_pin,axis=1)\n",
    "merged.drop('pin_code',1,inplace=True)\n",
    "merged.columns = ['cid', 'old_me_name', 'old_me_city', 'Affiliated_to_University', 'state',\n",
    "       'area', 'website', 'year_of_establishment', 'scholarship_id',\n",
    "       'management_type', 'playground', 'auditorium', 'theatre', 'library',\n",
    "       'laboratory', 'conference_hall', 'health_center',\n",
    "       'gymnasium_fitness_center', 'indoor_stadium', 'common_room',\n",
    "       'computer_center', 'cafeteria', 'guest_house', 'no_of_playgrounds',\n",
    "       'no_of_auditoriums', 'no_of_theatres', 'no_of_libraries',\n",
    "       'no_of_laboratories', 'no_of_conference_halls', 'no_of_health_centers',\n",
    "       'no_of_gymnasim_fitness_centers', 'no_of_indoor_stadiums',\n",
    "       'no_of_common_rooms', 'no_of_computer_centers', 'no_of_cafeteria',\n",
    "       'no_of_guest_houses', 'separate_room_for_girls',\n",
    "       'no_of_separate_rooms_for_girls', 'solar_power_generation',\n",
    "       'connectivity_nkn', 'connectivity_nmeict', 'no_of_books',\n",
    "       'no_of_journals', 'campus_friendly', 'grievance_redressal_mechanism',\n",
    "       'vigilance_cell', 'opportunity_cell', 'name_clean', 'city_clean',\n",
    "       'name_city_cleaned', 'g_cid', 'g_place_id', 'g_address', 'g_phone',\n",
    "       'g_website', 'g_map', 'g_lat', 'g_lng', 'address']\n"
   ]
  },
  {
   "cell_type": "code",
   "execution_count": 132,
   "metadata": {},
   "outputs": [],
   "source": [
    "merged.loc[merged.website.str.contains('^N',na=False),'website'] = np.nan"
   ]
  },
  {
   "cell_type": "code",
   "execution_count": 133,
   "metadata": {},
   "outputs": [],
   "source": [
    "merged.drop('scholarship_id',1,inplace=True)"
   ]
  },
  {
   "cell_type": "code",
   "execution_count": 134,
   "metadata": {},
   "outputs": [
    {
     "data": {
      "text/plain": [
       "8860"
      ]
     },
     "execution_count": 134,
     "metadata": {},
     "output_type": "execute_result"
    }
   ],
   "source": [
    "merged.loc[merged.website.isnull(),'website'] = merged.loc[merged.website.isnull(),'g_website']\n",
    "merged.website.isnull().sum()"
   ]
  },
  {
   "cell_type": "code",
   "execution_count": 140,
   "metadata": {},
   "outputs": [],
   "source": [
    "merged.drop(['g_website','g_address'],1,inplace=True)\n",
    "merged.drop(['g_cid'],1,inplace=True)\n",
    "merged.drop(['name_clean'],1,inplace=True)"
   ]
  },
  {
   "cell_type": "code",
   "execution_count": 141,
   "metadata": {},
   "outputs": [
    {
     "data": {
      "text/plain": [
       "Index(['cid', 'old_me_name', 'old_me_city', 'Affiliated_to_University',\n",
       "       'state', 'area', 'website', 'year_of_establishment', 'management_type',\n",
       "       'playground', 'auditorium', 'theatre', 'library', 'laboratory',\n",
       "       'conference_hall', 'health_center', 'gymnasium_fitness_center',\n",
       "       'indoor_stadium', 'common_room', 'computer_center', 'cafeteria',\n",
       "       'guest_house', 'no_of_playgrounds', 'no_of_auditoriums',\n",
       "       'no_of_theatres', 'no_of_libraries', 'no_of_laboratories',\n",
       "       'no_of_conference_halls', 'no_of_health_centers',\n",
       "       'no_of_gymnasim_fitness_centers', 'no_of_indoor_stadiums',\n",
       "       'no_of_common_rooms', 'no_of_computer_centers', 'no_of_cafeteria',\n",
       "       'no_of_guest_houses', 'separate_room_for_girls',\n",
       "       'no_of_separate_rooms_for_girls', 'solar_power_generation',\n",
       "       'connectivity_nkn', 'connectivity_nmeict', 'no_of_books',\n",
       "       'no_of_journals', 'campus_friendly', 'grievance_redressal_mechanism',\n",
       "       'vigilance_cell', 'opportunity_cell', 'city_clean', 'name_city_cleaned',\n",
       "       'g_place_id', 'g_phone', 'g_map', 'g_lat', 'g_lng', 'address'],\n",
       "      dtype='object')"
      ]
     },
     "execution_count": 141,
     "metadata": {},
     "output_type": "execute_result"
    }
   ],
   "source": [
    "merged.columns"
   ]
  },
  {
   "cell_type": "code",
   "execution_count": 145,
   "metadata": {},
   "outputs": [],
   "source": [
    "merged.columns = ['cid', 'old_me_name', 'old_me_city', 'Affiliated_to_University',\n",
    "       'state', 'area', 'website', 'year_of_establishment', 'management_type',\n",
    "       'playground', 'auditorium', 'theatre', 'library', 'laboratory',\n",
    "       'conference_hall', 'health_center', 'gymnasium_fitness_center',\n",
    "       'indoor_stadium', 'common_room', 'computer_center', 'cafeteria',\n",
    "       'guest_house', 'no_of_playgrounds', 'no_of_auditoriums',\n",
    "       'no_of_theatres', 'no_of_libraries', 'no_of_laboratories',\n",
    "       'no_of_conference_halls', 'no_of_health_centers',\n",
    "       'no_of_gymnasim_fitness_centers', 'no_of_indoor_stadiums',\n",
    "       'no_of_common_rooms', 'no_of_computer_centers', 'no_of_cafeteria',\n",
    "       'no_of_guest_houses', 'separate_room_for_girls',\n",
    "       'no_of_separate_rooms_for_girls', 'solar_power_generation',\n",
    "       'connectivity_nkn', 'connectivity_nmeict', 'no_of_books',\n",
    "       'no_of_journals', 'campus_friendly', 'grievance_redressal_mechanism',\n",
    "       'vigilance_cell', 'opportunity_cell', 'city', 'name',\n",
    "       'place_id', 'phone', 'g_map', 'lat', 'lng', 'address']"
   ]
  },
  {
   "cell_type": "code",
   "execution_count": 146,
   "metadata": {},
   "outputs": [],
   "source": [
    "merged.to_csv('all_institution_merged.csv')"
   ]
  },
  {
   "cell_type": "code",
   "execution_count": 161,
   "metadata": {},
   "outputs": [
    {
     "name": "stderr",
     "output_type": "stream",
     "text": [
      "/home/kunal_goyal/anaconda3/lib/python3.6/site-packages/IPython/core/interactiveshell.py:2728: DtypeWarning: Columns (10,11,12,13,14,15,16,17,18,19,20,21,22,36,38,39,40,43,44,45,46) have mixed types. Specify dtype option on import or set low_memory=False.\n",
      "  interactivity=interactivity, compiler=compiler, result=result)\n"
     ]
    }
   ],
   "source": [
    "college_table = pd.read_csv('all_institution_merged.csv',index_col=0)"
   ]
  },
  {
   "cell_type": "code",
   "execution_count": 169,
   "metadata": {},
   "outputs": [],
   "source": [
    "row = college_table.loc[college_table.cid == 'U100']"
   ]
  },
  {
   "cell_type": "code",
   "execution_count": 174,
   "metadata": {},
   "outputs": [
    {
     "name": "stdout",
     "output_type": "stream",
     "text": [
      "46381    ChIJtV8FufYdDTkRwKMeayYLwYE\n",
      "Name: place_id, dtype: object\n"
     ]
    }
   ],
   "source": [
    "print(row.place_id)"
   ]
  },
  {
   "cell_type": "code",
   "execution_count": null,
   "metadata": {},
   "outputs": [],
   "source": []
  }
 ],
 "metadata": {
  "kernelspec": {
   "display_name": "Python 3",
   "language": "python",
   "name": "python3"
  },
  "language_info": {
   "codemirror_mode": {
    "name": "ipython",
    "version": 3
   },
   "file_extension": ".py",
   "mimetype": "text/x-python",
   "name": "python",
   "nbconvert_exporter": "python",
   "pygments_lexer": "ipython3",
   "version": "3.6.3"
  }
 },
 "nbformat": 4,
 "nbformat_minor": 2
}
