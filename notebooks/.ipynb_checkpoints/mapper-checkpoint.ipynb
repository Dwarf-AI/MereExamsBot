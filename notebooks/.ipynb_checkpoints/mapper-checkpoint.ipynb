{
 "cells": [
  {
   "cell_type": "code",
   "execution_count": 1,
   "metadata": {},
   "outputs": [],
   "source": [
    "import re\n",
    "from collections import defaultdict\n",
    "import pandas as pd\n",
    "from tqdm import  tqdm\n",
    "from threading import Thread as th\n",
    "from time import time"
   ]
  },
  {
   "cell_type": "code",
   "execution_count": 3,
   "metadata": {},
   "outputs": [
    {
     "data": {
      "text/plain": [
       "'hello.com'"
      ]
     },
     "execution_count": 3,
     "metadata": {},
     "output_type": "execute_result"
    }
   ],
   "source": [
    "def web(w):\n",
    "    w = re.sub(r'www.', '', w)\n",
    "    w = re.sub('https?://', '', w)\n",
    "    return re.sub('/.*', '', w)\n",
    "\n",
    "web('https://www.hello.com/world/yeah')"
   ]
  },
  {
   "cell_type": "markdown",
   "metadata": {},
   "source": [
    "#### To get list of words in college name"
   ]
  },
  {
   "cell_type": "code",
   "execution_count": 4,
   "metadata": {},
   "outputs": [
    {
     "data": {
      "text/plain": [
       "['rimt', 'engineering', 'technology', 'mandi', 'gobindgarh']"
      ]
     },
     "execution_count": 4,
     "metadata": {},
     "output_type": "execute_result"
    }
   ],
   "source": [
    "to_remove = ['gov\\S*\\s?', 'univ\\S*\\s?', ',*' , 'coll\\S*\\s?']\n",
    "pattern = re.compile('|'.join(to_remove))\n",
    "def col_name(colg):\n",
    "    colg = re.sub('-|_|&', '', colg)\n",
    "    colg = re.sub('of |and |inst\\S*\\s?', '', colg)\n",
    "    colg = re.sub('eng\\S*\\s', 'engineering ', colg)\n",
    "    colg = re.sub('tech\\S*\\s', 'technology ', colg)\n",
    "    colg = pattern.subn('', colg)[0].lower().split(' ')\n",
    "    return list(filter(None, colg))\n",
    "\n",
    "col_name('rimt- institute of engg. and technology, mandi gobindgarh')"
   ]
  },
  {
   "cell_type": "code",
   "execution_count": 5,
   "metadata": {},
   "outputs": [],
   "source": [
    "def lower(s):\n",
    "    return s.lower()"
   ]
  },
  {
   "cell_type": "code",
   "execution_count": 6,
   "metadata": {},
   "outputs": [],
   "source": [
    "def same(row1, row2):\n",
    "    points = 0\n",
    "    \n",
    "#     try:\n",
    "    col1 = row1['name_list']\n",
    "    col2 = row2['Name_list']\n",
    "    if col1[0] == col2[0]:\n",
    "        points += 2\n",
    "    points = len(set(col1).intersection(col2)) / len(set(col1).union(col2))  * 5 + points\n",
    "    points = min(6, points)\n",
    "#     except:\n",
    "#         print(points)\n",
    "\n",
    "#     try:\n",
    "    if not row2['City'] == 'nan':\n",
    "        if row1['city'][:4].lower() == row2['City'][:4].lower(): points += 5\n",
    "#     except:\n",
    "#         print('city')\n",
    "\n",
    "#     try:\n",
    "    if not row1['state'] == 'nan':\n",
    "        if row1['state'][:min(4, len(row1['state']))].lower() == row2['State'][:min(4, len(row2['State']))].lower(): points += 2\n",
    "#     except:\n",
    "#         print('state')\n",
    "\n",
    "#     try:\n",
    "    if not row2['Estd'] == 'nan' and not row1['estb'] == 'nan': \n",
    "        if row1['estb'] == row2['Estd']: points += 4\n",
    "#     except:\n",
    "#         print('estd')\n",
    "\n",
    "#     try:\n",
    "    if not row1['website'] == 'nan' and not row2['website'] == 'nan':\n",
    "        if row1['website'] == row2['website']: points += 4\n",
    "#     except:\n",
    "#         print('web')\n",
    "\n",
    "    if points > 14: return (True, points)\n",
    "    else: return (False, points)"
   ]
  },
  {
   "cell_type": "code",
   "execution_count": 8,
   "metadata": {},
   "outputs": [],
   "source": [
    "def mapper(start, end):\n",
    "    global mapp, remark\n",
    "    start_time = time()\n",
    "    \n",
    "    c360 = pd.read_csv('../all_colleges_car360.csv').astype(str)\n",
    "    me = pd.read_csv('../all_colleges_mereexams.csv').astype(str)[start:end]\n",
    "    c360[['State', 'City', 'Name']] = c360[['State', 'City', 'Name']].applymap(lower)\n",
    "    me[['state', 'city', 'name']] = me[['state', 'city', 'name']].applymap(lower)\n",
    "    c360.sort_values(['Name'], inplace = True)\n",
    "    me.sort_values(['name'], inplace = True)\n",
    "    c360['website'] = c360['website'].apply(web)\n",
    "    me['website'] = me['website'].apply(web)\n",
    "    print('Halfway of data loading')\n",
    "    c360['Name_list'] = c360['Name'].apply(col_name)\n",
    "    me['name_list'] = me['name'].apply(col_name)\n",
    "    me['estb'] = me['year_of_establishment']\n",
    "    me.drop(['year_of_establishment'], axis = 1, inplace=True)\n",
    "    \n",
    "    end_time = time()\n",
    "    print(f'data load completed in {end_time-start_time} s')\n",
    "    for index, row1 in tqdm(me.iterrows()):\n",
    "        points = 0\n",
    "        for index2, row2 in c360.iterrows():\n",
    "            if matched[index2]: continue\n",
    "            (match, p)  = same(row1, row2)\n",
    "            if match: \n",
    "                mapp.append([row1['name'] ,row2['Name']])\n",
    "                matched[index2] = True\n",
    "                break\n",
    "            elif p > points:\n",
    "                points = p\n",
    "                name = row2['Name']\n",
    "        if points > 11:\n",
    "            remark.append([row1['name'] , name])"
   ]
  },
  {
   "cell_type": "code",
   "execution_count": null,
   "metadata": {},
   "outputs": [],
   "source": [
    "t = [0] * 9\n",
    "mapp = []\n",
    "remark = []\n",
    "matched = [False] * 18465\n",
    "\n",
    "for i in range(8):\n",
    "    t[i] = th(target = mapper, args = (i*5000, (i+1) * 5000))\n",
    "t[8] = th(target = mapper, args = (40000, 42908))\n",
    "\n",
    "for i in range(8):\n",
    "    t[i].start()\n",
    "t[8].start()\n",
    "\n",
    "for i in range(8):\n",
    "    t[i].join()\n",
    "t[8].join()\n",
    "print('script successful')"
   ]
  },
  {
   "cell_type": "code",
   "execution_count": 9,
   "metadata": {},
   "outputs": [
    {
     "name": "stderr",
     "output_type": "stream",
     "text": [
      "/home/ubuntu/anaconda3/lib/python3.6/site-packages/IPython/core/interactiveshell.py:2909: DtypeWarning: Columns (7) have mixed types. Specify dtype option on import or set low_memory=False.\n",
      "  if self.run_code(code, result):\n"
     ]
    },
    {
     "name": "stdout",
     "output_type": "stream",
     "text": [
      "Halfway of data loading\n"
     ]
    },
    {
     "name": "stderr",
     "output_type": "stream",
     "text": [
      "0it [00:00, ?it/s]"
     ]
    },
    {
     "name": "stdout",
     "output_type": "stream",
     "text": [
      "data load completed in 1.6919834613800049 s\n"
     ]
    },
    {
     "name": "stderr",
     "output_type": "stream",
     "text": [
      "50it [03:32,  4.25s/it]\n"
     ]
    }
   ],
   "source": [
    "mapp = []\n",
    "remark = []\n",
    "matched = [False] * 18465\n",
    "mapper(100, 150)"
   ]
  },
  {
   "cell_type": "code",
   "execution_count": 1,
   "metadata": {},
   "outputs": [
    {
     "ename": "NameError",
     "evalue": "name 'remark' is not defined",
     "output_type": "error",
     "traceback": [
      "\u001b[0;31m-----------------------------------------------------------------------\u001b[0m",
      "\u001b[0;31mNameError\u001b[0m                             Traceback (most recent call last)",
      "\u001b[0;32m<ipython-input-1-e241a860da03>\u001b[0m in \u001b[0;36m<module>\u001b[0;34m()\u001b[0m\n\u001b[0;32m----> 1\u001b[0;31m \u001b[0mremark\u001b[0m\u001b[0;34m\u001b[0m\u001b[0m\n\u001b[0m",
      "\u001b[0;31mNameError\u001b[0m: name 'remark' is not defined"
     ]
    }
   ],
   "source": [
    "remark"
   ]
  },
  {
   "cell_type": "code",
   "execution_count": 12,
   "metadata": {},
   "outputs": [
    {
     "name": "stderr",
     "output_type": "stream",
     "text": [
      "/home/ubuntu/anaconda3/lib/python3.6/site-packages/IPython/core/interactiveshell.py:2785: DtypeWarning: Columns (7) have mixed types. Specify dtype option on import or set low_memory=False.\n",
      "  interactivity=interactivity, compiler=compiler, result=result)\n"
     ]
    },
    {
     "ename": "NameError",
     "evalue": "name 'start' is not defined",
     "output_type": "error",
     "traceback": [
      "\u001b[0;31m---------------------------------------------------------------------------\u001b[0m",
      "\u001b[0;31mNameError\u001b[0m                                 Traceback (most recent call last)",
      "\u001b[0;32m<ipython-input-12-262b03fcf00e>\u001b[0m in \u001b[0;36m<module>\u001b[0;34m()\u001b[0m\n\u001b[1;32m      1\u001b[0m \u001b[0mc360\u001b[0m \u001b[0;34m=\u001b[0m \u001b[0mpd\u001b[0m\u001b[0;34m.\u001b[0m\u001b[0mread_csv\u001b[0m\u001b[0;34m(\u001b[0m\u001b[0;34m'../all_colleges_car360.csv'\u001b[0m\u001b[0;34m)\u001b[0m\u001b[0;34m.\u001b[0m\u001b[0mastype\u001b[0m\u001b[0;34m(\u001b[0m\u001b[0mstr\u001b[0m\u001b[0;34m)\u001b[0m\u001b[0;34m\u001b[0m\u001b[0m\n\u001b[0;32m----> 2\u001b[0;31m \u001b[0mme\u001b[0m \u001b[0;34m=\u001b[0m \u001b[0mpd\u001b[0m\u001b[0;34m.\u001b[0m\u001b[0mread_csv\u001b[0m\u001b[0;34m(\u001b[0m\u001b[0;34m'../all_colleges_mereexams.csv'\u001b[0m\u001b[0;34m)\u001b[0m\u001b[0;34m.\u001b[0m\u001b[0mastype\u001b[0m\u001b[0;34m(\u001b[0m\u001b[0mstr\u001b[0m\u001b[0;34m)\u001b[0m\u001b[0;34m[\u001b[0m\u001b[0mstart\u001b[0m\u001b[0;34m:\u001b[0m\u001b[0mend\u001b[0m\u001b[0;34m]\u001b[0m\u001b[0;34m\u001b[0m\u001b[0m\n\u001b[0m\u001b[1;32m      3\u001b[0m \u001b[0mc360\u001b[0m\u001b[0;34m[\u001b[0m\u001b[0;34m[\u001b[0m\u001b[0;34m'State'\u001b[0m\u001b[0;34m,\u001b[0m \u001b[0;34m'City'\u001b[0m\u001b[0;34m,\u001b[0m \u001b[0;34m'Name'\u001b[0m\u001b[0;34m]\u001b[0m\u001b[0;34m]\u001b[0m \u001b[0;34m=\u001b[0m \u001b[0mc360\u001b[0m\u001b[0;34m[\u001b[0m\u001b[0;34m[\u001b[0m\u001b[0;34m'State'\u001b[0m\u001b[0;34m,\u001b[0m \u001b[0;34m'City'\u001b[0m\u001b[0;34m,\u001b[0m \u001b[0;34m'Name'\u001b[0m\u001b[0;34m]\u001b[0m\u001b[0;34m]\u001b[0m\u001b[0;34m.\u001b[0m\u001b[0mapplymap\u001b[0m\u001b[0;34m(\u001b[0m\u001b[0mlower\u001b[0m\u001b[0;34m)\u001b[0m\u001b[0;34m\u001b[0m\u001b[0m\n\u001b[1;32m      4\u001b[0m \u001b[0mme\u001b[0m\u001b[0;34m[\u001b[0m\u001b[0;34m[\u001b[0m\u001b[0;34m'state'\u001b[0m\u001b[0;34m,\u001b[0m \u001b[0;34m'city'\u001b[0m\u001b[0;34m,\u001b[0m \u001b[0;34m'name'\u001b[0m\u001b[0;34m]\u001b[0m\u001b[0;34m]\u001b[0m \u001b[0;34m=\u001b[0m \u001b[0mme\u001b[0m\u001b[0;34m[\u001b[0m\u001b[0;34m[\u001b[0m\u001b[0;34m'state'\u001b[0m\u001b[0;34m,\u001b[0m \u001b[0;34m'city'\u001b[0m\u001b[0;34m,\u001b[0m \u001b[0;34m'name'\u001b[0m\u001b[0;34m]\u001b[0m\u001b[0;34m]\u001b[0m\u001b[0;34m.\u001b[0m\u001b[0mapplymap\u001b[0m\u001b[0;34m(\u001b[0m\u001b[0mlower\u001b[0m\u001b[0;34m)\u001b[0m\u001b[0;34m\u001b[0m\u001b[0m\n\u001b[1;32m      5\u001b[0m \u001b[0mc360\u001b[0m\u001b[0;34m.\u001b[0m\u001b[0msort_values\u001b[0m\u001b[0;34m(\u001b[0m\u001b[0;34m[\u001b[0m\u001b[0;34m'Name'\u001b[0m\u001b[0;34m]\u001b[0m\u001b[0;34m,\u001b[0m \u001b[0minplace\u001b[0m \u001b[0;34m=\u001b[0m \u001b[0;32mTrue\u001b[0m\u001b[0;34m)\u001b[0m\u001b[0;34m\u001b[0m\u001b[0m\n",
      "\u001b[0;31mNameError\u001b[0m: name 'start' is not defined"
     ]
    }
   ],
   "source": [
    "c360 = pd.read_csv('../all_colleges_car360.csv').astype(str)\n",
    "me = pd.read_csv('../all_colleges_mereexams.csv').astype(str)[start:end]\n",
    "c360[['State', 'City', 'Name']] = c360[['State', 'City', 'Name']].applymap(lower)\n",
    "me[['state', 'city', 'name']] = me[['state', 'city', 'name']].applymap(lower)\n",
    "c360.sort_values(['Name'], inplace = True)\n",
    "me.sort_values(['name'], inplace = True)\n",
    "c360['website'] = c360['website'].apply(web)\n",
    "me['website'] = me['website'].apply(web)\n",
    "print('Halfway of data loading')\n",
    "c360['Name_list'] = c360['Name'].apply(col_name)\n",
    "me['name_list'] = me['name'].apply(col_name)\n",
    "me['estb'] = me['year_of_establishment']\n",
    "me.drop(['year_of_establishment'], axis = 1, inplace=True)\n",
    "c360['Name']"
   ]
  },
  {
   "cell_type": "code",
   "execution_count": 7,
   "metadata": {},
   "outputs": [],
   "source": [
    "c360.loc[1, ['Name', 'City', 'State', 'website']] = me.loc[1, ['name', 'city', 'state', 'website']].values"
   ]
  },
  {
   "cell_type": "code",
   "execution_count": 8,
   "metadata": {},
   "outputs": [
    {
     "name": "stdout",
     "output_type": "stream",
     "text": [
      "Mereexams\n",
      " Index(['cid', 'name', 'address_line1', 'address_line2', 'city', 'state',\n",
      "       'pin_code', 'area', 'constructed_area', 'website',\n",
      "       'year_of_establishment', 'type', 'Affiliated_to_University',\n",
      "       'playground', 'auditorium'],\n",
      "      dtype='object')\n",
      "C360\n",
      " Index(['Unnamed: 0', 'Unnamed: 0.1', 'Unnamed: 0.1.1', 'Id', 'Name',\n",
      "       'known_as', 'Estd', 'State', 'City', 'Address', 'ownership',\n",
      "       'Approved_by', 'Affilate_to', 'contact', 'Rank', 'website', 'score',\n",
      "       'facilities', 'exams', 'stream', 'faculty', 'facebook', 'twitter',\n",
      "       'youtube', 'wiki'],\n",
      "      dtype='object')\n"
     ]
    }
   ],
   "source": [
    "print('Mereexams\\n', me.columns[:15])\n",
    "print('C360\\n', c360.columns)"
   ]
  },
  {
   "cell_type": "code",
   "execution_count": 217,
   "metadata": {},
   "outputs": [
    {
     "name": "stderr",
     "output_type": "stream",
     "text": [
      "50it [05:23,  6.46s/it]\n"
     ]
    }
   ],
   "source": [
    "for index, row1 in tqdm(me.iterrows()):\n",
    "    points = 0\n",
    "    for index, row2 in c360.iterrows():\n",
    "        (match, p)  = same(row1, row2)\n",
    "        if match: \n",
    "            mapp[row1['name']] = row2['Name']\n",
    "            break\n",
    "        elif p > points:\n",
    "            points = p\n",
    "            name = row2['Name']\n",
    "    if points > 10:\n",
    "        remark[row1['name']] = name"
   ]
  },
  {
   "cell_type": "code",
   "execution_count": 218,
   "metadata": {},
   "outputs": [
    {
     "name": "stdout",
     "output_type": "stream",
     "text": [
      "secab inst., of bba/bca,  college, bijapur \t secab institute of business administration, bijapur \n",
      "\n",
      "\n"
     ]
    }
   ],
   "source": [
    "for key in mapp.keys():\n",
    "    print(key, '\\t', mapp[key], '\\n\\n') "
   ]
  },
  {
   "cell_type": "code",
   "execution_count": 219,
   "metadata": {},
   "outputs": [
    {
     "name": "stdout",
     "output_type": "stream",
     "text": [
      "j.h.bhalodiya women's  college-rajkot (commerce & b.b.a.) \t shri jh bhalodiya womens college, rajkot \n",
      "\n",
      "\n",
      "jss's bharatesh college of business administration,  belgaum \t padmaraj ariga bharatesh college of business administration, belgaum \n",
      "\n",
      "\n"
     ]
    }
   ],
   "source": [
    "for key in remark.keys():\n",
    "    print(key, '\\t', remark[key], '\\n\\n') "
   ]
  },
  {
   "cell_type": "code",
   "execution_count": 145,
   "metadata": {},
   "outputs": [
    {
     "data": {
      "text/plain": [
       "'indo global college of architecture, mohali'"
      ]
     },
     "execution_count": 145,
     "metadata": {},
     "output_type": "execute_result"
    }
   ],
   "source": [
    "remark[\"indo global college of engg. abhipur\"]"
   ]
  },
  {
   "cell_type": "code",
   "execution_count": 136,
   "metadata": {},
   "outputs": [
    {
     "data": {
      "text/html": [
       "<div>\n",
       "<style scoped>\n",
       "    .dataframe tbody tr th:only-of-type {\n",
       "        vertical-align: middle;\n",
       "    }\n",
       "\n",
       "    .dataframe tbody tr th {\n",
       "        vertical-align: top;\n",
       "    }\n",
       "\n",
       "    .dataframe thead th {\n",
       "        text-align: right;\n",
       "    }\n",
       "</style>\n",
       "<table border=\"1\" class=\"dataframe\">\n",
       "  <thead>\n",
       "    <tr style=\"text-align: right;\">\n",
       "      <th></th>\n",
       "      <th>cid</th>\n",
       "      <th>name</th>\n",
       "      <th>address_line1</th>\n",
       "      <th>address_line2</th>\n",
       "      <th>city</th>\n",
       "      <th>state</th>\n",
       "      <th>pin_code</th>\n",
       "      <th>area</th>\n",
       "      <th>constructed_area</th>\n",
       "      <th>website</th>\n",
       "      <th>...</th>\n",
       "      <th>no_of_separate_rooms_for_girls</th>\n",
       "      <th>solar_power_generation</th>\n",
       "      <th>connectivity_nkn</th>\n",
       "      <th>connectivity_nmeict</th>\n",
       "      <th>no_of_books</th>\n",
       "      <th>no_of_journals</th>\n",
       "      <th>campus_friendly</th>\n",
       "      <th>grievance_redressal_mechanism</th>\n",
       "      <th>vigilance_cell</th>\n",
       "      <th>opportunity_cell</th>\n",
       "    </tr>\n",
       "  </thead>\n",
       "  <tbody>\n",
       "    <tr>\n",
       "      <th>288</th>\n",
       "      <td>C10350</td>\n",
       "      <td>ggs college of modern technology, kharar</td>\n",
       "      <td>Chandigarh-Ludhiana Highway, Kharar</td>\n",
       "      <td>nan</td>\n",
       "      <td>kharar, mohali</td>\n",
       "      <td>nan</td>\n",
       "      <td>140301</td>\n",
       "      <td>13.0</td>\n",
       "      <td>13877</td>\n",
       "      <td>www.ggssachdeva.com</td>\n",
       "      <td>...</td>\n",
       "      <td>1.0</td>\n",
       "      <td>False</td>\n",
       "      <td>False</td>\n",
       "      <td>False</td>\n",
       "      <td>31053.0</td>\n",
       "      <td>56.0</td>\n",
       "      <td>True</td>\n",
       "      <td>True</td>\n",
       "      <td>True</td>\n",
       "      <td>True</td>\n",
       "    </tr>\n",
       "  </tbody>\n",
       "</table>\n",
       "<p>1 rows × 50 columns</p>\n",
       "</div>"
      ],
      "text/plain": [
       "        cid                                      name  \\\n",
       "288  C10350  ggs college of modern technology, kharar   \n",
       "\n",
       "                           address_line1 address_line2            city state  \\\n",
       "288  Chandigarh-Ludhiana Highway, Kharar           nan  kharar, mohali   nan   \n",
       "\n",
       "    pin_code  area constructed_area              website       ...         \\\n",
       "288   140301  13.0            13877  www.ggssachdeva.com       ...          \n",
       "\n",
       "    no_of_separate_rooms_for_girls solar_power_generation connectivity_nkn  \\\n",
       "288                            1.0                  False            False   \n",
       "\n",
       "    connectivity_nmeict no_of_books no_of_journals campus_friendly  \\\n",
       "288               False     31053.0           56.0            True   \n",
       "\n",
       "    grievance_redressal_mechanism vigilance_cell opportunity_cell  \n",
       "288                          True           True             True  \n",
       "\n",
       "[1 rows x 50 columns]"
      ]
     },
     "execution_count": 136,
     "metadata": {},
     "output_type": "execute_result"
    }
   ],
   "source": [
    "me[me['name'] == 'ggs college of modern technology, kharar']"
   ]
  },
  {
   "cell_type": "code",
   "execution_count": 138,
   "metadata": {},
   "outputs": [
    {
     "data": {
      "text/html": [
       "<div>\n",
       "<style scoped>\n",
       "    .dataframe tbody tr th:only-of-type {\n",
       "        vertical-align: middle;\n",
       "    }\n",
       "\n",
       "    .dataframe tbody tr th {\n",
       "        vertical-align: top;\n",
       "    }\n",
       "\n",
       "    .dataframe thead th {\n",
       "        text-align: right;\n",
       "    }\n",
       "</style>\n",
       "<table border=\"1\" class=\"dataframe\">\n",
       "  <thead>\n",
       "    <tr style=\"text-align: right;\">\n",
       "      <th></th>\n",
       "      <th>Unnamed: 0</th>\n",
       "      <th>Unnamed: 0.1</th>\n",
       "      <th>Unnamed: 0.1.1</th>\n",
       "      <th>Id</th>\n",
       "      <th>Name</th>\n",
       "      <th>known_as</th>\n",
       "      <th>Estd</th>\n",
       "      <th>State</th>\n",
       "      <th>City</th>\n",
       "      <th>Address</th>\n",
       "      <th>...</th>\n",
       "      <th>website</th>\n",
       "      <th>score</th>\n",
       "      <th>facilities</th>\n",
       "      <th>exams</th>\n",
       "      <th>stream</th>\n",
       "      <th>faculty</th>\n",
       "      <th>facebook</th>\n",
       "      <th>twitter</th>\n",
       "      <th>youtube</th>\n",
       "      <th>wiki</th>\n",
       "    </tr>\n",
       "  </thead>\n",
       "  <tbody>\n",
       "    <tr>\n",
       "      <th>352</th>\n",
       "      <td>127</td>\n",
       "      <td>127</td>\n",
       "      <td>2353</td>\n",
       "      <td>2353</td>\n",
       "      <td>ggs college of modern technology, mohali</td>\n",
       "      <td>nan</td>\n",
       "      <td>2002.0</td>\n",
       "      <td>punjab</td>\n",
       "      <td>kharar</td>\n",
       "      <td>Chandigarh-Ludhiana Highway  Kharar-140301  Di...</td>\n",
       "      <td>...</td>\n",
       "      <td>http://www.ggssachdeva.com/cmt/</td>\n",
       "      <td>nan</td>\n",
       "      <td>['Boys Hostel', 'Girls Hostel', 'Gym', 'Librar...</td>\n",
       "      <td>['JEE Main']</td>\n",
       "      <td>eng</td>\n",
       "      <td>64.0</td>\n",
       "      <td>nan</td>\n",
       "      <td>nan</td>\n",
       "      <td>nan</td>\n",
       "      <td>https://en.wikipedia.org/wiki/Guru_Gobind_Sing...</td>\n",
       "    </tr>\n",
       "  </tbody>\n",
       "</table>\n",
       "<p>1 rows × 25 columns</p>\n",
       "</div>"
      ],
      "text/plain": [
       "    Unnamed: 0 Unnamed: 0.1 Unnamed: 0.1.1    Id  \\\n",
       "352        127          127           2353  2353   \n",
       "\n",
       "                                         Name known_as    Estd    State  \\\n",
       "352  ggs college of modern technology, mohali      nan  2002.0   punjab   \n",
       "\n",
       "       City                                            Address  \\\n",
       "352  kharar  Chandigarh-Ludhiana Highway  Kharar-140301  Di...   \n",
       "\n",
       "                           ...                          \\\n",
       "352                        ...                           \n",
       "\n",
       "                             website score  \\\n",
       "352  http://www.ggssachdeva.com/cmt/   nan   \n",
       "\n",
       "                                            facilities         exams stream  \\\n",
       "352  ['Boys Hostel', 'Girls Hostel', 'Gym', 'Librar...  ['JEE Main']    eng   \n",
       "\n",
       "    faculty facebook twitter youtube  \\\n",
       "352    64.0      nan     nan     nan   \n",
       "\n",
       "                                                  wiki  \n",
       "352  https://en.wikipedia.org/wiki/Guru_Gobind_Sing...  \n",
       "\n",
       "[1 rows x 25 columns]"
      ]
     },
     "execution_count": 138,
     "metadata": {},
     "output_type": "execute_result"
    }
   ],
   "source": [
    "c360[c360['Name'] == 'ggs college of modern technology, mohali']"
   ]
  },
  {
   "cell_type": "code",
   "execution_count": 149,
   "metadata": {},
   "outputs": [
    {
     "data": {
      "text/plain": [
       "dict_keys(['aman bhalla institute of engg. & tech, jhakolari, pathankot', 'ggs college of modern technology, kharar', 'rimt- institute of engg. and technology, mandi gobindgarh', 'sachdeva engg. college for girls vpo mohali', 'sri sai college of engg and technology , badhani'])"
      ]
     },
     "execution_count": 149,
     "metadata": {},
     "output_type": "execute_result"
    }
   ],
   "source": [
    "mapp.keys()"
   ]
  },
  {
   "cell_type": "code",
   "execution_count": 143,
   "metadata": {},
   "outputs": [
    {
     "data": {
      "text/plain": [
       "dict_keys(['aman bhalla institute of engg. & tech, jhakolari, pathankot', 'ct institute of management & technology, shahpur', 'ct institute of technology, shahpur', 'gulzar school of management, vill libra', 'guru teg bahadur khalsa institute  of engg. & technology', 'indo global college of engg. abhipur', 'sachdeva engg. college for girls vpo mohali', 'sri sai college of engg and technology , badhani', 'swami parmanand engg. college'])"
      ]
     },
     "execution_count": 143,
     "metadata": {},
     "output_type": "execute_result"
    }
   ],
   "source": [
    "remark.keys()"
   ]
  },
  {
   "cell_type": "code",
   "execution_count": 99,
   "metadata": {},
   "outputs": [
    {
     "data": {
      "text/html": [
       "<div>\n",
       "<style scoped>\n",
       "    .dataframe tbody tr th:only-of-type {\n",
       "        vertical-align: middle;\n",
       "    }\n",
       "\n",
       "    .dataframe tbody tr th {\n",
       "        vertical-align: top;\n",
       "    }\n",
       "\n",
       "    .dataframe thead th {\n",
       "        text-align: right;\n",
       "    }\n",
       "</style>\n",
       "<table border=\"1\" class=\"dataframe\">\n",
       "  <thead>\n",
       "    <tr style=\"text-align: right;\">\n",
       "      <th></th>\n",
       "      <th>cid</th>\n",
       "      <th>name</th>\n",
       "      <th>address_line1</th>\n",
       "      <th>address_line2</th>\n",
       "      <th>city</th>\n",
       "      <th>state</th>\n",
       "      <th>pin_code</th>\n",
       "      <th>area</th>\n",
       "      <th>constructed_area</th>\n",
       "      <th>website</th>\n",
       "      <th>...</th>\n",
       "      <th>no_of_separate_rooms_for_girls</th>\n",
       "      <th>solar_power_generation</th>\n",
       "      <th>connectivity_nkn</th>\n",
       "      <th>connectivity_nmeict</th>\n",
       "      <th>no_of_books</th>\n",
       "      <th>no_of_journals</th>\n",
       "      <th>campus_friendly</th>\n",
       "      <th>grievance_redressal_mechanism</th>\n",
       "      <th>vigilance_cell</th>\n",
       "      <th>opportunity_cell</th>\n",
       "    </tr>\n",
       "  </thead>\n",
       "  <tbody>\n",
       "    <tr>\n",
       "      <th>335</th>\n",
       "      <td>C10416</td>\n",
       "      <td>ct institute of management &amp; technology, shahpur</td>\n",
       "      <td>VILLAGE SHAHPUR, P.O. UDOPUR, VIA JAMSHER KHAS...</td>\n",
       "      <td>VILLAGE SHAHPUR, P.O. UDOPUR, VIA JAMSHER KHAS...</td>\n",
       "      <td>jalandhar</td>\n",
       "      <td>nan</td>\n",
       "      <td>144020</td>\n",
       "      <td>3.0</td>\n",
       "      <td>10494</td>\n",
       "      <td>http://www.ctgroup.in</td>\n",
       "      <td>...</td>\n",
       "      <td>1.0</td>\n",
       "      <td>False</td>\n",
       "      <td>True</td>\n",
       "      <td>True</td>\n",
       "      <td>nan</td>\n",
       "      <td>nan</td>\n",
       "      <td>True</td>\n",
       "      <td>True</td>\n",
       "      <td>True</td>\n",
       "      <td>True</td>\n",
       "    </tr>\n",
       "  </tbody>\n",
       "</table>\n",
       "<p>1 rows × 50 columns</p>\n",
       "</div>"
      ],
      "text/plain": [
       "        cid                                              name  \\\n",
       "335  C10416  ct institute of management & technology, shahpur   \n",
       "\n",
       "                                         address_line1  \\\n",
       "335  VILLAGE SHAHPUR, P.O. UDOPUR, VIA JAMSHER KHAS...   \n",
       "\n",
       "                                         address_line2       city state  \\\n",
       "335  VILLAGE SHAHPUR, P.O. UDOPUR, VIA JAMSHER KHAS...  jalandhar   nan   \n",
       "\n",
       "    pin_code area constructed_area                website       ...         \\\n",
       "335   144020  3.0            10494  http://www.ctgroup.in       ...          \n",
       "\n",
       "    no_of_separate_rooms_for_girls solar_power_generation connectivity_nkn  \\\n",
       "335                            1.0                  False             True   \n",
       "\n",
       "    connectivity_nmeict no_of_books no_of_journals campus_friendly  \\\n",
       "335                True         nan            nan            True   \n",
       "\n",
       "    grievance_redressal_mechanism vigilance_cell opportunity_cell  \n",
       "335                          True           True             True  \n",
       "\n",
       "[1 rows x 50 columns]"
      ]
     },
     "execution_count": 99,
     "metadata": {},
     "output_type": "execute_result"
    }
   ],
   "source": [
    "me[me['name'] == 'ct institute of management & technology, shahpur']"
   ]
  },
  {
   "cell_type": "code",
   "execution_count": 154,
   "metadata": {},
   "outputs": [
    {
     "data": {
      "text/html": [
       "<div>\n",
       "<style scoped>\n",
       "    .dataframe tbody tr th:only-of-type {\n",
       "        vertical-align: middle;\n",
       "    }\n",
       "\n",
       "    .dataframe tbody tr th {\n",
       "        vertical-align: top;\n",
       "    }\n",
       "\n",
       "    .dataframe thead th {\n",
       "        text-align: right;\n",
       "    }\n",
       "</style>\n",
       "<table border=\"1\" class=\"dataframe\">\n",
       "  <thead>\n",
       "    <tr style=\"text-align: right;\">\n",
       "      <th></th>\n",
       "      <th>Unnamed: 0</th>\n",
       "      <th>Unnamed: 0.1</th>\n",
       "      <th>Unnamed: 0.1.1</th>\n",
       "      <th>Id</th>\n",
       "      <th>Name</th>\n",
       "      <th>known_as</th>\n",
       "      <th>Estd</th>\n",
       "      <th>State</th>\n",
       "      <th>City</th>\n",
       "      <th>Address</th>\n",
       "      <th>...</th>\n",
       "      <th>website</th>\n",
       "      <th>score</th>\n",
       "      <th>facilities</th>\n",
       "      <th>exams</th>\n",
       "      <th>stream</th>\n",
       "      <th>faculty</th>\n",
       "      <th>facebook</th>\n",
       "      <th>twitter</th>\n",
       "      <th>youtube</th>\n",
       "      <th>wiki</th>\n",
       "    </tr>\n",
       "  </thead>\n",
       "  <tbody>\n",
       "    <tr>\n",
       "      <th>32</th>\n",
       "      <td>32</td>\n",
       "      <td>11</td>\n",
       "      <td>140</td>\n",
       "      <td>140</td>\n",
       "      <td>yogi vemana university, kadapa</td>\n",
       "      <td>nan</td>\n",
       "      <td>2006.0</td>\n",
       "      <td>andhra pradesh</td>\n",
       "      <td>kopparthi</td>\n",
       "      <td>Kadapa – 516 003</td>\n",
       "      <td>...</td>\n",
       "      <td>http://www.yogivemanauniversity.ac.in/</td>\n",
       "      <td>nan</td>\n",
       "      <td>['Boys Hostel', 'Girls Hostel', 'Gym', 'Librar...</td>\n",
       "      <td>[' IPU CET BJMC ']</td>\n",
       "      <td>media</td>\n",
       "      <td>108.0</td>\n",
       "      <td>nan</td>\n",
       "      <td>nan</td>\n",
       "      <td>nan</td>\n",
       "      <td>https://en.wikipedia.org/wiki/Yogi_Vemana_Univ...</td>\n",
       "    </tr>\n",
       "    <tr>\n",
       "      <th>112</th>\n",
       "      <td>112</td>\n",
       "      <td>11</td>\n",
       "      <td>140</td>\n",
       "      <td>140</td>\n",
       "      <td>yogi vemana university, kadapa</td>\n",
       "      <td>nan</td>\n",
       "      <td>2006.0</td>\n",
       "      <td>andhra pradesh</td>\n",
       "      <td>kopparthi</td>\n",
       "      <td>Kadapa – 516 003</td>\n",
       "      <td>...</td>\n",
       "      <td>http://www.yogivemanauniversity.ac.in/</td>\n",
       "      <td>nan</td>\n",
       "      <td>['Boys Hostel', 'Girls Hostel', 'Gym', 'Librar...</td>\n",
       "      <td>[' IPU CET BJMC ']</td>\n",
       "      <td>media</td>\n",
       "      <td>108.0</td>\n",
       "      <td>nan</td>\n",
       "      <td>nan</td>\n",
       "      <td>nan</td>\n",
       "      <td>https://en.wikipedia.org/wiki/Yogi_Vemana_Univ...</td>\n",
       "    </tr>\n",
       "  </tbody>\n",
       "</table>\n",
       "<p>2 rows × 25 columns</p>\n",
       "</div>"
      ],
      "text/plain": [
       "    Unnamed: 0 Unnamed: 0.1 Unnamed: 0.1.1   Id  \\\n",
       "32          32           11            140  140   \n",
       "112        112           11            140  140   \n",
       "\n",
       "                               Name known_as    Estd            State  \\\n",
       "32   yogi vemana university, kadapa      nan  2006.0   andhra pradesh   \n",
       "112  yogi vemana university, kadapa      nan  2006.0   andhra pradesh   \n",
       "\n",
       "          City            Address  \\\n",
       "32   kopparthi  Kadapa – 516 003    \n",
       "112  kopparthi  Kadapa – 516 003    \n",
       "\n",
       "                           ...                          \\\n",
       "32                         ...                           \n",
       "112                        ...                           \n",
       "\n",
       "                                    website score  \\\n",
       "32   http://www.yogivemanauniversity.ac.in/   nan   \n",
       "112  http://www.yogivemanauniversity.ac.in/   nan   \n",
       "\n",
       "                                            facilities               exams  \\\n",
       "32   ['Boys Hostel', 'Girls Hostel', 'Gym', 'Librar...  [' IPU CET BJMC ']   \n",
       "112  ['Boys Hostel', 'Girls Hostel', 'Gym', 'Librar...  [' IPU CET BJMC ']   \n",
       "\n",
       "    stream faculty facebook twitter youtube  \\\n",
       "32   media   108.0      nan     nan     nan   \n",
       "112  media   108.0      nan     nan     nan   \n",
       "\n",
       "                                                  wiki  \n",
       "32   https://en.wikipedia.org/wiki/Yogi_Vemana_Univ...  \n",
       "112  https://en.wikipedia.org/wiki/Yogi_Vemana_Univ...  \n",
       "\n",
       "[2 rows x 25 columns]"
      ]
     },
     "execution_count": 154,
     "metadata": {},
     "output_type": "execute_result"
    }
   ],
   "source": [
    "c360[c360['Name'] == 'yogi vemana university, kadapa']"
   ]
  },
  {
   "cell_type": "code",
   "execution_count": 14,
   "metadata": {},
   "outputs": [
    {
     "name": "stderr",
     "output_type": "stream",
     "text": [
      "/home/ubuntu/anaconda3/lib/python3.6/site-packages/IPython/core/interactiveshell.py:2785: DtypeWarning: Columns (7) have mixed types. Specify dtype option on import or set low_memory=False.\n",
      "  interactivity=interactivity, compiler=compiler, result=result)\n"
     ]
    },
    {
     "name": "stdout",
     "output_type": "stream",
     "text": [
      "Halfway of data loading\n"
     ]
    }
   ],
   "source": [
    "    c360 = pd.read_csv('../all_colleges_car360.csv').astype(str)\n",
    "    me = pd.read_csv('../all_colleges_mereexams.csv').astype(str)[0:1000]\n",
    "    c360[['State', 'City', 'Name']] = c360[['State', 'City', 'Name']].applymap(lower)\n",
    "    me[['state', 'city', 'name']] = me[['state', 'city', 'name']].applymap(lower)\n",
    "    c360.sort_values(['Name'], inplace = True)\n",
    "    me.sort_values(['name'], inplace = True)\n",
    "    c360['website'] = c360['website'].apply(web)\n",
    "    me['website'] = me['website'].apply(web)\n",
    "    print('Halfway of data loading')\n",
    "    c360['Name'] = c360['Name'].apply(col_name)\n",
    "    me['name'] = me['name'].apply(col_name)\n",
    "    me['estb'] = me['year_of_establishment']\n",
    "    me.drop(['year_of_establishment'], axis = 1, inplace=True)\n"
   ]
  },
  {
   "cell_type": "code",
   "execution_count": 32,
   "metadata": {},
   "outputs": [
    {
     "name": "stdout",
     "output_type": "stream",
     "text": [
      "[list([\"b.v.v.sangha's\", 'basaveshwar', 'commercecollege', 'bagalkot'])] ['basaveshwar', 'commerce', 'college', 'bagalkot']\n",
      "\n",
      "[list(['bldeas', 'comm', 'bhs', 'arts', 'tgp', 'sci', 'college', 'jamakhandi'])] [\"bldea's\", 'commerce', 'bhs', 'arts', 'tgp', 'science', 'college', 'jamkhandi']\n",
      "\n",
      "[list(['bldeas', 'j', 's', 's', 'college', 'edu.', 'bijapur'])] [\"bldea's\", 'vp', 'dr', 'pg', 'halakatti', 'college', 'engineering', 'technology', 'bijapur']\n",
      "\n",
      "[list(['first', 'grade', 'college', 'muddebihal'])] ['first', 'grade', 'college', 'ankola']\n",
      "\n",
      "[list(['j.h.bhalodiya', \"women's\", 'collegerajkot', '(commerce', 'b.b.a.)'])] ['shri', 'jh', 'bhalodiya', 'womens', 'college', 'rajkot']\n",
      "\n",
      "[list([\"jss's\", 'bharatesh', 'college', 'business', 'administration', 'belgaum'])] ['padmaraj', 'ariga', 'bharatesh', 'college', 'business', 'administration', 'belgaum']\n",
      "\n",
      "[list(['secab', 'bba/bca', 'college', 'bijapur'])] ['secab', 'business', 'administration', 'bijapur']\n",
      "\n",
      "[list(['shree', 'a.v.j.', 'oza', 'b.ed.', 'college', 'lakhtar'])] ['shree', 'ganpati', 'technology', 'ghaziabad']\n",
      "\n",
      "[list([\"skes's\", 'g', 's', 'bca', 'college', 'belgaum'])] ['seksaria', 'college', 'computer', 'applications', 'belgaum']\n",
      "\n"
     ]
    }
   ],
   "source": [
    "for id, clg in remark:\n",
    "    print(me[me['cid'] == id]['name'].values, clg, end = '\\n\\n')"
   ]
  },
  {
   "cell_type": "code",
   "execution_count": null,
   "metadata": {},
   "outputs": [],
   "source": []
  }
 ],
 "metadata": {
  "kernelspec": {
   "display_name": "Python 3",
   "language": "python",
   "name": "python3"
  },
  "language_info": {
   "codemirror_mode": {
    "name": "ipython",
    "version": 3
   },
   "file_extension": ".py",
   "mimetype": "text/x-python",
   "name": "python",
   "nbconvert_exporter": "python",
   "pygments_lexer": "ipython3",
   "version": "3.6.3"
  }
 },
 "nbformat": 4,
 "nbformat_minor": 2
}
