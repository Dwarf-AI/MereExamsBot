{
 "cells": [
  {
   "cell_type": "code",
   "execution_count": 13,
   "metadata": {},
   "outputs": [],
   "source": [
    "import numpy as np\n",
    "import pandas as pd\n",
    "import re"
   ]
  },
  {
   "cell_type": "code",
   "execution_count": 14,
   "metadata": {},
   "outputs": [
    {
     "data": {
      "text/plain": [
       "['hel-slls', 'hel slls']"
      ]
     },
     "execution_count": 14,
     "metadata": {},
     "output_type": "execute_result"
    }
   ],
   "source": [
    "def syn_specialization(spec):\n",
    "    spec = str(spec)\n",
    "    specs = []\n",
    "#     specy = re.sub('\\)', ']', spec)\n",
    "    spec = re.sub('\\]', '', spec)\n",
    "#     specs.append(re.sub('\\(', '[', specy))\n",
    "    specs.append(re.sub('\\[', '-', spec))\n",
    "    specs.append(re.sub('\\[', ' ', spec))\n",
    "    return specs\n",
    "syn_specialization('hel[sll]s')"
   ]
  },
  {
   "cell_type": "code",
   "execution_count": 15,
   "metadata": {},
   "outputs": [],
   "source": [
    "data = pd.read_csv('all_institution_courses_cleaned.csv')"
   ]
  },
  {
   "cell_type": "code",
   "execution_count": 16,
   "metadata": {},
   "outputs": [
    {
     "data": {
      "text/html": [
       "<div>\n",
       "<style>\n",
       "    .dataframe thead tr:only-child th {\n",
       "        text-align: right;\n",
       "    }\n",
       "\n",
       "    .dataframe thead th {\n",
       "        text-align: left;\n",
       "    }\n",
       "\n",
       "    .dataframe tbody tr th {\n",
       "        vertical-align: top;\n",
       "    }\n",
       "</style>\n",
       "<table border=\"1\" class=\"dataframe\">\n",
       "  <thead>\n",
       "    <tr style=\"text-align: right;\">\n",
       "      <th></th>\n",
       "      <th>Unnamed: 0</th>\n",
       "      <th>cid</th>\n",
       "      <th>name</th>\n",
       "      <th>programme</th>\n",
       "      <th>discipline</th>\n",
       "      <th>discipline_group</th>\n",
       "      <th>discipline_group_category</th>\n",
       "      <th>intake</th>\n",
       "      <th>duration_year</th>\n",
       "    </tr>\n",
       "  </thead>\n",
       "  <tbody>\n",
       "    <tr>\n",
       "      <th>0</th>\n",
       "      <td>0</td>\n",
       "      <td>C100</td>\n",
       "      <td>Manish Institute of Computer Studies</td>\n",
       "      <td>Integrated M.C.A.-Integrated Master of Compute...</td>\n",
       "      <td>Computer Science</td>\n",
       "      <td>Computer Application</td>\n",
       "      <td>IT &amp; Computer</td>\n",
       "      <td>60</td>\n",
       "      <td>5</td>\n",
       "    </tr>\n",
       "    <tr>\n",
       "      <th>1</th>\n",
       "      <td>1</td>\n",
       "      <td>C100</td>\n",
       "      <td>Manish Institute of Computer Studies</td>\n",
       "      <td>M.C.A. -Master of Computer Applications</td>\n",
       "      <td>Computer Science</td>\n",
       "      <td>Computer Application</td>\n",
       "      <td>IT &amp; Computer</td>\n",
       "      <td>60</td>\n",
       "      <td>3</td>\n",
       "    </tr>\n",
       "    <tr>\n",
       "      <th>2</th>\n",
       "      <td>2</td>\n",
       "      <td>C10000</td>\n",
       "      <td>SIDDARTHA COLLEGE OF EDUCATION,  JAMKHANDI</td>\n",
       "      <td>B.Ed.-Bachelor of Education</td>\n",
       "      <td>Education</td>\n",
       "      <td>Education</td>\n",
       "      <td>Education</td>\n",
       "      <td>50</td>\n",
       "      <td>2</td>\n",
       "    </tr>\n",
       "    <tr>\n",
       "      <th>3</th>\n",
       "      <td>3</td>\n",
       "      <td>C10002</td>\n",
       "      <td>VVS'S ARTS/COMM COLLEGE,  BIJAPUR</td>\n",
       "      <td>B.C.A.-Bachelor of Computer Applications</td>\n",
       "      <td>COMPUTER</td>\n",
       "      <td>Computer Application</td>\n",
       "      <td>IT &amp; Computer</td>\n",
       "      <td>100</td>\n",
       "      <td>3</td>\n",
       "    </tr>\n",
       "    <tr>\n",
       "      <th>4</th>\n",
       "      <td>4</td>\n",
       "      <td>C10002</td>\n",
       "      <td>VVS'S ARTS/COMM COLLEGE,  BIJAPUR</td>\n",
       "      <td>B.A.-Bachelor of Arts</td>\n",
       "      <td>Arts</td>\n",
       "      <td>Arts</td>\n",
       "      <td>Arts</td>\n",
       "      <td>240</td>\n",
       "      <td>3</td>\n",
       "    </tr>\n",
       "  </tbody>\n",
       "</table>\n",
       "</div>"
      ],
      "text/plain": [
       "   Unnamed: 0     cid                                        name  \\\n",
       "0           0    C100        Manish Institute of Computer Studies   \n",
       "1           1    C100        Manish Institute of Computer Studies   \n",
       "2           2  C10000  SIDDARTHA COLLEGE OF EDUCATION,  JAMKHANDI   \n",
       "3           3  C10002           VVS'S ARTS/COMM COLLEGE,  BIJAPUR   \n",
       "4           4  C10002           VVS'S ARTS/COMM COLLEGE,  BIJAPUR   \n",
       "\n",
       "                                           programme        discipline  \\\n",
       "0  Integrated M.C.A.-Integrated Master of Compute...  Computer Science   \n",
       "1            M.C.A. -Master of Computer Applications  Computer Science   \n",
       "2                        B.Ed.-Bachelor of Education         Education   \n",
       "3           B.C.A.-Bachelor of Computer Applications          COMPUTER   \n",
       "4                              B.A.-Bachelor of Arts              Arts   \n",
       "\n",
       "       discipline_group discipline_group_category  intake  duration_year  \n",
       "0  Computer Application             IT & Computer      60              5  \n",
       "1  Computer Application             IT & Computer      60              3  \n",
       "2             Education                 Education      50              2  \n",
       "3  Computer Application             IT & Computer     100              3  \n",
       "4                  Arts                      Arts     240              3  "
      ]
     },
     "execution_count": 16,
     "metadata": {},
     "output_type": "execute_result"
    }
   ],
   "source": [
    "data.head()"
   ]
  },
  {
   "cell_type": "code",
   "execution_count": 17,
   "metadata": {},
   "outputs": [],
   "source": [
    "data = data.drop('Unnamed: 0',axis=1)"
   ]
  },
  {
   "cell_type": "code",
   "execution_count": 18,
   "metadata": {},
   "outputs": [
    {
     "data": {
      "text/plain": [
       "0"
      ]
     },
     "execution_count": 18,
     "metadata": {},
     "output_type": "execute_result"
    }
   ],
   "source": [
    "data.loc[data.discipline=='N.A.','discipline'] = data.loc[data.discipline=='N.A.','discipline_group']\n",
    "sum(data.discipline=='N.A.')"
   ]
  },
  {
   "cell_type": "code",
   "execution_count": 19,
   "metadata": {},
   "outputs": [],
   "source": [
    "data['discipline_lower']=data['discipline'].str.lower()"
   ]
  },
  {
   "cell_type": "code",
   "execution_count": 22,
   "metadata": {},
   "outputs": [],
   "source": [
    "data['discipline_group_lower'] = data['discipline_group'].str.lower()"
   ]
  },
  {
   "cell_type": "code",
   "execution_count": 23,
   "metadata": {},
   "outputs": [],
   "source": [
    "data.to_csv('all_institution_courses_cleaned_lowered.csv')"
   ]
  },
  {
   "cell_type": "code",
   "execution_count": 24,
   "metadata": {},
   "outputs": [],
   "source": [
    "combined_spec = pd.DataFrame(list(data.discipline_lower)+list(data.discipline_group_lower))[0].unique()"
   ]
  },
  {
   "cell_type": "code",
   "execution_count": 26,
   "metadata": {},
   "outputs": [],
   "source": [
    "combined_spec = pd.DataFrame(combined_spec)"
   ]
  },
  {
   "cell_type": "code",
   "execution_count": 27,
   "metadata": {},
   "outputs": [
    {
     "data": {
      "text/html": [
       "<div>\n",
       "<style>\n",
       "    .dataframe thead tr:only-child th {\n",
       "        text-align: right;\n",
       "    }\n",
       "\n",
       "    .dataframe thead th {\n",
       "        text-align: left;\n",
       "    }\n",
       "\n",
       "    .dataframe tbody tr th {\n",
       "        vertical-align: top;\n",
       "    }\n",
       "</style>\n",
       "<table border=\"1\" class=\"dataframe\">\n",
       "  <thead>\n",
       "    <tr style=\"text-align: right;\">\n",
       "      <th></th>\n",
       "      <th>0</th>\n",
       "      <th>1</th>\n",
       "      <th>2</th>\n",
       "    </tr>\n",
       "  </thead>\n",
       "  <tbody>\n",
       "    <tr>\n",
       "      <th>0</th>\n",
       "      <td>computer science</td>\n",
       "      <td>computer science</td>\n",
       "      <td>computer science</td>\n",
       "    </tr>\n",
       "    <tr>\n",
       "      <th>1</th>\n",
       "      <td>education</td>\n",
       "      <td>education</td>\n",
       "      <td>education</td>\n",
       "    </tr>\n",
       "    <tr>\n",
       "      <th>2</th>\n",
       "      <td>computer</td>\n",
       "      <td>computer</td>\n",
       "      <td>computer</td>\n",
       "    </tr>\n",
       "    <tr>\n",
       "      <th>3</th>\n",
       "      <td>arts</td>\n",
       "      <td>arts</td>\n",
       "      <td>arts</td>\n",
       "    </tr>\n",
       "    <tr>\n",
       "      <th>4</th>\n",
       "      <td>com</td>\n",
       "      <td>com</td>\n",
       "      <td>com</td>\n",
       "    </tr>\n",
       "  </tbody>\n",
       "</table>\n",
       "</div>"
      ],
      "text/plain": [
       "                  0                 1                 2\n",
       "0  computer science  computer science  computer science\n",
       "1         education         education         education\n",
       "2          computer          computer          computer\n",
       "3              arts              arts              arts\n",
       "4               com               com               com"
      ]
     },
     "execution_count": 27,
     "metadata": {},
     "output_type": "execute_result"
    }
   ],
   "source": [
    "combined_spec[1] = combined_spec[0]\n",
    "combined_spec[2] = combined_spec[1]\n",
    "combined_spec.head()"
   ]
  },
  {
   "cell_type": "code",
   "execution_count": 28,
   "metadata": {},
   "outputs": [
    {
     "data": {
      "text/plain": [
       "(26950, 3)"
      ]
     },
     "execution_count": 28,
     "metadata": {},
     "output_type": "execute_result"
    }
   ],
   "source": [
    "combined_spec.shape"
   ]
  },
  {
   "cell_type": "code",
   "execution_count": 29,
   "metadata": {},
   "outputs": [],
   "source": [
    "combined_spec[2] = combined_spec[2].apply(syn_specialization)"
   ]
  },
  {
   "cell_type": "code",
   "execution_count": 30,
   "metadata": {},
   "outputs": [],
   "source": [
    "def ret_0(lst):\n",
    "    lst = list(lst)\n",
    "    return lst[0]"
   ]
  },
  {
   "cell_type": "code",
   "execution_count": 31,
   "metadata": {},
   "outputs": [],
   "source": [
    "def ret_1(lst):\n",
    "    lst = list(lst)\n",
    "    return lst[1]"
   ]
  },
  {
   "cell_type": "code",
   "execution_count": 32,
   "metadata": {},
   "outputs": [],
   "source": [
    "combined_spec[3] = combined_spec[2].apply(ret_0)"
   ]
  },
  {
   "cell_type": "code",
   "execution_count": 33,
   "metadata": {},
   "outputs": [],
   "source": [
    "combined_spec[2] = combined_spec[2].apply(ret_1)"
   ]
  },
  {
   "cell_type": "code",
   "execution_count": 34,
   "metadata": {},
   "outputs": [
    {
     "data": {
      "text/html": [
       "<div>\n",
       "<style>\n",
       "    .dataframe thead tr:only-child th {\n",
       "        text-align: right;\n",
       "    }\n",
       "\n",
       "    .dataframe thead th {\n",
       "        text-align: left;\n",
       "    }\n",
       "\n",
       "    .dataframe tbody tr th {\n",
       "        vertical-align: top;\n",
       "    }\n",
       "</style>\n",
       "<table border=\"1\" class=\"dataframe\">\n",
       "  <thead>\n",
       "    <tr style=\"text-align: right;\">\n",
       "      <th></th>\n",
       "      <th>0</th>\n",
       "      <th>1</th>\n",
       "      <th>2</th>\n",
       "      <th>3</th>\n",
       "    </tr>\n",
       "  </thead>\n",
       "  <tbody>\n",
       "    <tr>\n",
       "      <th>0</th>\n",
       "      <td>computer science</td>\n",
       "      <td>computer science</td>\n",
       "      <td>computer science</td>\n",
       "      <td>computer science</td>\n",
       "    </tr>\n",
       "    <tr>\n",
       "      <th>1</th>\n",
       "      <td>education</td>\n",
       "      <td>education</td>\n",
       "      <td>education</td>\n",
       "      <td>education</td>\n",
       "    </tr>\n",
       "    <tr>\n",
       "      <th>2</th>\n",
       "      <td>computer</td>\n",
       "      <td>computer</td>\n",
       "      <td>computer</td>\n",
       "      <td>computer</td>\n",
       "    </tr>\n",
       "    <tr>\n",
       "      <th>3</th>\n",
       "      <td>arts</td>\n",
       "      <td>arts</td>\n",
       "      <td>arts</td>\n",
       "      <td>arts</td>\n",
       "    </tr>\n",
       "    <tr>\n",
       "      <th>4</th>\n",
       "      <td>com</td>\n",
       "      <td>com</td>\n",
       "      <td>com</td>\n",
       "      <td>com</td>\n",
       "    </tr>\n",
       "  </tbody>\n",
       "</table>\n",
       "</div>"
      ],
      "text/plain": [
       "                  0                 1                 2                 3\n",
       "0  computer science  computer science  computer science  computer science\n",
       "1         education         education         education         education\n",
       "2          computer          computer          computer          computer\n",
       "3              arts              arts              arts              arts\n",
       "4               com               com               com               com"
      ]
     },
     "execution_count": 34,
     "metadata": {},
     "output_type": "execute_result"
    }
   ],
   "source": [
    "combined_spec.head()"
   ]
  },
  {
   "cell_type": "code",
   "execution_count": 35,
   "metadata": {},
   "outputs": [],
   "source": [
    "def ad_comma(st):\n",
    "    st = str(st)\n",
    "    return '\"' + st + '\"'"
   ]
  },
  {
   "cell_type": "code",
   "execution_count": 36,
   "metadata": {},
   "outputs": [],
   "source": [
    "for i in range(4):\n",
    "    combined_spec[i] = combined_spec[i].apply(ad_comma)"
   ]
  },
  {
   "cell_type": "code",
   "execution_count": 38,
   "metadata": {},
   "outputs": [
    {
     "data": {
      "text/html": [
       "<div>\n",
       "<style>\n",
       "    .dataframe thead tr:only-child th {\n",
       "        text-align: right;\n",
       "    }\n",
       "\n",
       "    .dataframe thead th {\n",
       "        text-align: left;\n",
       "    }\n",
       "\n",
       "    .dataframe tbody tr th {\n",
       "        vertical-align: top;\n",
       "    }\n",
       "</style>\n",
       "<table border=\"1\" class=\"dataframe\">\n",
       "  <thead>\n",
       "    <tr style=\"text-align: right;\">\n",
       "      <th></th>\n",
       "      <th>0</th>\n",
       "      <th>1</th>\n",
       "      <th>2</th>\n",
       "      <th>3</th>\n",
       "    </tr>\n",
       "  </thead>\n",
       "  <tbody>\n",
       "    <tr>\n",
       "      <th>0</th>\n",
       "      <td>\"computer science\"</td>\n",
       "      <td>\"computer science\"</td>\n",
       "      <td>\"computer science\"</td>\n",
       "      <td>\"computer science\"</td>\n",
       "    </tr>\n",
       "    <tr>\n",
       "      <th>1</th>\n",
       "      <td>\"education\"</td>\n",
       "      <td>\"education\"</td>\n",
       "      <td>\"education\"</td>\n",
       "      <td>\"education\"</td>\n",
       "    </tr>\n",
       "    <tr>\n",
       "      <th>2</th>\n",
       "      <td>\"computer\"</td>\n",
       "      <td>\"computer\"</td>\n",
       "      <td>\"computer\"</td>\n",
       "      <td>\"computer\"</td>\n",
       "    </tr>\n",
       "    <tr>\n",
       "      <th>3</th>\n",
       "      <td>\"arts\"</td>\n",
       "      <td>\"arts\"</td>\n",
       "      <td>\"arts\"</td>\n",
       "      <td>\"arts\"</td>\n",
       "    </tr>\n",
       "    <tr>\n",
       "      <th>4</th>\n",
       "      <td>\"com\"</td>\n",
       "      <td>\"com\"</td>\n",
       "      <td>\"com\"</td>\n",
       "      <td>\"com\"</td>\n",
       "    </tr>\n",
       "  </tbody>\n",
       "</table>\n",
       "</div>"
      ],
      "text/plain": [
       "                    0                   1                   2  \\\n",
       "0  \"computer science\"  \"computer science\"  \"computer science\"   \n",
       "1         \"education\"         \"education\"         \"education\"   \n",
       "2          \"computer\"          \"computer\"          \"computer\"   \n",
       "3              \"arts\"              \"arts\"              \"arts\"   \n",
       "4               \"com\"               \"com\"               \"com\"   \n",
       "\n",
       "                    3  \n",
       "0  \"computer science\"  \n",
       "1         \"education\"  \n",
       "2          \"computer\"  \n",
       "3              \"arts\"  \n",
       "4               \"com\"  "
      ]
     },
     "execution_count": 38,
     "metadata": {},
     "output_type": "execute_result"
    }
   ],
   "source": [
    "combined_spec.head()"
   ]
  },
  {
   "cell_type": "code",
   "execution_count": 39,
   "metadata": {},
   "outputs": [],
   "source": [
    "combined_spec.to_csv('entity_specs.csv',header=None,index=None)"
   ]
  },
  {
   "cell_type": "code",
   "execution_count": null,
   "metadata": {},
   "outputs": [],
   "source": []
  }
 ],
 "metadata": {
  "kernelspec": {
   "display_name": "Python 3",
   "language": "python",
   "name": "python3"
  },
  "language_info": {
   "codemirror_mode": {
    "name": "ipython",
    "version": 3
   },
   "file_extension": ".py",
   "mimetype": "text/x-python",
   "name": "python",
   "nbconvert_exporter": "python",
   "pygments_lexer": "ipython3",
   "version": "3.6.3"
  }
 },
 "nbformat": 4,
 "nbformat_minor": 2
}
