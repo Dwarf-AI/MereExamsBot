{
 "cells": [
  {
   "cell_type": "markdown",
   "metadata": {},
   "source": [
    "<h1>Here Starts the College cleaning :_:</h1>"
   ]
  },
  {
   "cell_type": "code",
   "execution_count": 1,
   "metadata": {},
   "outputs": [],
   "source": [
    "import pandas as pd\n",
    "import numpy as np\n",
    "import re\n",
    "import dask.dataframe as dd\n",
    "from dask.multiprocessing import get\n",
    "from tqdm import tqdm"
   ]
  },
  {
   "cell_type": "code",
   "execution_count": 2,
   "metadata": {},
   "outputs": [],
   "source": [
    "def syn_gen(col_name):\n",
    "    lst = [None]*25\n",
    "    if col_name == 'nan':\n",
    "        return ['nan']\n",
    "    col_name = str(col_name)\n",
    "    col_name = col_name.lower()\n",
    "    name = col_name.split(',')[0]\n",
    "    names = []\n",
    "    names.append(name)                                           # As given\n",
    "    \n",
    "    name = re.subn('of|\\sand|&', '', name, flags = re.IGNORECASE)[0]\n",
    "    \n",
    "    name = re.subn('\\s+', ' ', name)[0]                          # Removing 'of' and 'and'\n",
    "    names.append(name)\n",
    "    names.append(''.join([word[0] for word in name.split()]).upper())\n",
    "    \n",
    "    if \"'\" in col_name:    \n",
    "        names.append(''.join([word[0] for word in filter(None,re.split('\\W+', name))]).upper())\n",
    "    if col_name.count('.') > 1:\n",
    "        names.append(''.join(re.split(r'\\.\\s?', col_name)[:-1]).upper())\n",
    "        \n",
    "        try:\n",
    "            pattern = re.compile('\\s?univ\\S*\\s?|\\s?coll\\S*\\s?|\\s?inst\\S*\\s?|\\sres\\S*\\sfound\\S*\\s?')\n",
    "            inst_type = pattern.findall(name)[0]\n",
    "            names.append(names[-1]+inst_type)\n",
    "        except:\n",
    "            pass\n",
    "        \n",
    "    if ',' in col_name:\n",
    "        location_full = [name+re.findall(',.*', col_name)[0][1:] for name in names]\n",
    "        try:\n",
    "            location_short = [name+col_name.split(',')[-1].split()[0][0].upper() for name in filter(lambda x: x.isupper(), names)]\n",
    "            location_short.extend([name+'-'+col_name.split(',')[-1].split()[0][0].upper() for name in filter(lambda x: x.isupper(), names)])\n",
    "            location_short.extend([name+'/'+col_name.split(',')[-1].split()[0][0].upper() for name in filter(lambda x: x.isupper(), names)])\n",
    "            location_short.extend([name+' '+col_name.split(',')[-1].split()[0][0].upper() for name in filter(lambda x: x.isupper(), names)])\n",
    "            names.extend(location_short)\n",
    "        except:\n",
    "            pass\n",
    "        names.extend(location_full)\n",
    "    return (list(set(names))+lst)[:25]"
   ]
  },
  {
   "cell_type": "code",
   "execution_count": 3,
   "metadata": {},
   "outputs": [],
   "source": [
    "def rm_brk(s):\n",
    "    s = str(s)\n",
    "    return re.sub('\\\\(.+?\\\\)','',s)\n",
    "\n",
    "def ret_zero(lst):\n",
    "    return lst[0]\n",
    "\n",
    "def add_left_brk(s):\n",
    "    s = str(s)\n",
    "    s = s+')'\n",
    "    return s"
   ]
  },
  {
   "cell_type": "code",
   "execution_count": 4,
   "metadata": {},
   "outputs": [
    {
     "data": {
      "text/plain": [
       "'100094-COLLEGE OF ARCHITECTURE, JALGAON'"
      ]
     },
     "execution_count": 4,
     "metadata": {},
     "output_type": "execute_result"
    }
   ],
   "source": [
    "data = pd.read_csv('../data/all_institutions_live.csv', engine='python')\n",
    "data['name_clean'] = data.name\n",
    "data.iloc[208].name_clean"
   ]
  },
  {
   "cell_type": "code",
   "execution_count": 5,
   "metadata": {},
   "outputs": [],
   "source": [
    "data.name_clean = data.name_clean.apply(rm_brk)\n",
    "data.name_clean = data.name_clean.str.rstrip()\n",
    "data.name_clean = data.name_clean.str.rstrip()\n",
    "data.name_clean = data.name_clean.str.rstrip(',')\n",
    "data.name_clean = data.name_clean.str.rstrip('.')\n",
    "data.name_clean = data.name_clean.str.rstrip('-')\n"
   ]
  },
  {
   "cell_type": "code",
   "execution_count": 6,
   "metadata": {},
   "outputs": [],
   "source": [
    "data.loc[data.name_clean.str.contains('\\('),'name_clean']=data[data.name_clean.str.contains('\\(')].name_clean.apply(add_left_brk)\n",
    "data.name_clean = data.name_clean.apply(rm_brk)\n",
    "data.name_clean = data.name_clean.str.rstrip()\n",
    "data.name_clean = data.name_clean.str.rstrip()\n",
    "data.name_clean = data.name_clean.str.rstrip(',')\n",
    "data.name_clean = data.name_clean.str.rstrip('.')\n",
    "data.name_clean = data.name_clean.str.rstrip('-')\n",
    "# data.loc[data.name_clean.str.contains('\\('),'name_clean'].values"
   ]
  },
  {
   "cell_type": "code",
   "execution_count": 7,
   "metadata": {},
   "outputs": [],
   "source": [
    "data['name_clean'] = data.name_clean.str.split('Ph:|PH[0-9]|Ph[0-9]|Ph. No|Ph\\.|Mob\\.No\\.|PH\\.|ph\\.|Address|Dist.|Ward No|PB[0-9]|No [0-9]|PB [0-9]|Distt\\.|Distt|H\\.No|PIN-|PIN [0-9]|PIN -|Pin-|village|VILLAGE|Write institute Name here|near|Near|NEAR|DIST-|City Off|DIST:|DIST\\.|D\\.No|Gat No').apply(ret_zero)\n",
    "\n",
    "data.name_clean = data.name_clean.str.rstrip()\n",
    "data.name_clean = data.name_clean.str.rstrip()\n",
    "data.name_clean = data.name_clean.str.rstrip()\n",
    "data.name_clean = data.name_clean.str.rstrip(',')\n",
    "data.name_clean = data.name_clean.str.rstrip('.')\n",
    "data.name_clean = data.name_clean.str.rstrip('-')"
   ]
  },
  {
   "cell_type": "code",
   "execution_count": 8,
   "metadata": {},
   "outputs": [],
   "source": [
    "def rep_sub_none(string):\n",
    "    string = str(string)\n",
    "    return re.sub('[0-9]{3} [0-9]{3}-|[0-9]{6}-|Dist|\"|\\)','',string)\n",
    "\n",
    "def rep_sub_quote(string):\n",
    "    string = str(string)\n",
    "    string = re.sub(',\\.|PINCODE|PB |NH-[0-9]{1,4},|NH-[0-9]{1,4}|Nh-|NH[0-9]{1,4}|NH [0-9]|^[A-Z][0-9]{1,4} |^[A-Z]-[0-9]{1,4}|^[0-9]{1,4} |^[A-Z][0-9]{1,4} |^\\?\\?|^\\?|\\+3 Degree|\\+3|\\+ 3|^\\+','',string)\n",
    "    return re.sub(';|:|\\?\\?\\?\\?|\\?\\?\\?|\\?\\?|\\?','\\'',string)\n",
    "\n",
    "def rep_sub_fs(string):\n",
    "    string = str(string)\n",
    "    return re.sub('\\.\\.|>','.',string)\n",
    "\n",
    "def rep_sub_ch(string):\n",
    "    string = str(string)\n",
    "    string =  re.sub('---|--','-',string)\n",
    "    string = re.sub('  ,  |  , | ,  | , ',', ',string)\n",
    "    return re.sub(',,,|,,|<',',',string)\n",
    "\n",
    "def rep_digit(string):\n",
    "    string = str(string)\n",
    "    return re.sub('[0-9]{1,4}$|[0-9]{1,4}.$','',string)"
   ]
  },
  {
   "cell_type": "code",
   "execution_count": 9,
   "metadata": {},
   "outputs": [
    {
     "data": {
      "text/plain": [
       "'COLLEGE OF ARCHITECTURE, JALGAON'"
      ]
     },
     "execution_count": 9,
     "metadata": {},
     "output_type": "execute_result"
    }
   ],
   "source": [
    "data.name_clean = data.name_clean.apply(rep_sub_none)\n",
    "\n",
    "data.name_clean = data.name_clean.str.rstrip()\n",
    "data.name_clean = data.name_clean.str.rstrip()\n",
    "data.name_clean = data.name_clean.str.rstrip()\n",
    "data.name_clean = data.name_clean.str.rstrip(',')\n",
    "data.name_clean = data.name_clean.str.rstrip('.')\n",
    "data.name_clean = data.name_clean.str.rstrip('-')\n",
    "data.iloc[208].name_clean"
   ]
  },
  {
   "cell_type": "code",
   "execution_count": 10,
   "metadata": {},
   "outputs": [],
   "source": [
    "data['name_clean'] = data.name_clean.str.split('-[0-9]{3} [0-9]{3}|-[0-9]{6}|P\\.O\\.|P\\.O|VPO|PB\\.NO|- [0-9]{3} [0-9]{3}|- [0-9]{6}|[0-9]{3} [0-9]{3}|[0-9]{6}|Ta:|Di:|TAL:|OPP:|Vill|near|Post Box|P\\.B\\. No|Tq:|Dt:|Tq.:|Opp:|Opp\\.|opp\\.|Tal:|Di stt:|TQ:|At:|CITY:|Plot|PLOT|Opposite|Opp\\.|OPP\\.').apply(ret_zero)\n",
    "data.name_clean = data.name_clean.str.rstrip()\n",
    "data.name_clean = data.name_clean.str.rstrip()\n",
    "data.name_clean = data.name_clean.str.rstrip(',')\n",
    "data.name_clean = data.name_clean.str.rstrip('.')\n",
    "data.name_clean = data.name_clean.str.rstrip('-')\n",
    "\n",
    "data['name_clean'] = data.name_clean.str.split('P\\.B\\.No\\.|P B No\\.|No\\.|PO |Post \\?|Teh.|At post|Sector|SECTOR|sector|plot|Tal\\.|Tehsil|DISTT|VILL-|VIll|VILL\\.|NO\\.|VILL |POST\\.|TQ\\.|OPP |OPP-|TAL-|TAL\\.|AT\\.|#|S NO|[0-9]{1,4}/|[0-9]{1,4}-').apply(ret_zero)\n",
    "data.name_clean = data.name_clean.str.rstrip()\n",
    "data.name_clean = data.name_clean.str.rstrip()\n",
    "data.name_clean = data.name_clean.str.rstrip(',')\n",
    "data.name_clean = data.name_clean.str.rstrip('.')\n",
    "data.name_clean = data.name_clean.str.rstrip('-')"
   ]
  },
  {
   "cell_type": "code",
   "execution_count": 11,
   "metadata": {},
   "outputs": [],
   "source": [
    "data.name_clean = data.name_clean.apply(rep_sub_quote)\n",
    "\n",
    "data.name_clean = data.name_clean.str.rstrip()\n",
    "data.name_clean = data.name_clean.str.rstrip()\n",
    "data.name_clean = data.name_clean.str.rstrip(',')\n",
    "data.name_clean = data.name_clean.str.rstrip('.')\n",
    "data.name_clean = data.name_clean.str.rstrip('-')\n",
    "\n",
    "data.name_clean = data.name_clean.apply(rep_sub_fs)\n",
    "\n",
    "data.name_clean = data.name_clean.str.rstrip()\n",
    "data.name_clean = data.name_clean.str.rstrip()\n",
    "data.name_clean = data.name_clean.str.rstrip(',')\n",
    "data.name_clean = data.name_clean.str.rstrip('.')\n",
    "data.name_clean = data.name_clean.str.rstrip('-')\n",
    "\n",
    "data.name_clean = data.name_clean.apply(rep_sub_ch)\n",
    "\n",
    "data.name_clean = data.name_clean.str.rstrip()\n",
    "data.name_clean = data.name_clean.str.rstrip()\n",
    "data.name_clean = data.name_clean.str.rstrip(',')\n",
    "data.name_clean = data.name_clean.str.rstrip('.')\n",
    "data.name_clean = data.name_clean.str.rstrip('-')"
   ]
  },
  {
   "cell_type": "code",
   "execution_count": 12,
   "metadata": {},
   "outputs": [],
   "source": [
    "data.name_clean = data.name_clean.apply(rep_digit)\n",
    "\n",
    "data.name_clean = data.name_clean.str.rstrip()\n",
    "data.name_clean = data.name_clean.str.rstrip()\n",
    "data.name_clean = data.name_clean.str.rstrip(',')\n",
    "data.name_clean = data.name_clean.str.rstrip('.')\n",
    "data.name_clean = data.name_clean.str.rstrip('-')"
   ]
  },
  {
   "cell_type": "code",
   "execution_count": 13,
   "metadata": {},
   "outputs": [],
   "source": [
    "data['name_clean'] = data.name_clean.str.split(' [A-Z]-[0-9]{1,4}|[0-9]{3,4}|N\\.H\\.|SECT\\.|STREET NO-|[0-9]{1,4}th|[0-9]{1,4}rd|[0-9]{1,3} KM|At/,| [0-9]{1,3},').apply(ret_zero)\n",
    "data.name_clean = data.name_clean.str.rstrip()\n",
    "data.name_clean = data.name_clean.str.rstrip()\n",
    "data.name_clean = data.name_clean.str.rstrip()\n",
    "data.name_clean = data.name_clean.str.lstrip()\n",
    "data.name_clean = data.name_clean.str.lstrip()\n",
    "data.name_clean = data.name_clean.str.rstrip(',')\n",
    "data.name_clean = data.name_clean.str.rstrip('-')\n",
    "data.name_clean = data.name_clean.str.rstrip('.')\n",
    "data.name_clean = data.name_clean.str.rstrip('?')\n",
    "data.name_clean = data.name_clean.str.rstrip('&')"
   ]
  },
  {
   "cell_type": "code",
   "execution_count": 14,
   "metadata": {},
   "outputs": [],
   "source": [
    "data[['cid','name','name_clean']].to_csv('college_name_cleaned.csv',header=['cid','initial','cleaned'])"
   ]
  },
  {
   "cell_type": "code",
   "execution_count": 15,
   "metadata": {},
   "outputs": [
    {
     "data": {
      "text/plain": [
       "array(['Manish Institute of Computer Studies',\n",
       "       'VIRANI SCI. & SHRI YOGIJI MAHARAJ ARTS, COMMERCE & SCIENCE - RAJKOT',\n",
       "       'SIDDARTHA COLLEGE OF EDUCATION,  JAMKHANDI', ...,\n",
       "       'Bharat Ratana Dr. B. R. Ambedkar University',\n",
       "       'Delhi Technological University',\n",
       "       'Guru Gobind Singh Indraprastha University'], dtype=object)"
      ]
     },
     "execution_count": 15,
     "metadata": {},
     "output_type": "execute_result"
    }
   ],
   "source": [
    "data[data.name_clean.str.contains('')].name_clean.values\n",
    "# data.name_clean = data.name_clean.str.replace(',$','.')\n",
    "# data.name_clean."
   ]
  },
  {
   "cell_type": "code",
   "execution_count": 16,
   "metadata": {},
   "outputs": [
    {
     "data": {
      "text/plain": [
       "(214,)"
      ]
     },
     "execution_count": 16,
     "metadata": {},
     "output_type": "execute_result"
    }
   ],
   "source": [
    "# data[data.name_clean.duplicated()].name_clean.shape\n",
    "data[data.name.duplicated()].name.shape"
   ]
  },
  {
   "cell_type": "markdown",
   "metadata": {},
   "source": [
    "<h1>Here goes the city cleaning :-) </h1>"
   ]
  },
  {
   "cell_type": "markdown",
   "metadata": {},
   "source": [
    "<h2>Remember to remove below read data</h2>"
   ]
  },
  {
   "cell_type": "code",
   "execution_count": 958,
   "metadata": {},
   "outputs": [],
   "source": [
    "data = pd.read_csv('../data/all_institutions_live.csv', engine='python')\n",
    "data['name_clean'] = data.name"
   ]
  },
  {
   "cell_type": "code",
   "execution_count": 959,
   "metadata": {},
   "outputs": [
    {
     "data": {
      "text/plain": [
       "'Bangalore-10.'"
      ]
     },
     "execution_count": 959,
     "metadata": {},
     "output_type": "execute_result"
    }
   ],
   "source": [
    "data['city_clean'] = data.city\n",
    "data.loc[8854,'city_clean']"
   ]
  },
  {
   "cell_type": "code",
   "execution_count": 960,
   "metadata": {},
   "outputs": [],
   "source": [
    "data.city_clean = data.city_clean.str.lower()"
   ]
  },
  {
   "cell_type": "code",
   "execution_count": 961,
   "metadata": {},
   "outputs": [
    {
     "data": {
      "text/plain": [
       "1816"
      ]
     },
     "execution_count": 961,
     "metadata": {},
     "output_type": "execute_result"
    }
   ],
   "source": [
    "sum(data.city_clean.isnull())"
   ]
  },
  {
   "cell_type": "code",
   "execution_count": 962,
   "metadata": {},
   "outputs": [],
   "source": [
    "data.city_clean.fillna('NULL',inplace=True)\n",
    "data.loc[data.city_clean.str.contains('^[0-9]'),'city_clean']='NULL'"
   ]
  },
  {
   "cell_type": "code",
   "execution_count": 963,
   "metadata": {},
   "outputs": [],
   "source": [
    "data.city_clean = data.city_clean.str.rstrip()\n",
    "data.city_clean = data.city_clean.str.rstrip(',')\n",
    "data.city_clean = data.city_clean.str.rstrip('.')\n",
    "data.city_clean = data.city_clean.str.rstrip('-')\n",
    "data.city_clean = data.city_clean.str.lstrip()"
   ]
  },
  {
   "cell_type": "code",
   "execution_count": 964,
   "metadata": {},
   "outputs": [],
   "source": [
    "data['city_clean'] = data.city_clean.str.split('pin| dist|,dist').apply(ret_zero)\n",
    "data['city_clean'] = data.city_clean.str.split('[0-9]{3} [0-9]{3}|[0-9]{6}|[0-9]{1,5}$').apply(ret_zero)"
   ]
  },
  {
   "cell_type": "code",
   "execution_count": 965,
   "metadata": {},
   "outputs": [],
   "source": [
    "def make_none_first(string):\n",
    "    string = str(string)\n",
    "    return re.sub('po & mandal:|tq & dt|kustagi road,|tk & dt|first lane, |at post -peeth ,|at post tha|at & po\\.|at & post|at post','',string)\n",
    "\n",
    "data.city_clean = data.city_clean.apply(make_none_first)\n",
    "\n",
    "data.city_clean = data.city_clean.str.lstrip()\n",
    "data.city_clean = data.city_clean.str.lstrip('-')\n",
    "data.city_clean = data.city_clean.str.lstrip(':')\n",
    "data.city_clean = data.city_clean.str.lstrip('.')\n",
    "data.city_clean = data.city_clean.str.lstrip(',')\n",
    "data.city_clean = data.city_clean.str.lstrip()\n",
    "data.city_clean = data.city_clean.str.rstrip()\n",
    "data.city_clean = data.city_clean.str.rstrip(',')\n",
    "data.city_clean = data.city_clean.str.rstrip('.')\n",
    "data.city_clean = data.city_clean.str.rstrip('-')\n",
    "data.city_clean = data.city_clean.str.rstrip()"
   ]
  },
  {
   "cell_type": "code",
   "execution_count": 966,
   "metadata": {},
   "outputs": [],
   "source": [
    "data.loc[14655,'city_clean']='chandigarh'\n",
    "data.loc[1960,'city_clean']='etawah'\n",
    "data.loc[11580,'city_clean']='vijayawada'\n",
    "data.loc[35751,'city_clean']='surat'\n",
    "data.loc[35850,'city_clean']='patan'\n",
    "data.loc[508,'city_clean']='kurukshetra'\n",
    "data.loc[21425,'city_clean']='banglore'\n",
    "data.loc[21756,'city_clean']='sangaria'\n",
    "data.loc[43721,'city_clean']='perinthalmanna'\n",
    "data.loc[21587,'city_clean']='murudeshwar'\n",
    "data.loc[38468,'city_clean']='salt lake city'\n",
    "data.loc[10529,'city_clean']='nellimarla'\n",
    "data.loc[28797,'city_clean']='atraulihar'\n",
    "data.loc[42918,'city_clean']='bareilly'\n",
    "data.loc[28687,'city_clean']='jambusar'\n",
    "data.loc[27548,'city_clean']=data.loc[12756,'city_clean']='linch'\n",
    "data.loc[35077,'city_clean']='virpur'\n",
    "data.loc[36253,'city_clean']='naigaon'\n",
    "data.loc[44812,'city_clean']='kanakapura'\n",
    "data.loc[39102,'city_clean']='neyveli township'\n"
   ]
  },
  {
   "cell_type": "code",
   "execution_count": 967,
   "metadata": {},
   "outputs": [],
   "source": [
    "data['city_clean'] = data.city_clean.str.split(' village|opp. | mandal| tehsil| via| near| taluka| taluk| tal | tal:| tal-| tal\\.| tah| ta | ta:| ta-| ta\\.| tq|\\.tq').apply(ret_zero)\n",
    "data.city_clean = data.city_clean.str.rstrip()\n",
    "data.city_clean = data.city_clean.str.rstrip(',')\n",
    "data.city_clean = data.city_clean.str.rstrip('.')\n",
    "data.city_clean = data.city_clean.str.rstrip('-')\n",
    "data.city_clean = data.city_clean.str.rstrip()\n",
    "# ^ta-|^ta:|^tal:-|^tal-|^tal\\.|^ta\\.:-|^ta\\.|^ta\\.:|"
   ]
  },
  {
   "cell_type": "code",
   "execution_count": 968,
   "metadata": {},
   "outputs": [],
   "source": [
    "def make_none(string):\n",
    "    string = str(string)\n",
    "    return re.sub('district -|district-|district:|dictrict|district|distt-|distt\\. -|distt \\.|distt\\.|distt -|distt:|distt :|distt|dist-|dist -|dist\\.|dist \\.|dist:|dist :|dist|[0-9]|junction|village,|village\\.|village-|village|villl|vill&mdl|vill-|vill:|vill\\.|villege|vill |mandal:|mandal |tehsil-|tehsil -|tehsil|teh |teh\\.|teh-|teh:|vpo|via |via\\.|via-|via|near by|near|taluka:|taluka-|taluka\\.|taluka |taluka|\\.taluk|-taluk|taluk|tal |tal:|tal-|tal$|talik$|talk$|tal\\.|tah |tah-|^ta|tq|dt$|tk$|^town|town$|suburban|urban|rural|ps |ps-|p\\.s |p\\.s\\.|^at |post$|post-|post |post:| up$','',string)"
   ]
  },
  {
   "cell_type": "code",
   "execution_count": 969,
   "metadata": {},
   "outputs": [],
   "source": [
    "data.city_clean = data.city_clean.apply(rm_brk)\n",
    "data.city_clean = data.city_clean.str.rstrip()\n",
    "data.city_clean = data.city_clean.str.rstrip(',')\n",
    "data.city_clean = data.city_clean.str.rstrip('.')\n",
    "data.city_clean = data.city_clean.str.rstrip('-')\n",
    "data.city_clean = data.city_clean.str.rstrip()"
   ]
  },
  {
   "cell_type": "code",
   "execution_count": 970,
   "metadata": {},
   "outputs": [],
   "source": [
    "data.city_clean = data.city_clean.apply(make_none)\n",
    "data.city_clean = data.city_clean.str.lstrip()\n",
    "data.city_clean = data.city_clean.str.lstrip()\n",
    "data.city_clean = data.city_clean.str.lstrip()\n",
    "data.city_clean = data.city_clean.str.lstrip('-')\n",
    "data.city_clean = data.city_clean.str.lstrip('-')\n",
    "data.city_clean = data.city_clean.str.lstrip('-')\n",
    "data.city_clean = data.city_clean.str.lstrip(':')\n",
    "data.city_clean = data.city_clean.str.lstrip(':')\n",
    "data.city_clean = data.city_clean.str.lstrip('.')\n",
    "data.city_clean = data.city_clean.str.lstrip('.')\n",
    "data.city_clean = data.city_clean.str.lstrip(',')\n",
    "data.city_clean = data.city_clean.str.lstrip(',')\n",
    "data.city_clean = data.city_clean.str.lstrip()\n",
    "data.city_clean = data.city_clean.str.lstrip()\n",
    "data.city_clean = data.city_clean.str.lstrip()"
   ]
  },
  {
   "cell_type": "code",
   "execution_count": 971,
   "metadata": {},
   "outputs": [],
   "source": [
    "data.city_clean = data.city_clean.str.rstrip()\n",
    "data.city_clean = data.city_clean.str.rstrip()\n",
    "data.city_clean = data.city_clean.str.rstrip(',')\n",
    "data.city_clean = data.city_clean.str.rstrip(',')\n",
    "data.city_clean = data.city_clean.str.rstrip('.')\n",
    "data.city_clean = data.city_clean.str.rstrip('.')\n",
    "data.city_clean = data.city_clean.str.rstrip('-')\n",
    "data.city_clean = data.city_clean.str.rstrip('-')\n",
    "data.city_clean = data.city_clean.str.rstrip()\n",
    "data.city_clean = data.city_clean.str.rstrip()"
   ]
  },
  {
   "cell_type": "code",
   "execution_count": 972,
   "metadata": {},
   "outputs": [
    {
     "data": {
      "text/plain": [
       "Series([], Name: city_clean, dtype: object)"
      ]
     },
     "execution_count": 972,
     "metadata": {},
     "output_type": "execute_result"
    }
   ],
   "source": [
    "data[data.city_clean.str.contains(' up$')].city_clean"
   ]
  },
  {
   "cell_type": "code",
   "execution_count": 973,
   "metadata": {},
   "outputs": [],
   "source": [
    "data.loc[data.city_clean=='','city_clean'] = 'NULL'"
   ]
  },
  {
   "cell_type": "code",
   "execution_count": 974,
   "metadata": {},
   "outputs": [
    {
     "data": {
      "text/plain": [
       "7423"
      ]
     },
     "execution_count": 974,
     "metadata": {},
     "output_type": "execute_result"
    }
   ],
   "source": [
    "len(data.city_clean.unique())"
   ]
  },
  {
   "cell_type": "code",
   "execution_count": 977,
   "metadata": {},
   "outputs": [],
   "source": [
    "data[['city','city_clean']].to_csv('city_comp.csv')"
   ]
  },
  {
   "cell_type": "code",
   "execution_count": null,
   "metadata": {},
   "outputs": [],
   "source": []
  },
  {
   "cell_type": "code",
   "execution_count": null,
   "metadata": {},
   "outputs": [],
   "source": []
  },
  {
   "cell_type": "code",
   "execution_count": null,
   "metadata": {},
   "outputs": [],
   "source": []
  },
  {
   "cell_type": "code",
   "execution_count": null,
   "metadata": {},
   "outputs": [],
   "source": []
  },
  {
   "cell_type": "markdown",
   "metadata": {},
   "source": [
    "<h1>Synonyms generation</h1>"
   ]
  },
  {
   "cell_type": "code",
   "execution_count": 173,
   "metadata": {},
   "outputs": [
    {
     "data": {
      "text/plain": [
       "[0, 1, 2, 3, 4, 5, 6, 7, 8, 9, 10, 11, 12, 13, 14, 15]"
      ]
     },
     "execution_count": 173,
     "metadata": {},
     "output_type": "execute_result"
    }
   ],
   "source": [
    "len(names.iloc[4]['name'])"
   ]
  },
  {
   "cell_type": "code",
   "execution_count": 174,
   "metadata": {},
   "outputs": [],
   "source": [
    "names.name.values.tolist()\n",
    "names[list(range(25))] = pd.DataFrame(names.name.values.tolist(), index= names.index)"
   ]
  },
  {
   "cell_type": "code",
   "execution_count": 178,
   "metadata": {},
   "outputs": [],
   "source": [
    "names['name']=data['name']"
   ]
  },
  {
   "cell_type": "code",
   "execution_count": 179,
   "metadata": {},
   "outputs": [],
   "source": [
    "def comma(s):\n",
    "    if str(s) != str(None):\n",
    "        return '\"'+s+'\"'\n",
    "    return None"
   ]
  },
  {
   "cell_type": "code",
   "execution_count": 180,
   "metadata": {},
   "outputs": [],
   "source": [
    "names = names.apply(comma)"
   ]
  },
  {
   "cell_type": "code",
   "execution_count": 126,
   "metadata": {},
   "outputs": [],
   "source": []
  },
  {
   "cell_type": "code",
   "execution_count": 181,
   "metadata": {},
   "outputs": [
    {
     "data": {
      "text/html": [
       "<div>\n",
       "<style scoped>\n",
       "    .dataframe tbody tr th:only-of-type {\n",
       "        vertical-align: middle;\n",
       "    }\n",
       "\n",
       "    .dataframe tbody tr th {\n",
       "        vertical-align: top;\n",
       "    }\n",
       "\n",
       "    .dataframe thead th {\n",
       "        text-align: right;\n",
       "    }\n",
       "</style>\n",
       "<table border=\"1\" class=\"dataframe\">\n",
       "  <thead>\n",
       "    <tr style=\"text-align: right;\">\n",
       "      <th></th>\n",
       "      <th>name</th>\n",
       "      <th>0</th>\n",
       "      <th>1</th>\n",
       "      <th>2</th>\n",
       "      <th>3</th>\n",
       "      <th>4</th>\n",
       "      <th>5</th>\n",
       "      <th>6</th>\n",
       "      <th>7</th>\n",
       "      <th>8</th>\n",
       "      <th>...</th>\n",
       "      <th>15</th>\n",
       "      <th>16</th>\n",
       "      <th>17</th>\n",
       "      <th>18</th>\n",
       "      <th>19</th>\n",
       "      <th>20</th>\n",
       "      <th>21</th>\n",
       "      <th>22</th>\n",
       "      <th>23</th>\n",
       "      <th>24</th>\n",
       "    </tr>\n",
       "  </thead>\n",
       "  <tbody>\n",
       "  </tbody>\n",
       "</table>\n",
       "<p>0 rows × 26 columns</p>\n",
       "</div>"
      ],
      "text/plain": [
       "Empty DataFrame\n",
       "Columns: [name, 0, 1, 2, 3, 4, 5, 6, 7, 8, 9, 10, 11, 12, 13, 14, 15, 16, 17, 18, 19, 20, 21, 22, 23, 24]\n",
       "Index: []\n",
       "\n",
       "[0 rows x 26 columns]"
      ]
     },
     "execution_count": 181,
     "metadata": {},
     "output_type": "execute_result"
    }
   ],
   "source": [
    "names[names[24].notnull()]"
   ]
  },
  {
   "cell_type": "code",
   "execution_count": 182,
   "metadata": {},
   "outputs": [],
   "source": [
    "names = names.drop([24],axis=1)"
   ]
  },
  {
   "cell_type": "code",
   "execution_count": 183,
   "metadata": {},
   "outputs": [],
   "source": [
    "names.to_csv('clg_entities.csv',header=None,index=None)"
   ]
  },
  {
   "cell_type": "code",
   "execution_count": 146,
   "metadata": {},
   "outputs": [],
   "source": []
  },
  {
   "cell_type": "code",
   "execution_count": 156,
   "metadata": {},
   "outputs": [],
   "source": []
  },
  {
   "cell_type": "markdown",
   "metadata": {},
   "source": [
    "rm_brk('kunal')"
   ]
  },
  {
   "cell_type": "code",
   "execution_count": 157,
   "metadata": {},
   "outputs": [
    {
     "data": {
      "text/plain": [
       "'kunal'"
      ]
     },
     "execution_count": 157,
     "metadata": {},
     "output_type": "execute_result"
    }
   ],
   "source": [
    "rm_brk('kuna(kd)l')"
   ]
  },
  {
   "cell_type": "code",
   "execution_count": 166,
   "metadata": {},
   "outputs": [],
   "source": [
    "data['name'] = data['name'].apply(rm_brk)"
   ]
  },
  {
   "cell_type": "code",
   "execution_count": 185,
   "metadata": {},
   "outputs": [],
   "source": [
    "data.to_csv('all_clgs.csv')"
   ]
  },
  {
   "cell_type": "code",
   "execution_count": 186,
   "metadata": {},
   "outputs": [
    {
     "data": {
      "text/html": [
       "<div>\n",
       "<style scoped>\n",
       "    .dataframe tbody tr th:only-of-type {\n",
       "        vertical-align: middle;\n",
       "    }\n",
       "\n",
       "    .dataframe tbody tr th {\n",
       "        vertical-align: top;\n",
       "    }\n",
       "\n",
       "    .dataframe thead th {\n",
       "        text-align: right;\n",
       "    }\n",
       "</style>\n",
       "<table border=\"1\" class=\"dataframe\">\n",
       "  <thead>\n",
       "    <tr style=\"text-align: right;\">\n",
       "      <th></th>\n",
       "      <th>name</th>\n",
       "      <th>0</th>\n",
       "      <th>1</th>\n",
       "      <th>2</th>\n",
       "      <th>3</th>\n",
       "      <th>4</th>\n",
       "      <th>5</th>\n",
       "      <th>6</th>\n",
       "      <th>7</th>\n",
       "      <th>8</th>\n",
       "      <th>...</th>\n",
       "      <th>14</th>\n",
       "      <th>15</th>\n",
       "      <th>16</th>\n",
       "      <th>17</th>\n",
       "      <th>18</th>\n",
       "      <th>19</th>\n",
       "      <th>20</th>\n",
       "      <th>21</th>\n",
       "      <th>22</th>\n",
       "      <th>23</th>\n",
       "    </tr>\n",
       "  </thead>\n",
       "  <tbody>\n",
       "    <tr>\n",
       "      <th>0</th>\n",
       "      <td>\"Manish Institute of Computer Studies\"</td>\n",
       "      <td>\"MICS\"</td>\n",
       "      <td>\"manish institute of computer studies\"</td>\n",
       "      <td>\"manish institute computer studies\"</td>\n",
       "      <td>NaN</td>\n",
       "      <td>NaN</td>\n",
       "      <td>NaN</td>\n",
       "      <td>NaN</td>\n",
       "      <td>NaN</td>\n",
       "      <td>NaN</td>\n",
       "      <td>...</td>\n",
       "      <td>NaN</td>\n",
       "      <td>NaN</td>\n",
       "      <td>NaN</td>\n",
       "      <td>NaN</td>\n",
       "      <td>NaN</td>\n",
       "      <td>NaN</td>\n",
       "      <td>NaN</td>\n",
       "      <td>NaN</td>\n",
       "      <td>NaN</td>\n",
       "      <td>NaN</td>\n",
       "    </tr>\n",
       "    <tr>\n",
       "      <th>1</th>\n",
       "      <td>\"SIDDARTHA COLLEGE OF EDUCATION,  JAMKHANDI\"</td>\n",
       "      <td>\"SCE/J\"</td>\n",
       "      <td>\"siddartha college education\"</td>\n",
       "      <td>\"SCE  jamkhandi\"</td>\n",
       "      <td>\"SCE-J\"</td>\n",
       "      <td>\"siddartha college of education\"</td>\n",
       "      <td>\"siddartha college education  jamkhandi\"</td>\n",
       "      <td>\"siddartha college of education  jamkhandi\"</td>\n",
       "      <td>\"SCE\"</td>\n",
       "      <td>\"SCE J\"</td>\n",
       "      <td>...</td>\n",
       "      <td>NaN</td>\n",
       "      <td>NaN</td>\n",
       "      <td>NaN</td>\n",
       "      <td>NaN</td>\n",
       "      <td>NaN</td>\n",
       "      <td>NaN</td>\n",
       "      <td>NaN</td>\n",
       "      <td>NaN</td>\n",
       "      <td>NaN</td>\n",
       "      <td>NaN</td>\n",
       "    </tr>\n",
       "    <tr>\n",
       "      <th>2</th>\n",
       "      <td>\"VVS'S ARTS/COMM COLLEGE,  BIJAPUR\"</td>\n",
       "      <td>\"VAC\"</td>\n",
       "      <td>\"VSACCB\"</td>\n",
       "      <td>\"VSACC  bijapur\"</td>\n",
       "      <td>\"VAC-B\"</td>\n",
       "      <td>\"VAC B\"</td>\n",
       "      <td>\"VSACC/B\"</td>\n",
       "      <td>\"VSACC B\"</td>\n",
       "      <td>\"vvs's arts/comm college  bijapur\"</td>\n",
       "      <td>\"VAC  bijapur\"</td>\n",
       "      <td>...</td>\n",
       "      <td>NaN</td>\n",
       "      <td>NaN</td>\n",
       "      <td>NaN</td>\n",
       "      <td>NaN</td>\n",
       "      <td>NaN</td>\n",
       "      <td>NaN</td>\n",
       "      <td>NaN</td>\n",
       "      <td>NaN</td>\n",
       "      <td>NaN</td>\n",
       "      <td>NaN</td>\n",
       "    </tr>\n",
       "    <tr>\n",
       "      <th>3</th>\n",
       "      <td>\"GOVT. FIRST GRADE COLLEGE,  KOKATANOOR\"</td>\n",
       "      <td>\"GFGC-K\"</td>\n",
       "      <td>\"GFGC/K\"</td>\n",
       "      <td>\"GFGC K\"</td>\n",
       "      <td>\"GFGC  kokatanoor\"</td>\n",
       "      <td>\"govt. first grade college  kokatanoor\"</td>\n",
       "      <td>\"govt. first grade college\"</td>\n",
       "      <td>\"GFGC\"</td>\n",
       "      <td>\"GFGCK\"</td>\n",
       "      <td>NaN</td>\n",
       "      <td>...</td>\n",
       "      <td>NaN</td>\n",
       "      <td>NaN</td>\n",
       "      <td>NaN</td>\n",
       "      <td>NaN</td>\n",
       "      <td>NaN</td>\n",
       "      <td>NaN</td>\n",
       "      <td>NaN</td>\n",
       "      <td>NaN</td>\n",
       "      <td>NaN</td>\n",
       "      <td>NaN</td>\n",
       "    </tr>\n",
       "    <tr>\n",
       "      <th>4</th>\n",
       "      <td>\"S S S S'S COLLEGE OF BUSINESS ADMINISTRATION,...</td>\n",
       "      <td>\"s s s s's college business administration  be...</td>\n",
       "      <td>\"SSSSCBA B\"</td>\n",
       "      <td>\"s s s s's college of business administration ...</td>\n",
       "      <td>\"SSSSCBA/B\"</td>\n",
       "      <td>\"SSSSSCBA/B\"</td>\n",
       "      <td>\"SSSSCBA  belgaum\"</td>\n",
       "      <td>\"SSSSCBA-B\"</td>\n",
       "      <td>\"SSSSSCBA\"</td>\n",
       "      <td>\"s s s s's college of business administration\"</td>\n",
       "      <td>...</td>\n",
       "      <td>\"s s s s's college business administration\"</td>\n",
       "      <td>\"SSSSSCBA-B\"</td>\n",
       "      <td>NaN</td>\n",
       "      <td>NaN</td>\n",
       "      <td>NaN</td>\n",
       "      <td>NaN</td>\n",
       "      <td>NaN</td>\n",
       "      <td>NaN</td>\n",
       "      <td>NaN</td>\n",
       "      <td>NaN</td>\n",
       "    </tr>\n",
       "  </tbody>\n",
       "</table>\n",
       "<p>5 rows × 25 columns</p>\n",
       "</div>"
      ],
      "text/plain": [
       "                                                name  \\\n",
       "0             \"Manish Institute of Computer Studies\"   \n",
       "1       \"SIDDARTHA COLLEGE OF EDUCATION,  JAMKHANDI\"   \n",
       "2                \"VVS'S ARTS/COMM COLLEGE,  BIJAPUR\"   \n",
       "3           \"GOVT. FIRST GRADE COLLEGE,  KOKATANOOR\"   \n",
       "4  \"S S S S'S COLLEGE OF BUSINESS ADMINISTRATION,...   \n",
       "\n",
       "                                                   0  \\\n",
       "0                                             \"MICS\"   \n",
       "1                                            \"SCE/J\"   \n",
       "2                                              \"VAC\"   \n",
       "3                                           \"GFGC-K\"   \n",
       "4  \"s s s s's college business administration  be...   \n",
       "\n",
       "                                        1  \\\n",
       "0  \"manish institute of computer studies\"   \n",
       "1           \"siddartha college education\"   \n",
       "2                                \"VSACCB\"   \n",
       "3                                \"GFGC/K\"   \n",
       "4                             \"SSSSCBA B\"   \n",
       "\n",
       "                                                   2                   3  \\\n",
       "0                \"manish institute computer studies\"                 NaN   \n",
       "1                                   \"SCE  jamkhandi\"             \"SCE-J\"   \n",
       "2                                   \"VSACC  bijapur\"             \"VAC-B\"   \n",
       "3                                           \"GFGC K\"  \"GFGC  kokatanoor\"   \n",
       "4  \"s s s s's college of business administration ...         \"SSSSCBA/B\"   \n",
       "\n",
       "                                         4  \\\n",
       "0                                      NaN   \n",
       "1         \"siddartha college of education\"   \n",
       "2                                  \"VAC B\"   \n",
       "3  \"govt. first grade college  kokatanoor\"   \n",
       "4                             \"SSSSSCBA/B\"   \n",
       "\n",
       "                                          5  \\\n",
       "0                                       NaN   \n",
       "1  \"siddartha college education  jamkhandi\"   \n",
       "2                                 \"VSACC/B\"   \n",
       "3               \"govt. first grade college\"   \n",
       "4                        \"SSSSCBA  belgaum\"   \n",
       "\n",
       "                                             6  \\\n",
       "0                                          NaN   \n",
       "1  \"siddartha college of education  jamkhandi\"   \n",
       "2                                    \"VSACC B\"   \n",
       "3                                       \"GFGC\"   \n",
       "4                                  \"SSSSCBA-B\"   \n",
       "\n",
       "                                    7  \\\n",
       "0                                 NaN   \n",
       "1                               \"SCE\"   \n",
       "2  \"vvs's arts/comm college  bijapur\"   \n",
       "3                             \"GFGCK\"   \n",
       "4                          \"SSSSSCBA\"   \n",
       "\n",
       "                                                8 ...   \\\n",
       "0                                             NaN ...    \n",
       "1                                         \"SCE J\" ...    \n",
       "2                                  \"VAC  bijapur\" ...    \n",
       "3                                             NaN ...    \n",
       "4  \"s s s s's college of business administration\" ...    \n",
       "\n",
       "                                            14            15   16   17   18  \\\n",
       "0                                          NaN           NaN  NaN  NaN  NaN   \n",
       "1                                          NaN           NaN  NaN  NaN  NaN   \n",
       "2                                          NaN           NaN  NaN  NaN  NaN   \n",
       "3                                          NaN           NaN  NaN  NaN  NaN   \n",
       "4  \"s s s s's college business administration\"  \"SSSSSCBA-B\"  NaN  NaN  NaN   \n",
       "\n",
       "    19   20   21   22   23  \n",
       "0  NaN  NaN  NaN  NaN  NaN  \n",
       "1  NaN  NaN  NaN  NaN  NaN  \n",
       "2  NaN  NaN  NaN  NaN  NaN  \n",
       "3  NaN  NaN  NaN  NaN  NaN  \n",
       "4  NaN  NaN  NaN  NaN  NaN  \n",
       "\n",
       "[5 rows x 25 columns]"
      ]
     },
     "execution_count": 186,
     "metadata": {},
     "output_type": "execute_result"
    }
   ],
   "source": [
    "names.head()"
   ]
  },
  {
   "cell_type": "code",
   "execution_count": 1,
   "metadata": {},
   "outputs": [
    {
     "name": "stdout",
     "output_type": "stream",
     "text": [
      "college_entity.ipynb               merger.ipynb\n",
      "college_front_page_scrapper.ipynb  scrapper2.ipynb\n",
      "entity_generator.ipynb             temp_mapper.ipynb\n",
      "entity_synonym_generator.ipynb     univ_names\n",
      "mapper.ipynb\n"
     ]
    }
   ],
   "source": []
  },
  {
   "cell_type": "code",
   "execution_count": 5,
   "metadata": {},
   "outputs": [],
   "source": [
    "data = pd.read_csv('CollegeName_entity.csv')"
   ]
  },
  {
   "cell_type": "code",
   "execution_count": 10,
   "metadata": {},
   "outputs": [],
   "source": [
    "data.iloc[:15000].to_csv('CollgeName1',header=None,index=None)"
   ]
  },
  {
   "cell_type": "code",
   "execution_count": 11,
   "metadata": {},
   "outputs": [],
   "source": [
    "data.iloc[15000:].to_csv('CollegeName2',header=None,index=None)"
   ]
  },
  {
   "cell_type": "code",
   "execution_count": null,
   "metadata": {},
   "outputs": [],
   "source": []
  }
 ],
 "metadata": {
  "kernelspec": {
   "display_name": "Python 3",
   "language": "python",
   "name": "python3"
  },
  "language_info": {
   "codemirror_mode": {
    "name": "ipython",
    "version": 3
   },
   "file_extension": ".py",
   "mimetype": "text/x-python",
   "name": "python",
   "nbconvert_exporter": "python",
   "pygments_lexer": "ipython3",
   "version": "3.6.5"
  }
 },
 "nbformat": 4,
 "nbformat_minor": 2
}
