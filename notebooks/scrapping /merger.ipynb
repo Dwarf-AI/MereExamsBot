{
 "cells": [
  {
   "cell_type": "code",
   "execution_count": 12,
   "metadata": {},
   "outputs": [],
   "source": [
    "import pandas as pd\n",
    "import numpy as np\n",
    "from os import listdir\n",
    "from time import sleep\n",
    "from tqdm import tqdm"
   ]
  },
  {
   "cell_type": "code",
   "execution_count": 2,
   "metadata": {},
   "outputs": [
    {
     "name": "stdout",
     "output_type": "stream",
     "text": [
      "design_college_detail.csv  it_college_detail.csv    media_college_detail.csv\n",
      "engi_college_detail.csv    law_college_detail.csv   medical_college_detail.csv\n",
      "hotel_college_detail.csv   mang_college_detail.csv  pharmacy_college_detail.csv\n"
     ]
    }
   ],
   "source": [
    "ls college_detail_merged/"
   ]
  },
  {
   "cell_type": "code",
   "execution_count": 20,
   "metadata": {},
   "outputs": [
    {
     "name": "stderr",
     "output_type": "stream",
     "text": [
      "100%|██████████| 9/9 [00:02<00:00,  3.91it/s]\n"
     ]
    }
   ],
   "source": [
    "for folder in tqdm(listdir('college_detail/')):\n",
    "    files = list(filter(lambda x: '(' and ')' in x, listdir(f'college_detail/{folder}/')))\n",
    "    if len(files) > 0:\n",
    "        data = pd.read_csv(f'college_detail/{folder}/{files[0]}')\n",
    "        for file in files[1:]:\n",
    "            data = pd.concat([data, pd.read_csv(f'college_detail/{folder}/{file}')], axis = 0)\n",
    "        data.to_csv(f'{folder}.csv')"
   ]
  },
  {
   "cell_type": "code",
   "execution_count": 7,
   "metadata": {},
   "outputs": [
    {
     "data": {
      "text/plain": [
       "'media_college_detail.csv'"
      ]
     },
     "execution_count": 7,
     "metadata": {},
     "output_type": "execute_result"
    }
   ],
   "source": [
    "listdir('college_detail_merged')[0]"
   ]
  },
  {
   "cell_type": "code",
   "execution_count": 8,
   "metadata": {},
   "outputs": [
    {
     "name": "stderr",
     "output_type": "stream",
     "text": [
      "100%|██████████| 8/8 [00:01<00:00,  4.57it/s]\n"
     ]
    }
   ],
   "source": [
    "data = pd.read_csv(f'college_detail_merged/{listdir(\"college_detail_merged\")[0]}')\n",
    "for file in tqdm(listdir('college_detail_merged/')[1:]):\n",
    "    data = pd.concat([data, pd.read_csv(f'college_detail_merged/{file}')], axis = 0)\n",
    "    data.to_csv(f'all_colleges_car360.csv')"
   ]
  },
  {
   "cell_type": "code",
   "execution_count": 13,
   "metadata": {},
   "outputs": [],
   "source": [
    "data = pd.read_csv('all_colleges_car360.csv')"
   ]
  },
  {
   "cell_type": "code",
   "execution_count": 14,
   "metadata": {},
   "outputs": [
    {
     "data": {
      "text/plain": [
       "(18465, 25)"
      ]
     },
     "execution_count": 14,
     "metadata": {},
     "output_type": "execute_result"
    }
   ],
   "source": [
    "data.shape"
   ]
  },
  {
   "cell_type": "code",
   "execution_count": 37,
   "metadata": {},
   "outputs": [
    {
     "name": "stdout",
     "output_type": "stream",
     "text": [
      "\u001b[0m\u001b[01;34mKunal_mereexams\u001b[0m/  design.csv       it_colleges.csv  media_journalism.csv\n",
      "\u001b[01;34mUntitled Folder\u001b[0m/  engineering.csv  law.csv          medical.csv\n",
      "Untitled.ipynb    hotel_manag.csv  management.csv   pharmacy.csv\n"
     ]
    }
   ],
   "source": [
    "ls"
   ]
  },
  {
   "cell_type": "code",
   "execution_count": 21,
   "metadata": {},
   "outputs": [],
   "source": [
    "data = pd.read_csv('medical_college_detail.csv')"
   ]
  },
  {
   "cell_type": "code",
   "execution_count": 22,
   "metadata": {},
   "outputs": [
    {
     "data": {
      "text/plain": [
       "(1790, 24)"
      ]
     },
     "execution_count": 22,
     "metadata": {},
     "output_type": "execute_result"
    }
   ],
   "source": [
    "data.shape"
   ]
  },
  {
   "cell_type": "code",
   "execution_count": 5,
   "metadata": {},
   "outputs": [
    {
     "data": {
      "text/plain": [
       "['career360_scrap_dm_law(300-320).csv',\n",
       " 'career360_scrap_dm_law(100-120).csv',\n",
       " 'career360_scrap_dm_law(0-20).csv',\n",
       " 'career360_scrap_dm_law(80-100).csv',\n",
       " 'career360_scrap_dm_law(120-140).csv',\n",
       " 'career360_scrap_dm_law(260-280).csv',\n",
       " 'career360_scrap_dm_law(160-180).csv',\n",
       " 'career360_scrap_dm_law(40-60).csv',\n",
       " 'career360_scrap_dm_law(320-340).csv',\n",
       " 'career360_scrap_dm_law(380-417).csv',\n",
       " 'career360_scrap_dm_law(340-360).csv',\n",
       " 'career360_scrap_dm_law(220-240).csv',\n",
       " 'career360_scrap_dm_law(180-200).csv',\n",
       " 'career360_scrap_dm_law(200-220).csv',\n",
       " 'career360_scrap_dm_law(240-260).csv',\n",
       " 'career360_scrap_dm_law(360-380).csv',\n",
       " 'career360_scrap_dm_law(140-160).csv',\n",
       " 'career360_scrap_dm_law(20-40).csv',\n",
       " 'career360_scrap_dm_law(60-80).csv',\n",
       " 'career360_scrap_dm_law(280-300).csv']"
      ]
     },
     "execution_count": 5,
     "metadata": {},
     "output_type": "execute_result"
    }
   ],
   "source": [
    "files = list(filter(lambda x: '(' and ')' in x, listdir()))\n",
    "files"
   ]
  },
  {
   "cell_type": "code",
   "execution_count": 12,
   "metadata": {},
   "outputs": [],
   "source": [
    "data = pd.read_csv(f'{files[0]}')"
   ]
  },
  {
   "cell_type": "code",
   "execution_count": 13,
   "metadata": {},
   "outputs": [],
   "source": [
    "for file in files[1:]:\n",
    "    data = pd.concat([data, pd.read_csv(f'{file}')], axis = 0)"
   ]
  },
  {
   "cell_type": "code",
   "execution_count": 15,
   "metadata": {},
   "outputs": [
    {
     "data": {
      "text/plain": [
       "(1183, 13)"
      ]
     },
     "execution_count": 15,
     "metadata": {},
     "output_type": "execute_result"
    }
   ],
   "source": [
    "data.shape"
   ]
  },
  {
   "cell_type": "code",
   "execution_count": null,
   "metadata": {},
   "outputs": [],
   "source": []
  },
  {
   "cell_type": "code",
   "execution_count": null,
   "metadata": {},
   "outputs": [],
   "source": []
  }
 ],
 "metadata": {
  "kernelspec": {
   "display_name": "Python 3",
   "language": "python",
   "name": "python3"
  },
  "language_info": {
   "codemirror_mode": {
    "name": "ipython",
    "version": 3
   },
   "file_extension": ".py",
   "mimetype": "text/x-python",
   "name": "python",
   "nbconvert_exporter": "python",
   "pygments_lexer": "ipython3",
   "version": "3.6.3"
  }
 },
 "nbformat": 4,
 "nbformat_minor": 2
}
