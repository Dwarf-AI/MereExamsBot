{
 "cells": [
  {
   "cell_type": "code",
   "execution_count": 1,
   "metadata": {},
   "outputs": [],
   "source": [
    "import re\n",
    "from collections import defaultdict\n",
    "import pandas as pd\n",
    "from tqdm import  tqdm"
   ]
  },
  {
   "cell_type": "code",
   "execution_count": 2,
   "metadata": {},
   "outputs": [
    {
     "data": {
      "text/plain": [
       "'hello.com'"
      ]
     },
     "execution_count": 2,
     "metadata": {},
     "output_type": "execute_result"
    }
   ],
   "source": [
    "def web(w):\n",
    "    w = re.sub(r'www.', '', w)\n",
    "    w = re.sub('https?://', '', w)\n",
    "    return re.sub('/.*', '', w)\n",
    "\n",
    "web('https://www.hello.com/world/yeah')"
   ]
  },
  {
   "cell_type": "code",
   "execution_count": 4,
   "metadata": {},
   "outputs": [
    {
     "name": "stdout",
     "output_type": "stream",
     "text": [
      "re.compile('gov\\\\S*\\\\s?|univ\\\\S*\\\\s?|,*|coll\\\\S*\\\\s?|inst\\\\S*\\\\s')\n"
     ]
    },
    {
     "data": {
      "text/plain": [
       "['medical', 'college', 'engineering', 'technology', 'ranchi', 'india']"
      ]
     },
     "execution_count": 4,
     "metadata": {},
     "output_type": "execute_result"
    }
   ],
   "source": [
    "to_remove = ['gov\\S*\\s?', 'univ\\S*\\s?', ',*' , 'coll\\S*\\s?', 'inst\\S*\\s']\n",
    "pattern = re.compile('|'.join(to_remove))\n",
    "print(pattern)\n",
    "def col_name(colg):\n",
    "    colg = re.sub('of |and ', '', colg)\n",
    "    colg = re.sub('eng\\S*\\s', 'engineering ', colg)\n",
    "    colg = re.sub('tech\\S*\\s', 'technology ', colg)\n",
    "    colg = pattern.subn('', colg)[0].lower().split(' ')\n",
    "    return list(filter(None, colg))\n",
    "\n",
    "col_name('govt. Medical college of engineering and tech.,  Ranchi, India')"
   ]
  },
  {
   "cell_type": "code",
   "execution_count": 5,
   "metadata": {},
   "outputs": [],
   "source": [
    "def lower(s):\n",
    "    return s.lower()"
   ]
  },
  {
   "cell_type": "code",
   "execution_count": null,
   "metadata": {},
   "outputs": [],
   "source": []
  }
 ],
 "metadata": {
  "kernelspec": {
   "display_name": "Python 3",
   "language": "python",
   "name": "python3"
  },
  "language_info": {
   "codemirror_mode": {
    "name": "ipython",
    "version": 3
   },
   "file_extension": ".py",
   "mimetype": "text/x-python",
   "name": "python",
   "nbconvert_exporter": "python",
   "pygments_lexer": "ipython3",
   "version": "3.6.5"
  }
 },
 "nbformat": 4,
 "nbformat_minor": 2
}
