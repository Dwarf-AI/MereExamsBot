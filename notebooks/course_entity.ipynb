{
 "cells": [
  {
   "cell_type": "code",
   "execution_count": 1,
   "metadata": {},
   "outputs": [],
   "source": [
    "import numpy as np\n",
    "import pandas as pd\n",
    "import re"
   ]
  },
  {
   "cell_type": "code",
   "execution_count": 2,
   "metadata": {},
   "outputs": [],
   "source": [
    "data = pd.read_csv('all_institutions_course.csv')"
   ]
  },
  {
   "cell_type": "code",
   "execution_count": 3,
   "metadata": {},
   "outputs": [
    {
     "data": {
      "text/plain": [
       "(211245, 8)"
      ]
     },
     "execution_count": 3,
     "metadata": {},
     "output_type": "execute_result"
    }
   ],
   "source": [
    "data.shape"
   ]
  },
  {
   "cell_type": "code",
   "execution_count": 4,
   "metadata": {},
   "outputs": [
    {
     "data": {
      "text/html": [
       "<div>\n",
       "<style scoped>\n",
       "    .dataframe tbody tr th:only-of-type {\n",
       "        vertical-align: middle;\n",
       "    }\n",
       "\n",
       "    .dataframe tbody tr th {\n",
       "        vertical-align: top;\n",
       "    }\n",
       "\n",
       "    .dataframe thead th {\n",
       "        text-align: right;\n",
       "    }\n",
       "</style>\n",
       "<table border=\"1\" class=\"dataframe\">\n",
       "  <thead>\n",
       "    <tr style=\"text-align: right;\">\n",
       "      <th></th>\n",
       "      <th>cid</th>\n",
       "      <th>name</th>\n",
       "      <th>programme</th>\n",
       "      <th>discipline</th>\n",
       "      <th>discipline_group</th>\n",
       "      <th>discipline_group_category</th>\n",
       "      <th>intake</th>\n",
       "      <th>duration_year</th>\n",
       "    </tr>\n",
       "  </thead>\n",
       "  <tbody>\n",
       "    <tr>\n",
       "      <th>0</th>\n",
       "      <td>C100</td>\n",
       "      <td>Manish Institute of Computer Studies</td>\n",
       "      <td>Integrated M.C.A.-Integrated Master of Compute...</td>\n",
       "      <td>Computer Science</td>\n",
       "      <td>Computer Application</td>\n",
       "      <td>IT &amp; Computer</td>\n",
       "      <td>60</td>\n",
       "      <td>5</td>\n",
       "    </tr>\n",
       "    <tr>\n",
       "      <th>1</th>\n",
       "      <td>C100</td>\n",
       "      <td>Manish Institute of Computer Studies</td>\n",
       "      <td>M.C.A. -Master of Computer Applications</td>\n",
       "      <td>Computer Science</td>\n",
       "      <td>Computer Application</td>\n",
       "      <td>IT &amp; Computer</td>\n",
       "      <td>60</td>\n",
       "      <td>3</td>\n",
       "    </tr>\n",
       "    <tr>\n",
       "      <th>2</th>\n",
       "      <td>C10000</td>\n",
       "      <td>SIDDARTHA COLLEGE OF EDUCATION,  JAMKHANDI</td>\n",
       "      <td>B.Ed.-Bachelor of Education</td>\n",
       "      <td>Education</td>\n",
       "      <td>Education</td>\n",
       "      <td>Education</td>\n",
       "      <td>50</td>\n",
       "      <td>2</td>\n",
       "    </tr>\n",
       "    <tr>\n",
       "      <th>3</th>\n",
       "      <td>C10002</td>\n",
       "      <td>VVS'S ARTS/COMM COLLEGE,  BIJAPUR</td>\n",
       "      <td>B.C.A.-Bachelor of Computer Applications</td>\n",
       "      <td>COMPUTER</td>\n",
       "      <td>Computer Application</td>\n",
       "      <td>IT &amp; Computer</td>\n",
       "      <td>100</td>\n",
       "      <td>3</td>\n",
       "    </tr>\n",
       "    <tr>\n",
       "      <th>4</th>\n",
       "      <td>C10002</td>\n",
       "      <td>VVS'S ARTS/COMM COLLEGE,  BIJAPUR</td>\n",
       "      <td>B.A.-Bachelor of Arts</td>\n",
       "      <td>Arts</td>\n",
       "      <td>Arts</td>\n",
       "      <td>Arts</td>\n",
       "      <td>240</td>\n",
       "      <td>3</td>\n",
       "    </tr>\n",
       "  </tbody>\n",
       "</table>\n",
       "</div>"
      ],
      "text/plain": [
       "      cid                                        name  \\\n",
       "0    C100        Manish Institute of Computer Studies   \n",
       "1    C100        Manish Institute of Computer Studies   \n",
       "2  C10000  SIDDARTHA COLLEGE OF EDUCATION,  JAMKHANDI   \n",
       "3  C10002           VVS'S ARTS/COMM COLLEGE,  BIJAPUR   \n",
       "4  C10002           VVS'S ARTS/COMM COLLEGE,  BIJAPUR   \n",
       "\n",
       "                                           programme        discipline  \\\n",
       "0  Integrated M.C.A.-Integrated Master of Compute...  Computer Science   \n",
       "1            M.C.A. -Master of Computer Applications  Computer Science   \n",
       "2                        B.Ed.-Bachelor of Education         Education   \n",
       "3           B.C.A.-Bachelor of Computer Applications          COMPUTER   \n",
       "4                              B.A.-Bachelor of Arts              Arts   \n",
       "\n",
       "       discipline_group discipline_group_category  intake  duration_year  \n",
       "0  Computer Application             IT & Computer      60              5  \n",
       "1  Computer Application             IT & Computer      60              3  \n",
       "2             Education                 Education      50              2  \n",
       "3  Computer Application             IT & Computer     100              3  \n",
       "4                  Arts                      Arts     240              3  "
      ]
     },
     "execution_count": 4,
     "metadata": {},
     "output_type": "execute_result"
    }
   ],
   "source": [
    "data.head()"
   ]
  },
  {
   "cell_type": "code",
   "execution_count": 5,
   "metadata": {},
   "outputs": [],
   "source": [
    "def brack_chang(string):\n",
    "    string = string.replace('(','[')\n",
    "    string = string.replace(')',']')\n",
    "    return string"
   ]
  },
  {
   "cell_type": "code",
   "execution_count": 6,
   "metadata": {},
   "outputs": [],
   "source": [
    "data['programme'] = data['programme'].apply(brack_chang)"
   ]
  },
  {
   "cell_type": "code",
   "execution_count": 7,
   "metadata": {},
   "outputs": [],
   "source": [
    "#data.to_csv('all_institutions_course_updated.csv')"
   ]
  },
  {
   "cell_type": "code",
   "execution_count": 8,
   "metadata": {},
   "outputs": [
    {
     "data": {
      "text/plain": [
       "0    Integrated M.C.A.-Integrated Master of Compute...\n",
       "1              M.C.A. -Master of Computer Applications\n",
       "2                          B.Ed.-Bachelor of Education\n",
       "3             B.C.A.-Bachelor of Computer Applications\n",
       "4                                B.A.-Bachelor of Arts\n",
       "Name: programme, dtype: object"
      ]
     },
     "execution_count": 8,
     "metadata": {},
     "output_type": "execute_result"
    }
   ],
   "source": [
    "programs = data['programme']\n",
    "programs.head()"
   ]
  },
  {
   "cell_type": "code",
   "execution_count": 9,
   "metadata": {},
   "outputs": [],
   "source": [
    "programs = pd.DataFrame(programs.unique())"
   ]
  },
  {
   "cell_type": "code",
   "execution_count": 10,
   "metadata": {},
   "outputs": [
    {
     "data": {
      "text/html": [
       "<div>\n",
       "<style scoped>\n",
       "    .dataframe tbody tr th:only-of-type {\n",
       "        vertical-align: middle;\n",
       "    }\n",
       "\n",
       "    .dataframe tbody tr th {\n",
       "        vertical-align: top;\n",
       "    }\n",
       "\n",
       "    .dataframe thead th {\n",
       "        text-align: right;\n",
       "    }\n",
       "</style>\n",
       "<table border=\"1\" class=\"dataframe\">\n",
       "  <thead>\n",
       "    <tr style=\"text-align: right;\">\n",
       "      <th></th>\n",
       "      <th>0</th>\n",
       "    </tr>\n",
       "  </thead>\n",
       "  <tbody>\n",
       "    <tr>\n",
       "      <th>186</th>\n",
       "      <td>M.P.S. -Master of Population Studies</td>\n",
       "    </tr>\n",
       "    <tr>\n",
       "      <th>187</th>\n",
       "      <td>D.Mus.-Doctor of Music</td>\n",
       "    </tr>\n",
       "    <tr>\n",
       "      <th>188</th>\n",
       "      <td>M.B.A.[Pharma. Tech.]-Master of Business Admin...</td>\n",
       "    </tr>\n",
       "    <tr>\n",
       "      <th>189</th>\n",
       "      <td>B.Chem.Tech.-Bachelor of Chemical Technology</td>\n",
       "    </tr>\n",
       "    <tr>\n",
       "      <th>190</th>\n",
       "      <td>M.T.P.M.-Master in Transportation Planning and...</td>\n",
       "    </tr>\n",
       "  </tbody>\n",
       "</table>\n",
       "</div>"
      ],
      "text/plain": [
       "                                                     0\n",
       "186               M.P.S. -Master of Population Studies\n",
       "187                             D.Mus.-Doctor of Music\n",
       "188  M.B.A.[Pharma. Tech.]-Master of Business Admin...\n",
       "189       B.Chem.Tech.-Bachelor of Chemical Technology\n",
       "190  M.T.P.M.-Master in Transportation Planning and..."
      ]
     },
     "execution_count": 10,
     "metadata": {},
     "output_type": "execute_result"
    }
   ],
   "source": [
    "programs.tail()"
   ]
  },
  {
   "cell_type": "code",
   "execution_count": 11,
   "metadata": {},
   "outputs": [],
   "source": [
    "programs[1]=programs[0]\n",
    "programs[2]=programs[0]"
   ]
  },
  {
   "cell_type": "code",
   "execution_count": 12,
   "metadata": {},
   "outputs": [],
   "source": [
    "def split(string):\n",
    "    return re.split('-',string)"
   ]
  },
  {
   "cell_type": "code",
   "execution_count": 13,
   "metadata": {},
   "outputs": [],
   "source": [
    "programs[2] = programs[2].apply(split)"
   ]
  },
  {
   "cell_type": "code",
   "execution_count": 14,
   "metadata": {},
   "outputs": [],
   "source": [
    "def return_0(arr):\n",
    "    return arr[0]\n",
    "def return_1(arr):\n",
    "    return arr[1]"
   ]
  },
  {
   "cell_type": "code",
   "execution_count": 15,
   "metadata": {},
   "outputs": [
    {
     "data": {
      "text/html": [
       "<div>\n",
       "<style scoped>\n",
       "    .dataframe tbody tr th:only-of-type {\n",
       "        vertical-align: middle;\n",
       "    }\n",
       "\n",
       "    .dataframe tbody tr th {\n",
       "        vertical-align: top;\n",
       "    }\n",
       "\n",
       "    .dataframe thead th {\n",
       "        text-align: right;\n",
       "    }\n",
       "</style>\n",
       "<table border=\"1\" class=\"dataframe\">\n",
       "  <thead>\n",
       "    <tr style=\"text-align: right;\">\n",
       "      <th></th>\n",
       "      <th>0</th>\n",
       "      <th>1</th>\n",
       "      <th>2</th>\n",
       "      <th>3</th>\n",
       "      <th>4</th>\n",
       "    </tr>\n",
       "  </thead>\n",
       "  <tbody>\n",
       "    <tr>\n",
       "      <th>0</th>\n",
       "      <td>Integrated M.C.A.-Integrated Master of Compute...</td>\n",
       "      <td>Integrated M.C.A.-Integrated Master of Compute...</td>\n",
       "      <td>[Integrated M.C.A., Integrated Master of Compu...</td>\n",
       "      <td>Integrated M.C.A.</td>\n",
       "      <td>Integrated Master of Computer Applications</td>\n",
       "    </tr>\n",
       "    <tr>\n",
       "      <th>1</th>\n",
       "      <td>M.C.A. -Master of Computer Applications</td>\n",
       "      <td>M.C.A. -Master of Computer Applications</td>\n",
       "      <td>[M.C.A. , Master of Computer Applications]</td>\n",
       "      <td>M.C.A.</td>\n",
       "      <td>Master of Computer Applications</td>\n",
       "    </tr>\n",
       "    <tr>\n",
       "      <th>2</th>\n",
       "      <td>B.Ed.-Bachelor of Education</td>\n",
       "      <td>B.Ed.-Bachelor of Education</td>\n",
       "      <td>[B.Ed., Bachelor of Education]</td>\n",
       "      <td>B.Ed.</td>\n",
       "      <td>Bachelor of Education</td>\n",
       "    </tr>\n",
       "    <tr>\n",
       "      <th>3</th>\n",
       "      <td>B.C.A.-Bachelor of Computer Applications</td>\n",
       "      <td>B.C.A.-Bachelor of Computer Applications</td>\n",
       "      <td>[B.C.A., Bachelor of Computer Applications]</td>\n",
       "      <td>B.C.A.</td>\n",
       "      <td>Bachelor of Computer Applications</td>\n",
       "    </tr>\n",
       "    <tr>\n",
       "      <th>4</th>\n",
       "      <td>B.A.-Bachelor of Arts</td>\n",
       "      <td>B.A.-Bachelor of Arts</td>\n",
       "      <td>[B.A., Bachelor of Arts]</td>\n",
       "      <td>B.A.</td>\n",
       "      <td>Bachelor of Arts</td>\n",
       "    </tr>\n",
       "  </tbody>\n",
       "</table>\n",
       "</div>"
      ],
      "text/plain": [
       "                                                   0  \\\n",
       "0  Integrated M.C.A.-Integrated Master of Compute...   \n",
       "1            M.C.A. -Master of Computer Applications   \n",
       "2                        B.Ed.-Bachelor of Education   \n",
       "3           B.C.A.-Bachelor of Computer Applications   \n",
       "4                              B.A.-Bachelor of Arts   \n",
       "\n",
       "                                                   1  \\\n",
       "0  Integrated M.C.A.-Integrated Master of Compute...   \n",
       "1            M.C.A. -Master of Computer Applications   \n",
       "2                        B.Ed.-Bachelor of Education   \n",
       "3           B.C.A.-Bachelor of Computer Applications   \n",
       "4                              B.A.-Bachelor of Arts   \n",
       "\n",
       "                                                   2                  3  \\\n",
       "0  [Integrated M.C.A., Integrated Master of Compu...  Integrated M.C.A.   \n",
       "1         [M.C.A. , Master of Computer Applications]            M.C.A.    \n",
       "2                     [B.Ed., Bachelor of Education]              B.Ed.   \n",
       "3        [B.C.A., Bachelor of Computer Applications]             B.C.A.   \n",
       "4                           [B.A., Bachelor of Arts]               B.A.   \n",
       "\n",
       "                                            4  \n",
       "0  Integrated Master of Computer Applications  \n",
       "1             Master of Computer Applications  \n",
       "2                       Bachelor of Education  \n",
       "3           Bachelor of Computer Applications  \n",
       "4                            Bachelor of Arts  "
      ]
     },
     "execution_count": 15,
     "metadata": {},
     "output_type": "execute_result"
    }
   ],
   "source": [
    "programs[3] = programs[2].apply(return_0)\n",
    "programs[4] = programs[2].apply(return_1)\n",
    "programs.head()"
   ]
  },
  {
   "cell_type": "code",
   "execution_count": 16,
   "metadata": {},
   "outputs": [],
   "source": [
    "def rm_full(string):\n",
    "    return string.replace('.','')"
   ]
  },
  {
   "cell_type": "code",
   "execution_count": 17,
   "metadata": {},
   "outputs": [],
   "source": [
    "programs[5] = programs[3].apply(rm_full)"
   ]
  },
  {
   "cell_type": "code",
   "execution_count": 18,
   "metadata": {},
   "outputs": [
    {
     "data": {
      "text/html": [
       "<div>\n",
       "<style scoped>\n",
       "    .dataframe tbody tr th:only-of-type {\n",
       "        vertical-align: middle;\n",
       "    }\n",
       "\n",
       "    .dataframe tbody tr th {\n",
       "        vertical-align: top;\n",
       "    }\n",
       "\n",
       "    .dataframe thead th {\n",
       "        text-align: right;\n",
       "    }\n",
       "</style>\n",
       "<table border=\"1\" class=\"dataframe\">\n",
       "  <thead>\n",
       "    <tr style=\"text-align: right;\">\n",
       "      <th></th>\n",
       "      <th>cid</th>\n",
       "      <th>name</th>\n",
       "      <th>programme</th>\n",
       "      <th>discipline</th>\n",
       "      <th>discipline_group</th>\n",
       "      <th>discipline_group_category</th>\n",
       "      <th>intake</th>\n",
       "      <th>duration_year</th>\n",
       "    </tr>\n",
       "  </thead>\n",
       "  <tbody>\n",
       "    <tr>\n",
       "      <th>0</th>\n",
       "      <td>C100</td>\n",
       "      <td>Manish Institute of Computer Studies</td>\n",
       "      <td>Integrated M.C.A.-Integrated Master of Compute...</td>\n",
       "      <td>Computer Science</td>\n",
       "      <td>Computer Application</td>\n",
       "      <td>IT &amp; Computer</td>\n",
       "      <td>60</td>\n",
       "      <td>5</td>\n",
       "    </tr>\n",
       "    <tr>\n",
       "      <th>1</th>\n",
       "      <td>C100</td>\n",
       "      <td>Manish Institute of Computer Studies</td>\n",
       "      <td>M.C.A. -Master of Computer Applications</td>\n",
       "      <td>Computer Science</td>\n",
       "      <td>Computer Application</td>\n",
       "      <td>IT &amp; Computer</td>\n",
       "      <td>60</td>\n",
       "      <td>3</td>\n",
       "    </tr>\n",
       "    <tr>\n",
       "      <th>2</th>\n",
       "      <td>C10000</td>\n",
       "      <td>SIDDARTHA COLLEGE OF EDUCATION,  JAMKHANDI</td>\n",
       "      <td>B.Ed.-Bachelor of Education</td>\n",
       "      <td>Education</td>\n",
       "      <td>Education</td>\n",
       "      <td>Education</td>\n",
       "      <td>50</td>\n",
       "      <td>2</td>\n",
       "    </tr>\n",
       "    <tr>\n",
       "      <th>3</th>\n",
       "      <td>C10002</td>\n",
       "      <td>VVS'S ARTS/COMM COLLEGE,  BIJAPUR</td>\n",
       "      <td>B.C.A.-Bachelor of Computer Applications</td>\n",
       "      <td>COMPUTER</td>\n",
       "      <td>Computer Application</td>\n",
       "      <td>IT &amp; Computer</td>\n",
       "      <td>100</td>\n",
       "      <td>3</td>\n",
       "    </tr>\n",
       "    <tr>\n",
       "      <th>4</th>\n",
       "      <td>C10002</td>\n",
       "      <td>VVS'S ARTS/COMM COLLEGE,  BIJAPUR</td>\n",
       "      <td>B.A.-Bachelor of Arts</td>\n",
       "      <td>Arts</td>\n",
       "      <td>Arts</td>\n",
       "      <td>Arts</td>\n",
       "      <td>240</td>\n",
       "      <td>3</td>\n",
       "    </tr>\n",
       "  </tbody>\n",
       "</table>\n",
       "</div>"
      ],
      "text/plain": [
       "      cid                                        name  \\\n",
       "0    C100        Manish Institute of Computer Studies   \n",
       "1    C100        Manish Institute of Computer Studies   \n",
       "2  C10000  SIDDARTHA COLLEGE OF EDUCATION,  JAMKHANDI   \n",
       "3  C10002           VVS'S ARTS/COMM COLLEGE,  BIJAPUR   \n",
       "4  C10002           VVS'S ARTS/COMM COLLEGE,  BIJAPUR   \n",
       "\n",
       "                                           programme        discipline  \\\n",
       "0  Integrated M.C.A.-Integrated Master of Compute...  Computer Science   \n",
       "1            M.C.A. -Master of Computer Applications  Computer Science   \n",
       "2                        B.Ed.-Bachelor of Education         Education   \n",
       "3           B.C.A.-Bachelor of Computer Applications          COMPUTER   \n",
       "4                              B.A.-Bachelor of Arts              Arts   \n",
       "\n",
       "       discipline_group discipline_group_category  intake  duration_year  \n",
       "0  Computer Application             IT & Computer      60              5  \n",
       "1  Computer Application             IT & Computer      60              3  \n",
       "2             Education                 Education      50              2  \n",
       "3  Computer Application             IT & Computer     100              3  \n",
       "4                  Arts                      Arts     240              3  "
      ]
     },
     "execution_count": 18,
     "metadata": {},
     "output_type": "execute_result"
    }
   ],
   "source": [
    "data.head()"
   ]
  },
  {
   "cell_type": "code",
   "execution_count": 19,
   "metadata": {},
   "outputs": [],
   "source": [
    "programs = programs.drop(2,axis=1)"
   ]
  },
  {
   "cell_type": "code",
   "execution_count": 20,
   "metadata": {},
   "outputs": [],
   "source": [
    "def add_invcomm(string):\n",
    "    return '\"'+string+'\"'"
   ]
  },
  {
   "cell_type": "code",
   "execution_count": 21,
   "metadata": {},
   "outputs": [],
   "source": [
    "programs = programs.apply(add_invcomm)"
   ]
  },
  {
   "cell_type": "code",
   "execution_count": 22,
   "metadata": {},
   "outputs": [],
   "source": [
    "programs.to_csv('all_institutions_course_updated.csv')"
   ]
  },
  {
   "cell_type": "code",
   "execution_count": null,
   "metadata": {},
   "outputs": [],
   "source": []
  }
 ],
 "metadata": {
  "kernelspec": {
   "display_name": "Python 3",
   "language": "python",
   "name": "python3"
  },
  "language_info": {
   "codemirror_mode": {
    "name": "ipython",
    "version": 3
   },
   "file_extension": ".py",
   "mimetype": "text/x-python",
   "name": "python",
   "nbconvert_exporter": "python",
   "pygments_lexer": "ipython3",
   "version": "3.6.3"
  }
 },
 "nbformat": 4,
 "nbformat_minor": 2
}
