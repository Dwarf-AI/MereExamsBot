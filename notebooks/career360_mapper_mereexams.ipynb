{
 "cells": [
  {
   "cell_type": "code",
   "execution_count": 12,
   "metadata": {},
   "outputs": [],
   "source": [
    "import re\n",
    "from collections import defaultdict\n",
    "import pandas as pd\n",
    "from tqdm import  tqdm\n",
    "from threading import Thread as th\n",
    "from time import time"
   ]
  },
  {
   "cell_type": "code",
   "execution_count": 39,
   "metadata": {},
   "outputs": [
    {
     "data": {
      "text/plain": [
       "'hello.com'"
      ]
     },
     "execution_count": 39,
     "metadata": {},
     "output_type": "execute_result"
    }
   ],
   "source": [
    "def web(w):\n",
    "    w = re.sub(r'www.', '', w)\n",
    "    w = re.sub('https?://', '', w)\n",
    "    return re.sub('/.*', '', w)\n",
    "\n",
    "web('https://www.hello.com/world/yeah')"
   ]
  },
  {
   "cell_type": "code",
   "execution_count": 79,
   "metadata": {},
   "outputs": [
    {
     "data": {
      "text/plain": [
       "True"
      ]
     },
     "execution_count": 79,
     "metadata": {},
     "output_type": "execute_result"
    }
   ],
   "source": [
    "def match(val1, val2, col):\n",
    "    if not val1 == 'nan' and not val2 == 'nan':\n",
    "        if col == 'State':\n",
    "            if not val1[:3] == val2[:3]: return False\n",
    "            else: return True\n",
    "        if col == 'Web':\n",
    "            if not val1 == val2: return False\n",
    "            else: return True\n",
    "        if col == 'Estb':\n",
    "            if not int(val1) == int(val2): return False\n",
    "            else: return True\n",
    "        if col == 'Pin':\n",
    "            if not int(val)\n",
    "    return True\n",
    "\n",
    "comp('har', 'del', 'State')\n",
    "comp('har', 'har', 'State')\n",
    "comp('Nan', 'Nan', 'State')"
   ]
  },
  {
   "cell_type": "markdown",
   "metadata": {},
   "source": [
    "#### To get list of words in college name"
   ]
  },
  {
   "cell_type": "code",
   "execution_count": 37,
   "metadata": {},
   "outputs": [
    {
     "data": {
      "text/plain": [
       "defaultdict(None,\n",
       "            {'cities': ['mandi', 'gobindgarh'],\n",
       "             'colg': ['rimt', 'institute', 'engineering', 'technology'],\n",
       "             'pin': 121005})"
      ]
     },
     "execution_count": 37,
     "metadata": {},
     "output_type": "execute_result"
    }
   ],
   "source": [
    "# to_remove = ['gov\\S*\\s?', 'univ\\S*\\s?', ',*' , 'coll\\S*\\s?']\n",
    "# pattern = re.compile('|'.join(to_remove))\n",
    "def col_name(college):\n",
    "    col = defaultdict()\n",
    "    college = re.sub('-|_|&', '', college)\n",
    "    college = re.sub('of |and ', '', college)\n",
    "    \n",
    "    pin = re.findall('\\d{6,}', college)\n",
    "    if pin: col['pin'] = int(pin[0])\n",
    "\n",
    "    college = re.sub('\\d*', '', college)\n",
    "    colg = college.lower().split(',')[0]\n",
    "    colg = re.sub('inst\\S*\\s?', 'institute ', colg)\n",
    "    colg = re.sub('gov\\S*\\s?', 'government ', colg)\n",
    "    colg = re.sub('univ\\S*\\s?', 'university ', colg)\n",
    "    colg = re.sub('coll\\S*\\s?', 'college ', colg)\n",
    "    colg = re.sub('eng\\S*\\s', 'engineering ', colg)\n",
    "    colg = re.sub('tech\\S*\\s', 'technology ', colg)\n",
    "    colg = re.sub('\\s+', ' ', colg)\n",
    "    colg = colg.lower().split(' ')\n",
    "    col['colg'] = list(filter(None, colg))\n",
    "\n",
    "    cities = college.lower().split(',')[1:]\n",
    "    cities = [c for city in [city.split() for city in cities] for c in city]\n",
    "    col['cities'] = list(filter(None, cities))\n",
    "    return col\n",
    "\n",
    "col_name('rimt- institute  of   engg. and technology , mandi - , gobindgarh 121005')"
   ]
  },
  {
   "cell_type": "code",
   "execution_count": 104,
   "metadata": {},
   "outputs": [],
   "source": [
    "def same(row1, row2):\n",
    "    points = 0\n",
    "    # if state, website or Estb unmatched, goto next row.\n",
    "    if not match(row1['state'], row2['State'], 'State'): return (False, points+1)\n",
    "    print('State matched')\n",
    "    if row1['website'] == row2['website']: points += 2\n",
    "    print('Website matched')\n",
    "    \n",
    "    col1 = row1['name_dict']\n",
    "    col2 = row2['Name_dict']\n",
    "    if col1['colg'][0] == col2['colg'][0]:\n",
    "        points += 2\n",
    "    points = len(set(col1['colg']).intersection(col2['colg'])) / len(set(col1['colg']).union(col2['colg']))  * 3 + points\n",
    "    points = min(4, points)\n",
    "    \n",
    "    city1 = col1['cities'] if 'cities' in col1.keys() else []\n",
    "    city2 = col1['cities'] if 'cities' in col2.keys() else []\n",
    "    if not row2['City'] == 'nan' and not row1['city'] == 'nan':\n",
    "        city1.append(row1['city'])\n",
    "        city2.append(row2['City'])\n",
    "    city1 = set(filter(None, [c[:4] for c in city1]))\n",
    "    city2 = set(filter(None, [c[:4] for c in city2]))\n",
    "    \n",
    "    points += min(3,len(city1.intersection(city2)) * 3)\n",
    "    \n",
    "    if points > 4: return (True, points)\n",
    "    else: return (False, points)"
   ]
  },
  {
   "cell_type": "code",
   "execution_count": 98,
   "metadata": {},
   "outputs": [],
   "source": [
    "def mapper(start, end):\n",
    "    global mapp, remark\n",
    "    start_time = time()\n",
    "    \n",
    "    c360 = pd.read_csv('../all_colleges_car360.csv').astype(str)\n",
    "    me = pd.read_csv('../all_colleges_mereexams.csv').astype(str)[start:end]\n",
    "    c360[['State', 'City', 'Name']] = c360[['State', 'City', 'Name']].applymap(lambda x: x.lower())\n",
    "    me[['state', 'city', 'name']] = me[['state', 'city', 'name']].applymap(lambda x: x.lower())\n",
    "    c360.sort_values(['Name'], inplace = True)\n",
    "    me.sort_values(['name'], inplace = True)\n",
    "    c360['website'] = c360['website'].apply(web)\n",
    "    me['website'] = me['website'].apply(web)\n",
    "    print('Halfway of data loading')\n",
    "    c360['Name_dict'] = c360['Name'].apply(col_name)\n",
    "    me['name_dict'] = me['name'].apply(col_name)\n",
    "    me['estb'] = me['year_of_establishment']\n",
    "    me.drop(['year_of_establishment'], axis = 1, inplace=True)\n",
    "    \n",
    "    end_time = time()\n",
    "    print(f'data load completed in {end_time-start_time} s')\n",
    "    for index, row1 in tqdm(me.iterrows()):\n",
    "        points = 0\n",
    "        print(row1['name'], row1['state'], row1['website'], row1['city'], row1['estb'], sep = ' | ')\n",
    "        for index2, row2 in c360.iterrows():\n",
    "            if matched[index2]: continue\n",
    "            (match, p)  = same(row1, row2)\n",
    "            if match: \n",
    "                mapp.append([row1['name'] ,row2['Name']])\n",
    "                matched[index2] = True\n",
    "                break\n",
    "            elif p > points:\n",
    "                points = p\n",
    "                name = row2['Name']\n",
    "        if points > 3:\n",
    "            remark.append([row1['name'] , name])"
   ]
  },
  {
   "cell_type": "code",
   "execution_count": null,
   "metadata": {},
   "outputs": [],
   "source": [
    "t = [0] * 9\n",
    "mapp = []\n",
    "remark = []\n",
    "matched = [False] * 18465\n",
    "\n",
    "for i in range(8):\n",
    "    t[i] = th(target = mapper, args = (i*5000, (i+1) * 5000))\n",
    "t[8] = th(target = mapper, args = (40000, 42908))\n",
    "\n",
    "for i in range(8):\n",
    "    t[i].start()\n",
    "t[8].start()\n",
    "\n",
    "for i in range(8):\n",
    "    t[i].join()\n",
    "t[8].join()\n",
    "print('script successful')"
   ]
  },
  {
   "cell_type": "code",
   "execution_count": 105,
   "metadata": {},
   "outputs": [
    {
     "name": "stderr",
     "output_type": "stream",
     "text": [
      "/home/anonymous/anaconda3/lib/python3.6/site-packages/IPython/core/interactiveshell.py:2827: DtypeWarning: Columns (7) have mixed types. Specify dtype option on import or set low_memory=False.\n",
      "  if self.run_code(code, result):\n"
     ]
    },
    {
     "name": "stdout",
     "output_type": "stream",
     "text": [
      "Halfway of data loading\n"
     ]
    },
    {
     "name": "stderr",
     "output_type": "stream",
     "text": [
      "\n",
      "\n",
      "0it [00:00, ?it/s]\u001b[A\u001b[A"
     ]
    },
    {
     "name": "stdout",
     "output_type": "stream",
     "text": [
      "data load completed in 2.883502721786499 s\n",
      "global business school, belagavi (pg) | karnataka | betgbs.in | belgaum | 2009.0\n",
      "State matched\n",
      "Website matched\n",
      "State matched\n",
      "Website matched\n",
      "State matched\n",
      "Website matched\n",
      "State matched\n",
      "Website matched\n",
      "State matched\n",
      "Website matched\n",
      "State matched\n",
      "Website matched\n"
     ]
    },
    {
     "name": "stderr",
     "output_type": "stream",
     "text": [
      "\n",
      "\n",
      "1it [00:01,  1.59s/it]\u001b[A\u001b[A"
     ]
    },
    {
     "name": "stdout",
     "output_type": "stream",
     "text": [
      "govt first grade college  bijapur ( 5012) | karnataka | nan | vijayapur | 2005.0\n",
      "State matched\n",
      "Website matched\n",
      "State matched\n",
      "Website matched\n",
      "State matched\n",
      "Website matched\n",
      "State matched\n",
      "Website matched\n",
      "State matched\n",
      "Website matched\n",
      "State matched\n",
      "Website matched\n"
     ]
    },
    {
     "name": "stderr",
     "output_type": "stream",
     "text": [
      "\n",
      "\n",
      "2it [00:03,  1.53s/it]\u001b[A\u001b[A"
     ]
    },
    {
     "name": "stdout",
     "output_type": "stream",
     "text": [
      "govt first grade college, nesargi | karnataka | gfgcnesargi.org | nesargi | 1988.0\n",
      "State matched\n",
      "Website matched\n",
      "State matched\n",
      "Website matched\n",
      "State matched\n",
      "Website matched\n",
      "State matched\n",
      "Website matched\n",
      "State matched\n",
      "Website matched\n",
      "State matched\n",
      "Website matched\n"
     ]
    },
    {
     "name": "stderr",
     "output_type": "stream",
     "text": [
      "\n",
      "\n",
      "3it [00:04,  1.66s/it]\u001b[A\u001b[A"
     ]
    },
    {
     "name": "stdout",
     "output_type": "stream",
     "text": [
      "govt first grade college, ramdurg | karnataka | gfgcrmdurg.com | ramdurg | 2007.0\n",
      "State matched\n",
      "Website matched\n",
      "State matched\n",
      "Website matched\n",
      "State matched\n",
      "Website matched\n",
      "State matched\n",
      "Website matched\n",
      "State matched\n",
      "Website matched\n",
      "State matched\n",
      "Website matched\n"
     ]
    },
    {
     "name": "stderr",
     "output_type": "stream",
     "text": [
      "\n",
      "\n",
      "4it [00:07,  1.81s/it]\u001b[A\u001b[A"
     ]
    },
    {
     "name": "stdout",
     "output_type": "stream",
     "text": [
      "govt.college of teachers education, belgaum | karnataka | dsert.kar.nic.in | belgaum | 1939.0\n",
      "State matched\n",
      "Website matched\n",
      "State matched\n",
      "Website matched\n",
      "State matched\n",
      "Website matched\n",
      "State matched\n",
      "Website matched\n",
      "State matched\n",
      "Website matched\n",
      "State matched\n",
      "Website matched\n"
     ]
    },
    {
     "name": "stderr",
     "output_type": "stream",
     "text": [
      "\n",
      "\n",
      "5it [00:08,  1.78s/it]\u001b[A\u001b[A"
     ]
    },
    {
     "name": "stdout",
     "output_type": "stream",
     "text": [
      "kls gogte college of commerce,  belgaum | karnataka | gccbgm.org | belgaum - 590006 | 1954.0\n",
      "State matched\n",
      "Website matched\n",
      "State matched\n",
      "Website matched\n",
      "State matched\n",
      "Website matched\n",
      "State matched\n",
      "Website matched\n",
      "State matched\n",
      "Website matched\n",
      "State matched\n",
      "Website matched\n"
     ]
    },
    {
     "name": "stderr",
     "output_type": "stream",
     "text": [
      "\n",
      "\n",
      "6it [00:10,  1.77s/it]\u001b[A\u001b[A"
     ]
    },
    {
     "name": "stdout",
     "output_type": "stream",
     "text": [
      "m.j.kundaliya education & physical education college-rajkot | gujarat | sdr-mjk.org | rajkot | 2002.0\n",
      "State matched\n",
      "Website matched\n",
      "State matched\n",
      "Website matched\n",
      "State matched\n",
      "Website matched\n",
      "State matched\n",
      "Website matched\n",
      "State matched\n",
      "Website matched\n",
      "State matched\n",
      "Website matched\n"
     ]
    },
    {
     "name": "stderr",
     "output_type": "stream",
     "text": [
      "\n",
      "\n",
      "7it [00:12,  1.78s/it]\u001b[A\u001b[A"
     ]
    },
    {
     "name": "stdout",
     "output_type": "stream",
     "text": [
      "s m hilli degree college,  bolegaon | karnataka | nan | indi | 1992.0\n",
      "State matched\n",
      "Website matched\n",
      "State matched\n",
      "Website matched\n",
      "State matched\n",
      "Website matched\n",
      "State matched\n",
      "Website matched\n",
      "State matched\n",
      "Website matched\n",
      "State matched\n",
      "Website matched\n"
     ]
    },
    {
     "name": "stderr",
     "output_type": "stream",
     "text": [
      "\n",
      "\n",
      "8it [00:14,  1.83s/it]\u001b[A\u001b[A"
     ]
    },
    {
     "name": "stdout",
     "output_type": "stream",
     "text": [
      "sri g r gandhi arts&sri y a patil comm college,  indi | karnataka | grgayapcc.org | indi | 1979.0\n",
      "State matched\n",
      "Website matched\n",
      "State matched\n",
      "Website matched\n",
      "State matched\n",
      "Website matched\n",
      "State matched\n",
      "Website matched\n",
      "State matched\n",
      "Website matched\n",
      "State matched\n",
      "Website matched\n"
     ]
    },
    {
     "name": "stderr",
     "output_type": "stream",
     "text": [
      "\n",
      "\n",
      "9it [00:16,  1.84s/it]\u001b[A\u001b[A"
     ]
    },
    {
     "name": "stdout",
     "output_type": "stream",
     "text": [
      "sri maliy appaiah swami edu., college,  gaddankeri | karnataka | ssvvsanghagdk.org | bagalkot | 2005.0\n",
      "State matched\n",
      "Website matched\n",
      "State matched\n",
      "Website matched\n",
      "State matched\n",
      "Website matched\n",
      "State matched\n",
      "Website matched\n",
      "State matched\n",
      "Website matched\n",
      "State matched\n",
      "Website matched\n"
     ]
    },
    {
     "name": "stderr",
     "output_type": "stream",
     "text": [
      "\n",
      "\n",
      "10it [00:18,  1.83s/it]\u001b[A\u001b[A\n",
      "\n",
      "\u001b[A\u001b[A"
     ]
    }
   ],
   "source": [
    "mapp = []\n",
    "remark = []\n",
    "matched = [False] * 18465\n",
    "mapper(100, 110)"
   ]
  },
  {
   "cell_type": "code",
   "execution_count": 103,
   "metadata": {},
   "outputs": [
    {
     "data": {
      "text/plain": [
       "(18465, 26)"
      ]
     },
     "execution_count": 103,
     "metadata": {},
     "output_type": "execute_result"
    }
   ],
   "source": [
    "c360.shape"
   ]
  },
  {
   "cell_type": "code",
   "execution_count": 108,
   "metadata": {},
   "outputs": [
    {
     "data": {
      "text/plain": [
       "[['global business school, belagavi (pg)',\n",
       "  'sp jain school of global management, dubai']]"
      ]
     },
     "execution_count": 108,
     "metadata": {},
     "output_type": "execute_result"
    }
   ],
   "source": [
    "remark"
   ]
  },
  {
   "cell_type": "code",
   "execution_count": null,
   "metadata": {},
   "outputs": [],
   "source": [
    "c"
   ]
  },
  {
   "cell_type": "code",
   "execution_count": 76,
   "metadata": {},
   "outputs": [
    {
     "data": {
      "text/plain": [
       "149"
      ]
     },
     "execution_count": 76,
     "metadata": {},
     "output_type": "execute_result"
    }
   ],
   "source": [
    "c360.Estd.nunique()"
   ]
  },
  {
   "cell_type": "code",
   "execution_count": 64,
   "metadata": {},
   "outputs": [
    {
     "name": "stderr",
     "output_type": "stream",
     "text": [
      "/home/anonymous/anaconda3/lib/python3.6/site-packages/IPython/core/interactiveshell.py:2717: DtypeWarning: Columns (7) have mixed types. Specify dtype option on import or set low_memory=False.\n",
      "  interactivity=interactivity, compiler=compiler, result=result)\n"
     ]
    }
   ],
   "source": [
    "c360 = pd.read_csv('../all_colleges_car360.csv').astype(str)\n",
    "me = pd.read_csv('../all_colleges_mereexams.csv').astype(str)[100:150]\n",
    "c360[['State', 'City', 'Name']] = c360[['State', 'City', 'Name']].applymap(lambda x: x.lower())\n",
    "me[['state', 'city', 'name']] = me[['state', 'city', 'name']].applymap(lambda x: x.lower())\n",
    "c360.sort_values(['Name'], inplace = True)\n",
    "me.sort_values(['name'], inplace = True)\n",
    "c360['website'] = c360['website'].apply(web)\n",
    "me['website'] = me['website'].apply(web)\n",
    "c360['Name_list'] = c360['Name'].apply(col_name)\n",
    "me['name_list'] = me['name'].apply(col_name)\n",
    "me['estb'] = me['year_of_establishment']\n",
    "me.drop(['year_of_establishment'], axis = 1, inplace=True)"
   ]
  },
  {
   "cell_type": "code",
   "execution_count": 7,
   "metadata": {},
   "outputs": [],
   "source": [
    "c360.loc[1, ['Name', 'City', 'State', 'website']] = me.loc[1, ['name', 'city', 'state', 'website']].values"
   ]
  },
  {
   "cell_type": "code",
   "execution_count": 8,
   "metadata": {},
   "outputs": [
    {
     "name": "stdout",
     "output_type": "stream",
     "text": [
      "Mereexams\n",
      " Index(['cid', 'name', 'address_line1', 'address_line2', 'city', 'state',\n",
      "       'pin_code', 'area', 'constructed_area', 'website',\n",
      "       'year_of_establishment', 'type', 'Affiliated_to_University',\n",
      "       'playground', 'auditorium'],\n",
      "      dtype='object')\n",
      "C360\n",
      " Index(['Unnamed: 0', 'Unnamed: 0.1', 'Unnamed: 0.1.1', 'Id', 'Name',\n",
      "       'known_as', 'Estd', 'State', 'City', 'Address', 'ownership',\n",
      "       'Approved_by', 'Affilate_to', 'contact', 'Rank', 'website', 'score',\n",
      "       'facilities', 'exams', 'stream', 'faculty', 'facebook', 'twitter',\n",
      "       'youtube', 'wiki'],\n",
      "      dtype='object')\n"
     ]
    }
   ],
   "source": [
    "print('Mereexams\\n', me.columns[:15])\n",
    "print('C360\\n', c360.columns)"
   ]
  },
  {
   "cell_type": "code",
   "execution_count": 217,
   "metadata": {},
   "outputs": [
    {
     "name": "stderr",
     "output_type": "stream",
     "text": [
      "50it [05:23,  6.46s/it]\n"
     ]
    }
   ],
   "source": [
    "for index, row1 in tqdm(me.iterrows()):\n",
    "    points = 0\n",
    "    for index, row2 in c360.iterrows():\n",
    "        (match, p)  = same(row1, row2)\n",
    "        if match: \n",
    "            mapp[row1['name']] = row2['Name']\n",
    "            break\n",
    "        elif p > points:\n",
    "            points = p\n",
    "            name = row2['Name']\n",
    "    if points > 10:\n",
    "        remark[row1['name']] = name"
   ]
  },
  {
   "cell_type": "code",
   "execution_count": 218,
   "metadata": {},
   "outputs": [
    {
     "name": "stdout",
     "output_type": "stream",
     "text": [
      "secab inst., of bba/bca,  college, bijapur \t secab institute of business administration, bijapur \n",
      "\n",
      "\n"
     ]
    }
   ],
   "source": [
    "for key in mapp.keys():\n",
    "    print(key, '\\t', mapp[key], '\\n\\n') "
   ]
  },
  {
   "cell_type": "code",
   "execution_count": 219,
   "metadata": {},
   "outputs": [
    {
     "name": "stdout",
     "output_type": "stream",
     "text": [
      "j.h.bhalodiya women's  college-rajkot (commerce & b.b.a.) \t shri jh bhalodiya womens college, rajkot \n",
      "\n",
      "\n",
      "jss's bharatesh college of business administration,  belgaum \t padmaraj ariga bharatesh college of business administration, belgaum \n",
      "\n",
      "\n"
     ]
    }
   ],
   "source": [
    "for key in remark.keys():\n",
    "    print(key, '\\t', remark[key], '\\n\\n') "
   ]
  },
  {
   "cell_type": "code",
   "execution_count": 145,
   "metadata": {},
   "outputs": [
    {
     "data": {
      "text/plain": [
       "'indo global college of architecture, mohali'"
      ]
     },
     "execution_count": 145,
     "metadata": {},
     "output_type": "execute_result"
    }
   ],
   "source": [
    "remark[\"indo global college of engg. abhipur\"]"
   ]
  },
  {
   "cell_type": "code",
   "execution_count": 136,
   "metadata": {},
   "outputs": [
    {
     "data": {
      "text/html": [
       "<div>\n",
       "<style scoped>\n",
       "    .dataframe tbody tr th:only-of-type {\n",
       "        vertical-align: middle;\n",
       "    }\n",
       "\n",
       "    .dataframe tbody tr th {\n",
       "        vertical-align: top;\n",
       "    }\n",
       "\n",
       "    .dataframe thead th {\n",
       "        text-align: right;\n",
       "    }\n",
       "</style>\n",
       "<table border=\"1\" class=\"dataframe\">\n",
       "  <thead>\n",
       "    <tr style=\"text-align: right;\">\n",
       "      <th></th>\n",
       "      <th>cid</th>\n",
       "      <th>name</th>\n",
       "      <th>address_line1</th>\n",
       "      <th>address_line2</th>\n",
       "      <th>city</th>\n",
       "      <th>state</th>\n",
       "      <th>pin_code</th>\n",
       "      <th>area</th>\n",
       "      <th>constructed_area</th>\n",
       "      <th>website</th>\n",
       "      <th>...</th>\n",
       "      <th>no_of_separate_rooms_for_girls</th>\n",
       "      <th>solar_power_generation</th>\n",
       "      <th>connectivity_nkn</th>\n",
       "      <th>connectivity_nmeict</th>\n",
       "      <th>no_of_books</th>\n",
       "      <th>no_of_journals</th>\n",
       "      <th>campus_friendly</th>\n",
       "      <th>grievance_redressal_mechanism</th>\n",
       "      <th>vigilance_cell</th>\n",
       "      <th>opportunity_cell</th>\n",
       "    </tr>\n",
       "  </thead>\n",
       "  <tbody>\n",
       "    <tr>\n",
       "      <th>288</th>\n",
       "      <td>C10350</td>\n",
       "      <td>ggs college of modern technology, kharar</td>\n",
       "      <td>Chandigarh-Ludhiana Highway, Kharar</td>\n",
       "      <td>nan</td>\n",
       "      <td>kharar, mohali</td>\n",
       "      <td>nan</td>\n",
       "      <td>140301</td>\n",
       "      <td>13.0</td>\n",
       "      <td>13877</td>\n",
       "      <td>www.ggssachdeva.com</td>\n",
       "      <td>...</td>\n",
       "      <td>1.0</td>\n",
       "      <td>False</td>\n",
       "      <td>False</td>\n",
       "      <td>False</td>\n",
       "      <td>31053.0</td>\n",
       "      <td>56.0</td>\n",
       "      <td>True</td>\n",
       "      <td>True</td>\n",
       "      <td>True</td>\n",
       "      <td>True</td>\n",
       "    </tr>\n",
       "  </tbody>\n",
       "</table>\n",
       "<p>1 rows × 50 columns</p>\n",
       "</div>"
      ],
      "text/plain": [
       "        cid                                      name  \\\n",
       "288  C10350  ggs college of modern technology, kharar   \n",
       "\n",
       "                           address_line1 address_line2            city state  \\\n",
       "288  Chandigarh-Ludhiana Highway, Kharar           nan  kharar, mohali   nan   \n",
       "\n",
       "    pin_code  area constructed_area              website       ...         \\\n",
       "288   140301  13.0            13877  www.ggssachdeva.com       ...          \n",
       "\n",
       "    no_of_separate_rooms_for_girls solar_power_generation connectivity_nkn  \\\n",
       "288                            1.0                  False            False   \n",
       "\n",
       "    connectivity_nmeict no_of_books no_of_journals campus_friendly  \\\n",
       "288               False     31053.0           56.0            True   \n",
       "\n",
       "    grievance_redressal_mechanism vigilance_cell opportunity_cell  \n",
       "288                          True           True             True  \n",
       "\n",
       "[1 rows x 50 columns]"
      ]
     },
     "execution_count": 136,
     "metadata": {},
     "output_type": "execute_result"
    }
   ],
   "source": [
    "me[me['name'] == 'ggs college of modern technology, kharar']"
   ]
  },
  {
   "cell_type": "code",
   "execution_count": 138,
   "metadata": {},
   "outputs": [
    {
     "data": {
      "text/html": [
       "<div>\n",
       "<style scoped>\n",
       "    .dataframe tbody tr th:only-of-type {\n",
       "        vertical-align: middle;\n",
       "    }\n",
       "\n",
       "    .dataframe tbody tr th {\n",
       "        vertical-align: top;\n",
       "    }\n",
       "\n",
       "    .dataframe thead th {\n",
       "        text-align: right;\n",
       "    }\n",
       "</style>\n",
       "<table border=\"1\" class=\"dataframe\">\n",
       "  <thead>\n",
       "    <tr style=\"text-align: right;\">\n",
       "      <th></th>\n",
       "      <th>Unnamed: 0</th>\n",
       "      <th>Unnamed: 0.1</th>\n",
       "      <th>Unnamed: 0.1.1</th>\n",
       "      <th>Id</th>\n",
       "      <th>Name</th>\n",
       "      <th>known_as</th>\n",
       "      <th>Estd</th>\n",
       "      <th>State</th>\n",
       "      <th>City</th>\n",
       "      <th>Address</th>\n",
       "      <th>...</th>\n",
       "      <th>website</th>\n",
       "      <th>score</th>\n",
       "      <th>facilities</th>\n",
       "      <th>exams</th>\n",
       "      <th>stream</th>\n",
       "      <th>faculty</th>\n",
       "      <th>facebook</th>\n",
       "      <th>twitter</th>\n",
       "      <th>youtube</th>\n",
       "      <th>wiki</th>\n",
       "    </tr>\n",
       "  </thead>\n",
       "  <tbody>\n",
       "    <tr>\n",
       "      <th>352</th>\n",
       "      <td>127</td>\n",
       "      <td>127</td>\n",
       "      <td>2353</td>\n",
       "      <td>2353</td>\n",
       "      <td>ggs college of modern technology, mohali</td>\n",
       "      <td>nan</td>\n",
       "      <td>2002.0</td>\n",
       "      <td>punjab</td>\n",
       "      <td>kharar</td>\n",
       "      <td>Chandigarh-Ludhiana Highway  Kharar-140301  Di...</td>\n",
       "      <td>...</td>\n",
       "      <td>http://www.ggssachdeva.com/cmt/</td>\n",
       "      <td>nan</td>\n",
       "      <td>['Boys Hostel', 'Girls Hostel', 'Gym', 'Librar...</td>\n",
       "      <td>['JEE Main']</td>\n",
       "      <td>eng</td>\n",
       "      <td>64.0</td>\n",
       "      <td>nan</td>\n",
       "      <td>nan</td>\n",
       "      <td>nan</td>\n",
       "      <td>https://en.wikipedia.org/wiki/Guru_Gobind_Sing...</td>\n",
       "    </tr>\n",
       "  </tbody>\n",
       "</table>\n",
       "<p>1 rows × 25 columns</p>\n",
       "</div>"
      ],
      "text/plain": [
       "    Unnamed: 0 Unnamed: 0.1 Unnamed: 0.1.1    Id  \\\n",
       "352        127          127           2353  2353   \n",
       "\n",
       "                                         Name known_as    Estd    State  \\\n",
       "352  ggs college of modern technology, mohali      nan  2002.0   punjab   \n",
       "\n",
       "       City                                            Address  \\\n",
       "352  kharar  Chandigarh-Ludhiana Highway  Kharar-140301  Di...   \n",
       "\n",
       "                           ...                          \\\n",
       "352                        ...                           \n",
       "\n",
       "                             website score  \\\n",
       "352  http://www.ggssachdeva.com/cmt/   nan   \n",
       "\n",
       "                                            facilities         exams stream  \\\n",
       "352  ['Boys Hostel', 'Girls Hostel', 'Gym', 'Librar...  ['JEE Main']    eng   \n",
       "\n",
       "    faculty facebook twitter youtube  \\\n",
       "352    64.0      nan     nan     nan   \n",
       "\n",
       "                                                  wiki  \n",
       "352  https://en.wikipedia.org/wiki/Guru_Gobind_Sing...  \n",
       "\n",
       "[1 rows x 25 columns]"
      ]
     },
     "execution_count": 138,
     "metadata": {},
     "output_type": "execute_result"
    }
   ],
   "source": [
    "c360[c360['Name'] == 'ggs college of modern technology, mohali']"
   ]
  },
  {
   "cell_type": "code",
   "execution_count": 149,
   "metadata": {},
   "outputs": [
    {
     "data": {
      "text/plain": [
       "dict_keys(['aman bhalla institute of engg. & tech, jhakolari, pathankot', 'ggs college of modern technology, kharar', 'rimt- institute of engg. and technology, mandi gobindgarh', 'sachdeva engg. college for girls vpo mohali', 'sri sai college of engg and technology , badhani'])"
      ]
     },
     "execution_count": 149,
     "metadata": {},
     "output_type": "execute_result"
    }
   ],
   "source": [
    "mapp.keys()"
   ]
  },
  {
   "cell_type": "code",
   "execution_count": 143,
   "metadata": {},
   "outputs": [
    {
     "data": {
      "text/plain": [
       "dict_keys(['aman bhalla institute of engg. & tech, jhakolari, pathankot', 'ct institute of management & technology, shahpur', 'ct institute of technology, shahpur', 'gulzar school of management, vill libra', 'guru teg bahadur khalsa institute  of engg. & technology', 'indo global college of engg. abhipur', 'sachdeva engg. college for girls vpo mohali', 'sri sai college of engg and technology , badhani', 'swami parmanand engg. college'])"
      ]
     },
     "execution_count": 143,
     "metadata": {},
     "output_type": "execute_result"
    }
   ],
   "source": [
    "remark.keys()"
   ]
  },
  {
   "cell_type": "code",
   "execution_count": 99,
   "metadata": {},
   "outputs": [
    {
     "data": {
      "text/html": [
       "<div>\n",
       "<style scoped>\n",
       "    .dataframe tbody tr th:only-of-type {\n",
       "        vertical-align: middle;\n",
       "    }\n",
       "\n",
       "    .dataframe tbody tr th {\n",
       "        vertical-align: top;\n",
       "    }\n",
       "\n",
       "    .dataframe thead th {\n",
       "        text-align: right;\n",
       "    }\n",
       "</style>\n",
       "<table border=\"1\" class=\"dataframe\">\n",
       "  <thead>\n",
       "    <tr style=\"text-align: right;\">\n",
       "      <th></th>\n",
       "      <th>cid</th>\n",
       "      <th>name</th>\n",
       "      <th>address_line1</th>\n",
       "      <th>address_line2</th>\n",
       "      <th>city</th>\n",
       "      <th>state</th>\n",
       "      <th>pin_code</th>\n",
       "      <th>area</th>\n",
       "      <th>constructed_area</th>\n",
       "      <th>website</th>\n",
       "      <th>...</th>\n",
       "      <th>no_of_separate_rooms_for_girls</th>\n",
       "      <th>solar_power_generation</th>\n",
       "      <th>connectivity_nkn</th>\n",
       "      <th>connectivity_nmeict</th>\n",
       "      <th>no_of_books</th>\n",
       "      <th>no_of_journals</th>\n",
       "      <th>campus_friendly</th>\n",
       "      <th>grievance_redressal_mechanism</th>\n",
       "      <th>vigilance_cell</th>\n",
       "      <th>opportunity_cell</th>\n",
       "    </tr>\n",
       "  </thead>\n",
       "  <tbody>\n",
       "    <tr>\n",
       "      <th>335</th>\n",
       "      <td>C10416</td>\n",
       "      <td>ct institute of management &amp; technology, shahpur</td>\n",
       "      <td>VILLAGE SHAHPUR, P.O. UDOPUR, VIA JAMSHER KHAS...</td>\n",
       "      <td>VILLAGE SHAHPUR, P.O. UDOPUR, VIA JAMSHER KHAS...</td>\n",
       "      <td>jalandhar</td>\n",
       "      <td>nan</td>\n",
       "      <td>144020</td>\n",
       "      <td>3.0</td>\n",
       "      <td>10494</td>\n",
       "      <td>http://www.ctgroup.in</td>\n",
       "      <td>...</td>\n",
       "      <td>1.0</td>\n",
       "      <td>False</td>\n",
       "      <td>True</td>\n",
       "      <td>True</td>\n",
       "      <td>nan</td>\n",
       "      <td>nan</td>\n",
       "      <td>True</td>\n",
       "      <td>True</td>\n",
       "      <td>True</td>\n",
       "      <td>True</td>\n",
       "    </tr>\n",
       "  </tbody>\n",
       "</table>\n",
       "<p>1 rows × 50 columns</p>\n",
       "</div>"
      ],
      "text/plain": [
       "        cid                                              name  \\\n",
       "335  C10416  ct institute of management & technology, shahpur   \n",
       "\n",
       "                                         address_line1  \\\n",
       "335  VILLAGE SHAHPUR, P.O. UDOPUR, VIA JAMSHER KHAS...   \n",
       "\n",
       "                                         address_line2       city state  \\\n",
       "335  VILLAGE SHAHPUR, P.O. UDOPUR, VIA JAMSHER KHAS...  jalandhar   nan   \n",
       "\n",
       "    pin_code area constructed_area                website       ...         \\\n",
       "335   144020  3.0            10494  http://www.ctgroup.in       ...          \n",
       "\n",
       "    no_of_separate_rooms_for_girls solar_power_generation connectivity_nkn  \\\n",
       "335                            1.0                  False             True   \n",
       "\n",
       "    connectivity_nmeict no_of_books no_of_journals campus_friendly  \\\n",
       "335                True         nan            nan            True   \n",
       "\n",
       "    grievance_redressal_mechanism vigilance_cell opportunity_cell  \n",
       "335                          True           True             True  \n",
       "\n",
       "[1 rows x 50 columns]"
      ]
     },
     "execution_count": 99,
     "metadata": {},
     "output_type": "execute_result"
    }
   ],
   "source": [
    "me[me['name'] == 'ct institute of management & technology, shahpur']"
   ]
  },
  {
   "cell_type": "code",
   "execution_count": 154,
   "metadata": {},
   "outputs": [
    {
     "data": {
      "text/html": [
       "<div>\n",
       "<style scoped>\n",
       "    .dataframe tbody tr th:only-of-type {\n",
       "        vertical-align: middle;\n",
       "    }\n",
       "\n",
       "    .dataframe tbody tr th {\n",
       "        vertical-align: top;\n",
       "    }\n",
       "\n",
       "    .dataframe thead th {\n",
       "        text-align: right;\n",
       "    }\n",
       "</style>\n",
       "<table border=\"1\" class=\"dataframe\">\n",
       "  <thead>\n",
       "    <tr style=\"text-align: right;\">\n",
       "      <th></th>\n",
       "      <th>Unnamed: 0</th>\n",
       "      <th>Unnamed: 0.1</th>\n",
       "      <th>Unnamed: 0.1.1</th>\n",
       "      <th>Id</th>\n",
       "      <th>Name</th>\n",
       "      <th>known_as</th>\n",
       "      <th>Estd</th>\n",
       "      <th>State</th>\n",
       "      <th>City</th>\n",
       "      <th>Address</th>\n",
       "      <th>...</th>\n",
       "      <th>website</th>\n",
       "      <th>score</th>\n",
       "      <th>facilities</th>\n",
       "      <th>exams</th>\n",
       "      <th>stream</th>\n",
       "      <th>faculty</th>\n",
       "      <th>facebook</th>\n",
       "      <th>twitter</th>\n",
       "      <th>youtube</th>\n",
       "      <th>wiki</th>\n",
       "    </tr>\n",
       "  </thead>\n",
       "  <tbody>\n",
       "    <tr>\n",
       "      <th>32</th>\n",
       "      <td>32</td>\n",
       "      <td>11</td>\n",
       "      <td>140</td>\n",
       "      <td>140</td>\n",
       "      <td>yogi vemana university, kadapa</td>\n",
       "      <td>nan</td>\n",
       "      <td>2006.0</td>\n",
       "      <td>andhra pradesh</td>\n",
       "      <td>kopparthi</td>\n",
       "      <td>Kadapa – 516 003</td>\n",
       "      <td>...</td>\n",
       "      <td>http://www.yogivemanauniversity.ac.in/</td>\n",
       "      <td>nan</td>\n",
       "      <td>['Boys Hostel', 'Girls Hostel', 'Gym', 'Librar...</td>\n",
       "      <td>[' IPU CET BJMC ']</td>\n",
       "      <td>media</td>\n",
       "      <td>108.0</td>\n",
       "      <td>nan</td>\n",
       "      <td>nan</td>\n",
       "      <td>nan</td>\n",
       "      <td>https://en.wikipedia.org/wiki/Yogi_Vemana_Univ...</td>\n",
       "    </tr>\n",
       "    <tr>\n",
       "      <th>112</th>\n",
       "      <td>112</td>\n",
       "      <td>11</td>\n",
       "      <td>140</td>\n",
       "      <td>140</td>\n",
       "      <td>yogi vemana university, kadapa</td>\n",
       "      <td>nan</td>\n",
       "      <td>2006.0</td>\n",
       "      <td>andhra pradesh</td>\n",
       "      <td>kopparthi</td>\n",
       "      <td>Kadapa – 516 003</td>\n",
       "      <td>...</td>\n",
       "      <td>http://www.yogivemanauniversity.ac.in/</td>\n",
       "      <td>nan</td>\n",
       "      <td>['Boys Hostel', 'Girls Hostel', 'Gym', 'Librar...</td>\n",
       "      <td>[' IPU CET BJMC ']</td>\n",
       "      <td>media</td>\n",
       "      <td>108.0</td>\n",
       "      <td>nan</td>\n",
       "      <td>nan</td>\n",
       "      <td>nan</td>\n",
       "      <td>https://en.wikipedia.org/wiki/Yogi_Vemana_Univ...</td>\n",
       "    </tr>\n",
       "  </tbody>\n",
       "</table>\n",
       "<p>2 rows × 25 columns</p>\n",
       "</div>"
      ],
      "text/plain": [
       "    Unnamed: 0 Unnamed: 0.1 Unnamed: 0.1.1   Id  \\\n",
       "32          32           11            140  140   \n",
       "112        112           11            140  140   \n",
       "\n",
       "                               Name known_as    Estd            State  \\\n",
       "32   yogi vemana university, kadapa      nan  2006.0   andhra pradesh   \n",
       "112  yogi vemana university, kadapa      nan  2006.0   andhra pradesh   \n",
       "\n",
       "          City            Address  \\\n",
       "32   kopparthi  Kadapa – 516 003    \n",
       "112  kopparthi  Kadapa – 516 003    \n",
       "\n",
       "                           ...                          \\\n",
       "32                         ...                           \n",
       "112                        ...                           \n",
       "\n",
       "                                    website score  \\\n",
       "32   http://www.yogivemanauniversity.ac.in/   nan   \n",
       "112  http://www.yogivemanauniversity.ac.in/   nan   \n",
       "\n",
       "                                            facilities               exams  \\\n",
       "32   ['Boys Hostel', 'Girls Hostel', 'Gym', 'Librar...  [' IPU CET BJMC ']   \n",
       "112  ['Boys Hostel', 'Girls Hostel', 'Gym', 'Librar...  [' IPU CET BJMC ']   \n",
       "\n",
       "    stream faculty facebook twitter youtube  \\\n",
       "32   media   108.0      nan     nan     nan   \n",
       "112  media   108.0      nan     nan     nan   \n",
       "\n",
       "                                                  wiki  \n",
       "32   https://en.wikipedia.org/wiki/Yogi_Vemana_Univ...  \n",
       "112  https://en.wikipedia.org/wiki/Yogi_Vemana_Univ...  \n",
       "\n",
       "[2 rows x 25 columns]"
      ]
     },
     "execution_count": 154,
     "metadata": {},
     "output_type": "execute_result"
    }
   ],
   "source": [
    "c360[c360['Name'] == 'yogi vemana university, kadapa']"
   ]
  },
  {
   "cell_type": "code",
   "execution_count": 14,
   "metadata": {},
   "outputs": [
    {
     "name": "stderr",
     "output_type": "stream",
     "text": [
      "/home/ubuntu/anaconda3/lib/python3.6/site-packages/IPython/core/interactiveshell.py:2785: DtypeWarning: Columns (7) have mixed types. Specify dtype option on import or set low_memory=False.\n",
      "  interactivity=interactivity, compiler=compiler, result=result)\n"
     ]
    },
    {
     "name": "stdout",
     "output_type": "stream",
     "text": [
      "Halfway of data loading\n"
     ]
    }
   ],
   "source": [
    "    c360 = pd.read_csv('../all_colleges_car360.csv').astype(str)\n",
    "    me = pd.read_csv('../all_colleges_mereexams.csv').astype(str)[0:1000]\n",
    "    c360[['State', 'City', 'Name']] = c360[['State', 'City', 'Name']].applymap(lower)\n",
    "    me[['state', 'city', 'name']] = me[['state', 'city', 'name']].applymap(lower)\n",
    "    c360.sort_values(['Name'], inplace = True)\n",
    "    me.sort_values(['name'], inplace = True)\n",
    "    c360['website'] = c360['website'].apply(web)\n",
    "    me['website'] = me['website'].apply(web)\n",
    "    print('Halfway of data loading')\n",
    "    c360['Name'] = c360['Name'].apply(col_name)\n",
    "    me['name'] = me['name'].apply(col_name)\n",
    "    me['estb'] = me['year_of_establishment']\n",
    "    me.drop(['year_of_establishment'], axis = 1, inplace=True)\n"
   ]
  },
  {
   "cell_type": "code",
   "execution_count": 32,
   "metadata": {},
   "outputs": [
    {
     "name": "stdout",
     "output_type": "stream",
     "text": [
      "[list([\"b.v.v.sangha's\", 'basaveshwar', 'commercecollege', 'bagalkot'])] ['basaveshwar', 'commerce', 'college', 'bagalkot']\n",
      "\n",
      "[list(['bldeas', 'comm', 'bhs', 'arts', 'tgp', 'sci', 'college', 'jamakhandi'])] [\"bldea's\", 'commerce', 'bhs', 'arts', 'tgp', 'science', 'college', 'jamkhandi']\n",
      "\n",
      "[list(['bldeas', 'j', 's', 's', 'college', 'edu.', 'bijapur'])] [\"bldea's\", 'vp', 'dr', 'pg', 'halakatti', 'college', 'engineering', 'technology', 'bijapur']\n",
      "\n",
      "[list(['first', 'grade', 'college', 'muddebihal'])] ['first', 'grade', 'college', 'ankola']\n",
      "\n",
      "[list(['j.h.bhalodiya', \"women's\", 'collegerajkot', '(commerce', 'b.b.a.)'])] ['shri', 'jh', 'bhalodiya', 'womens', 'college', 'rajkot']\n",
      "\n",
      "[list([\"jss's\", 'bharatesh', 'college', 'business', 'administration', 'belgaum'])] ['padmaraj', 'ariga', 'bharatesh', 'college', 'business', 'administration', 'belgaum']\n",
      "\n",
      "[list(['secab', 'bba/bca', 'college', 'bijapur'])] ['secab', 'business', 'administration', 'bijapur']\n",
      "\n",
      "[list(['shree', 'a.v.j.', 'oza', 'b.ed.', 'college', 'lakhtar'])] ['shree', 'ganpati', 'technology', 'ghaziabad']\n",
      "\n",
      "[list([\"skes's\", 'g', 's', 'bca', 'college', 'belgaum'])] ['seksaria', 'college', 'computer', 'applications', 'belgaum']\n",
      "\n"
     ]
    }
   ],
   "source": [
    "for id, clg in remark:\n",
    "    print(me[me['cid'] == id]['name'].values, clg, end = '\\n\\n')"
   ]
  },
  {
   "cell_type": "code",
   "execution_count": null,
   "metadata": {},
   "outputs": [],
   "source": []
  }
 ],
 "metadata": {
  "kernelspec": {
   "display_name": "Python 3",
   "language": "python",
   "name": "python3"
  },
  "language_info": {
   "codemirror_mode": {
    "name": "ipython",
    "version": 3
   },
   "file_extension": ".py",
   "mimetype": "text/x-python",
   "name": "python",
   "nbconvert_exporter": "python",
   "pygments_lexer": "ipython3",
   "version": "3.6.3"
  }
 },
 "nbformat": 4,
 "nbformat_minor": 2
}
