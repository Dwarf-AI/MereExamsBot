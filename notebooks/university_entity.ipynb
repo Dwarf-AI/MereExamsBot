{
 "cells": [
  {
   "cell_type": "code",
   "execution_count": 2,
   "metadata": {},
   "outputs": [],
   "source": [
    "import pandas as pd\n",
    "import re\n",
    "import dask.dataframe as dd\n",
    "from dask.multiprocessing import get\n",
    "from tqdm import tqdm"
   ]
  },
  {
   "cell_type": "code",
   "execution_count": null,
   "metadata": {},
   "outputs": [],
   "source": []
  },
  {
   "cell_type": "code",
   "execution_count": null,
   "metadata": {},
   "outputs": [],
   "source": []
  },
  {
   "cell_type": "code",
   "execution_count": null,
   "metadata": {},
   "outputs": [],
   "source": []
  },
  {
   "cell_type": "code",
   "execution_count": 33,
   "metadata": {},
   "outputs": [
    {
     "data": {
      "text/plain": [
       "['TM/B',\n",
       " 'TMB',\n",
       " 'TM-B',\n",
       " 'TBU/B',\n",
       " 'TBU B',\n",
       " 'TM bhagalpur',\n",
       " 'TBU',\n",
       " 'TM B',\n",
       " 'TM university',\n",
       " 'TBU-B',\n",
       " 'TBU bhagalpur',\n",
       " 'TM',\n",
       " 'TM university bhagalpur',\n",
       " 'TBUB',\n",
       " 't.m. bhagalpur university bhagalpur',\n",
       " 't.m. bhagalpur university']"
      ]
     },
     "execution_count": 33,
     "metadata": {},
     "output_type": "execute_result"
    }
   ],
   "source": [
    "def syn_gen(col_name):\n",
    "    if col_name == 'nan':\n",
    "        return ['nan']\n",
    "    col_name = re.sub('\\(.*\\)','',col_name)\n",
    "    col_name = col_name.lower()\n",
    "    name = col_name.split(',')[0]\n",
    "    names = []\n",
    "    names.append(name)                                           # As given\n",
    "    \n",
    "    name = re.subn('of|\\sand|&', '', name, flags = re.IGNORECASE)[0]\n",
    "    \n",
    "    name = re.subn('\\s+', ' ', name)[0]                          # Removing 'of' and 'and'\n",
    "    names.append(name)\n",
    "    names.append(''.join([word[0] for word in name.split()]).upper())\n",
    "    \n",
    "    if \"'\" in col_name:    \n",
    "        names.append(''.join([word[0] for word in filter(None,re.split('\\W+', name))]).upper())\n",
    "    if col_name.count('.') > 1:\n",
    "        names.append(''.join(re.split(r'\\.\\s?', col_name)[:-1]).upper())\n",
    "        \n",
    "        try:\n",
    "            pattern = re.compile('\\s?univ\\S*\\s?|\\s?coll\\S*\\s?|\\s?inst\\S*\\s?|\\sres\\S*\\sfound\\S*\\s?')\n",
    "            inst_type = pattern.findall(name)[0]\n",
    "            names.append(names[-1]+inst_type)\n",
    "        except:\n",
    "            pass\n",
    "        \n",
    "    if ',' in col_name:\n",
    "        location_full = [name+re.findall(',.*', col_name)[0][1:] for name in names]\n",
    "        try:\n",
    "            location_short = [name+col_name.split(',')[-1].split()[0][0].upper() for name in filter(lambda x: x.isupper(), names)]\n",
    "            location_short.extend([name+'-'+col_name.split(',')[-1].split()[0][0].upper() for name in filter(lambda x: x.isupper(), names)])\n",
    "            location_short.extend([name+'/'+col_name.split(',')[-1].split()[0][0].upper() for name in filter(lambda x: x.isupper(), names)])\n",
    "            location_short.extend([name+' '+col_name.split(',')[-1].split()[0][0].upper() for name in filter(lambda x: x.isupper(), names)])\n",
    "            names.extend(location_short)\n",
    "        except:\n",
    "            pass\n",
    "        names.extend(location_full)\n",
    "    return list(filter(None,set(names)))\n",
    "\n",
    "syn_gen(\"T.M. Bhagalpur University, Bhagalpur\")"
   ]
  },
  {
   "cell_type": "code",
   "execution_count": 4,
   "metadata": {},
   "outputs": [],
   "source": [
    "def change_brk(s):\n",
    "    s = str(s)\n",
    "    s = s.replace('(','[')\n",
    "    return s.replace(')',']')"
   ]
  },
  {
   "cell_type": "code",
   "execution_count": 5,
   "metadata": {},
   "outputs": [
    {
     "data": {
      "text/plain": [
       "'kunal'"
      ]
     },
     "execution_count": 5,
     "metadata": {},
     "output_type": "execute_result"
    }
   ],
   "source": [
    "change_brk('kunal')"
   ]
  },
  {
   "cell_type": "code",
   "execution_count": 6,
   "metadata": {},
   "outputs": [],
   "source": [
    "data = pd.read_csv('../all_institutions_course_updated.csv').astype(str)\n",
    "# ddata = dd.from_pandas(data['name'], npartitions=2)\n",
    "# data['col_synonyms'] = ddata.map_partitions(lambda df: df.apply(syn_gen), meta=pd.DataFrame).compute(get=get)"
   ]
  },
  {
   "cell_type": "code",
   "execution_count": 7,
   "metadata": {},
   "outputs": [],
   "source": [
    "data['discipline']=data['discipline'].apply(change_brk)"
   ]
  },
  {
   "cell_type": "code",
   "execution_count": 8,
   "metadata": {},
   "outputs": [],
   "source": [
    "data['discipline_group'] = data['discipline_group'].apply(change_brk)"
   ]
  },
  {
   "cell_type": "code",
   "execution_count": 7,
   "metadata": {},
   "outputs": [],
   "source": [
    "data.to_csv('../col_synonym_data.csv')"
   ]
  },
  {
   "cell_type": "code",
   "execution_count": 9,
   "metadata": {},
   "outputs": [
    {
     "data": {
      "text/html": [
       "<div>\n",
       "<style>\n",
       "    .dataframe thead tr:only-child th {\n",
       "        text-align: right;\n",
       "    }\n",
       "\n",
       "    .dataframe thead th {\n",
       "        text-align: left;\n",
       "    }\n",
       "\n",
       "    .dataframe tbody tr th {\n",
       "        vertical-align: top;\n",
       "    }\n",
       "</style>\n",
       "<table border=\"1\" class=\"dataframe\">\n",
       "  <thead>\n",
       "    <tr style=\"text-align: right;\">\n",
       "      <th></th>\n",
       "      <th>Unnamed: 0</th>\n",
       "      <th>cid</th>\n",
       "      <th>name</th>\n",
       "      <th>programme</th>\n",
       "      <th>discipline</th>\n",
       "      <th>discipline_group</th>\n",
       "      <th>discipline_group_category</th>\n",
       "      <th>intake</th>\n",
       "      <th>duration_year</th>\n",
       "    </tr>\n",
       "  </thead>\n",
       "  <tbody>\n",
       "    <tr>\n",
       "      <th>0</th>\n",
       "      <td>0</td>\n",
       "      <td>C100</td>\n",
       "      <td>Manish Institute of Computer Studies</td>\n",
       "      <td>Integrated M.C.A.-Integrated Master of Compute...</td>\n",
       "      <td>Computer Science</td>\n",
       "      <td>Computer Application</td>\n",
       "      <td>IT &amp; Computer</td>\n",
       "      <td>60</td>\n",
       "      <td>5</td>\n",
       "    </tr>\n",
       "    <tr>\n",
       "      <th>1</th>\n",
       "      <td>1</td>\n",
       "      <td>C100</td>\n",
       "      <td>Manish Institute of Computer Studies</td>\n",
       "      <td>M.C.A. -Master of Computer Applications</td>\n",
       "      <td>Computer Science</td>\n",
       "      <td>Computer Application</td>\n",
       "      <td>IT &amp; Computer</td>\n",
       "      <td>60</td>\n",
       "      <td>3</td>\n",
       "    </tr>\n",
       "    <tr>\n",
       "      <th>2</th>\n",
       "      <td>2</td>\n",
       "      <td>C10000</td>\n",
       "      <td>SIDDARTHA COLLEGE OF EDUCATION,  JAMKHANDI</td>\n",
       "      <td>B.Ed.-Bachelor of Education</td>\n",
       "      <td>Education</td>\n",
       "      <td>Education</td>\n",
       "      <td>Education</td>\n",
       "      <td>50</td>\n",
       "      <td>2</td>\n",
       "    </tr>\n",
       "    <tr>\n",
       "      <th>3</th>\n",
       "      <td>3</td>\n",
       "      <td>C10002</td>\n",
       "      <td>VVS'S ARTS/COMM COLLEGE,  BIJAPUR</td>\n",
       "      <td>B.C.A.-Bachelor of Computer Applications</td>\n",
       "      <td>COMPUTER</td>\n",
       "      <td>Computer Application</td>\n",
       "      <td>IT &amp; Computer</td>\n",
       "      <td>100</td>\n",
       "      <td>3</td>\n",
       "    </tr>\n",
       "    <tr>\n",
       "      <th>4</th>\n",
       "      <td>4</td>\n",
       "      <td>C10002</td>\n",
       "      <td>VVS'S ARTS/COMM COLLEGE,  BIJAPUR</td>\n",
       "      <td>B.A.-Bachelor of Arts</td>\n",
       "      <td>Arts</td>\n",
       "      <td>Arts</td>\n",
       "      <td>Arts</td>\n",
       "      <td>240</td>\n",
       "      <td>3</td>\n",
       "    </tr>\n",
       "  </tbody>\n",
       "</table>\n",
       "</div>"
      ],
      "text/plain": [
       "  Unnamed: 0     cid                                        name  \\\n",
       "0          0    C100        Manish Institute of Computer Studies   \n",
       "1          1    C100        Manish Institute of Computer Studies   \n",
       "2          2  C10000  SIDDARTHA COLLEGE OF EDUCATION,  JAMKHANDI   \n",
       "3          3  C10002           VVS'S ARTS/COMM COLLEGE,  BIJAPUR   \n",
       "4          4  C10002           VVS'S ARTS/COMM COLLEGE,  BIJAPUR   \n",
       "\n",
       "                                           programme        discipline  \\\n",
       "0  Integrated M.C.A.-Integrated Master of Compute...  Computer Science   \n",
       "1            M.C.A. -Master of Computer Applications  Computer Science   \n",
       "2                        B.Ed.-Bachelor of Education         Education   \n",
       "3           B.C.A.-Bachelor of Computer Applications          COMPUTER   \n",
       "4                              B.A.-Bachelor of Arts              Arts   \n",
       "\n",
       "       discipline_group discipline_group_category intake duration_year  \n",
       "0  Computer Application             IT & Computer     60             5  \n",
       "1  Computer Application             IT & Computer     60             3  \n",
       "2             Education                 Education     50             2  \n",
       "3  Computer Application             IT & Computer    100             3  \n",
       "4                  Arts                      Arts    240             3  "
      ]
     },
     "execution_count": 9,
     "metadata": {},
     "output_type": "execute_result"
    }
   ],
   "source": [
    "data.head()"
   ]
  },
  {
   "cell_type": "code",
   "execution_count": null,
   "metadata": {},
   "outputs": [],
   "source": [
    "data['col_name'] = data['name'].apply(syn_gen)"
   ]
  },
  {
   "cell_type": "code",
   "execution_count": null,
   "metadata": {},
   "outputs": [],
   "source": [
    "entity = 'name'\n",
    "data = pd.read_csv('../all_colleges_mereexams.csv')#.loc[:,entity]\n",
    "data[data['name'].isin(data['name'][data['name'].duplicated()])].sort_values(\"name\")# data.shape"
   ]
  },
  {
   "cell_type": "code",
   "execution_count": 19,
   "metadata": {},
   "outputs": [],
   "source": [
    "def rm_brk(s):\n",
    "    return re.sub('\\(.*\\)','',str(s))\n",
    "clgs = pd.DataFrame(data.name)"
   ]
  },
  {
   "cell_type": "code",
   "execution_count": 13,
   "metadata": {},
   "outputs": [
    {
     "data": {
      "text/plain": [
       "Index(['Unnamed: 0', 'cid', 'name', 'programme', 'discipline',\n",
       "       'discipline_group', 'discipline_group_category', 'intake',\n",
       "       'duration_year'],\n",
       "      dtype='object')"
      ]
     },
     "execution_count": 13,
     "metadata": {},
     "output_type": "execute_result"
    }
   ],
   "source": [
    "data.columns"
   ]
  },
  {
   "cell_type": "code",
   "execution_count": 49,
   "metadata": {},
   "outputs": [],
   "source": [
    "data.loc[data['discipline']=='nan','discipline']  = data.loc[data['discipline']=='nan','discipline_group']"
   ]
  },
  {
   "cell_type": "code",
   "execution_count": 48,
   "metadata": {},
   "outputs": [],
   "source": [
    "data.loc[data['discipline'].str.len()<2,'discipline'] = data.loc[data['discipline'].str.len()<2,'discipline_group']"
   ]
  },
  {
   "cell_type": "code",
   "execution_count": 1,
   "metadata": {},
   "outputs": [
    {
     "ename": "NameError",
     "evalue": "name 'data' is not defined",
     "output_type": "error",
     "traceback": [
      "\u001b[0;31m---------------------------------------------------------------------------\u001b[0m",
      "\u001b[0;31mNameError\u001b[0m                                 Traceback (most recent call last)",
      "\u001b[0;32m<ipython-input-1-199065406915>\u001b[0m in \u001b[0;36m<module>\u001b[0;34m()\u001b[0m\n\u001b[0;32m----> 1\u001b[0;31m \u001b[0mdata\u001b[0m\u001b[0;34m.\u001b[0m\u001b[0mhead\u001b[0m\u001b[0;34m(\u001b[0m\u001b[0;34m)\u001b[0m\u001b[0;34m\u001b[0m\u001b[0m\n\u001b[0m",
      "\u001b[0;31mNameError\u001b[0m: name 'data' is not defined"
     ]
    }
   ],
   "source": [
    "data.head()"
   ]
  },
  {
   "cell_type": "code",
   "execution_count": 34,
   "metadata": {},
   "outputs": [
    {
     "name": "stderr",
     "output_type": "stream",
     "text": [
      "\r",
      "  0%|          | 0/299 [00:00<?, ?it/s]\r",
      "100%|██████████| 299/299 [00:00<00:00, 33117.59it/s]\n"
     ]
    }
   ],
   "source": [
    "univ_name_synonyms = []\n",
    "univ_names = list(data['discipline'].unique())\n",
    "univ_names.extend(list(data['discipline'].unique()))\n",
    "for name in tqdm(univ_names):\n",
    "    univ_name_synonyms.append([name]+syn_gen(name))"
   ]
  },
  {
   "cell_type": "code",
   "execution_count": 35,
   "metadata": {},
   "outputs": [
    {
     "data": {
      "text/plain": [
       "299"
      ]
     },
     "execution_count": 35,
     "metadata": {},
     "output_type": "execute_result"
    }
   ],
   "source": [
    "len(list(data['Affiliated_to_University'].unique()))"
   ]
  },
  {
   "cell_type": "code",
   "execution_count": 42,
   "metadata": {},
   "outputs": [],
   "source": [
    "names = pd.DataFrame(univ_name_synonyms)"
   ]
  },
  {
   "cell_type": "code",
   "execution_count": 43,
   "metadata": {},
   "outputs": [
    {
     "data": {
      "text/html": [
       "<div>\n",
       "<style>\n",
       "    .dataframe thead tr:only-child th {\n",
       "        text-align: right;\n",
       "    }\n",
       "\n",
       "    .dataframe thead th {\n",
       "        text-align: left;\n",
       "    }\n",
       "\n",
       "    .dataframe tbody tr th {\n",
       "        vertical-align: top;\n",
       "    }\n",
       "</style>\n",
       "<table border=\"1\" class=\"dataframe\">\n",
       "  <thead>\n",
       "    <tr style=\"text-align: right;\">\n",
       "      <th></th>\n",
       "      <th>0</th>\n",
       "      <th>1</th>\n",
       "      <th>2</th>\n",
       "      <th>3</th>\n",
       "      <th>4</th>\n",
       "      <th>5</th>\n",
       "      <th>6</th>\n",
       "      <th>7</th>\n",
       "      <th>8</th>\n",
       "      <th>9</th>\n",
       "      <th>10</th>\n",
       "      <th>11</th>\n",
       "      <th>12</th>\n",
       "      <th>13</th>\n",
       "      <th>14</th>\n",
       "      <th>15</th>\n",
       "      <th>16</th>\n",
       "      <th>17</th>\n",
       "      <th>18</th>\n",
       "    </tr>\n",
       "  </thead>\n",
       "  <tbody>\n",
       "    <tr>\n",
       "      <th>0</th>\n",
       "      <td>Sankalchand Patel University, Visnagar</td>\n",
       "      <td>SPUV</td>\n",
       "      <td>SPU visnagar</td>\n",
       "      <td>SPU/V</td>\n",
       "      <td>SPU</td>\n",
       "      <td>SPU V</td>\n",
       "      <td>SPU-V</td>\n",
       "      <td>sankalchand patel university</td>\n",
       "      <td>sankalchand patel university visnagar</td>\n",
       "      <td>None</td>\n",
       "      <td>None</td>\n",
       "      <td>None</td>\n",
       "      <td>None</td>\n",
       "      <td>None</td>\n",
       "      <td>None</td>\n",
       "      <td>None</td>\n",
       "      <td>None</td>\n",
       "      <td>None</td>\n",
       "      <td>None</td>\n",
       "    </tr>\n",
       "    <tr>\n",
       "      <th>1</th>\n",
       "      <td>Rani Channamma University, Belagavi</td>\n",
       "      <td>rani channamma university</td>\n",
       "      <td>rani channamma university belagavi</td>\n",
       "      <td>RCU/B</td>\n",
       "      <td>RCU</td>\n",
       "      <td>RCU belagavi</td>\n",
       "      <td>RCU B</td>\n",
       "      <td>RCU-B</td>\n",
       "      <td>RCUB</td>\n",
       "      <td>None</td>\n",
       "      <td>None</td>\n",
       "      <td>None</td>\n",
       "      <td>None</td>\n",
       "      <td>None</td>\n",
       "      <td>None</td>\n",
       "      <td>None</td>\n",
       "      <td>None</td>\n",
       "      <td>None</td>\n",
       "      <td>None</td>\n",
       "    </tr>\n",
       "    <tr>\n",
       "      <th>2</th>\n",
       "      <td>Saurashtra University, Rajkot</td>\n",
       "      <td>SU rajkot</td>\n",
       "      <td>SU/R</td>\n",
       "      <td>SU-R</td>\n",
       "      <td>SUR</td>\n",
       "      <td>SU R</td>\n",
       "      <td>SU</td>\n",
       "      <td>saurashtra university</td>\n",
       "      <td>saurashtra university rajkot</td>\n",
       "      <td>None</td>\n",
       "      <td>None</td>\n",
       "      <td>None</td>\n",
       "      <td>None</td>\n",
       "      <td>None</td>\n",
       "      <td>None</td>\n",
       "      <td>None</td>\n",
       "      <td>None</td>\n",
       "      <td>None</td>\n",
       "      <td>None</td>\n",
       "    </tr>\n",
       "    <tr>\n",
       "      <th>3</th>\n",
       "      <td>BHAKTA KAVI NARSINH MEHTA UNIVERSITY</td>\n",
       "      <td>bhakta kavi narsinh mehta university</td>\n",
       "      <td>BKNMU</td>\n",
       "      <td>None</td>\n",
       "      <td>None</td>\n",
       "      <td>None</td>\n",
       "      <td>None</td>\n",
       "      <td>None</td>\n",
       "      <td>None</td>\n",
       "      <td>None</td>\n",
       "      <td>None</td>\n",
       "      <td>None</td>\n",
       "      <td>None</td>\n",
       "      <td>None</td>\n",
       "      <td>None</td>\n",
       "      <td>None</td>\n",
       "      <td>None</td>\n",
       "      <td>None</td>\n",
       "      <td>None</td>\n",
       "    </tr>\n",
       "    <tr>\n",
       "      <th>4</th>\n",
       "      <td>R K University, Rajkot</td>\n",
       "      <td>RKU rajkot</td>\n",
       "      <td>r k university</td>\n",
       "      <td>RKU-R</td>\n",
       "      <td>RKUR</td>\n",
       "      <td>RKU</td>\n",
       "      <td>RKU R</td>\n",
       "      <td>r k university rajkot</td>\n",
       "      <td>RKU/R</td>\n",
       "      <td>None</td>\n",
       "      <td>None</td>\n",
       "      <td>None</td>\n",
       "      <td>None</td>\n",
       "      <td>None</td>\n",
       "      <td>None</td>\n",
       "      <td>None</td>\n",
       "      <td>None</td>\n",
       "      <td>None</td>\n",
       "      <td>None</td>\n",
       "    </tr>\n",
       "  </tbody>\n",
       "</table>\n",
       "</div>"
      ],
      "text/plain": [
       "                                       0   \\\n",
       "0  Sankalchand Patel University, Visnagar   \n",
       "1     Rani Channamma University, Belagavi   \n",
       "2           Saurashtra University, Rajkot   \n",
       "3    BHAKTA KAVI NARSINH MEHTA UNIVERSITY   \n",
       "4                  R K University, Rajkot   \n",
       "\n",
       "                                     1                                   2   \\\n",
       "0                                  SPUV                        SPU visnagar   \n",
       "1             rani channamma university  rani channamma university belagavi   \n",
       "2                             SU rajkot                                SU/R   \n",
       "3  bhakta kavi narsinh mehta university                               BKNMU   \n",
       "4                            RKU rajkot                      r k university   \n",
       "\n",
       "      3     4             5      6                             7   \\\n",
       "0  SPU/V   SPU         SPU V  SPU-V  sankalchand patel university   \n",
       "1  RCU/B   RCU  RCU belagavi  RCU B                         RCU-B   \n",
       "2   SU-R   SUR          SU R     SU         saurashtra university   \n",
       "3   None  None          None   None                          None   \n",
       "4  RKU-R  RKUR           RKU  RKU R         r k university rajkot   \n",
       "\n",
       "                                      8     9     10    11    12    13    14  \\\n",
       "0  sankalchand patel university visnagar  None  None  None  None  None  None   \n",
       "1                                   RCUB  None  None  None  None  None  None   \n",
       "2           saurashtra university rajkot  None  None  None  None  None  None   \n",
       "3                                   None  None  None  None  None  None  None   \n",
       "4                                  RKU/R  None  None  None  None  None  None   \n",
       "\n",
       "     15    16    17    18  \n",
       "0  None  None  None  None  \n",
       "1  None  None  None  None  \n",
       "2  None  None  None  None  \n",
       "3  None  None  None  None  \n",
       "4  None  None  None  None  "
      ]
     },
     "execution_count": 43,
     "metadata": {},
     "output_type": "execute_result"
    }
   ],
   "source": [
    "names.head()"
   ]
  },
  {
   "cell_type": "code",
   "execution_count": 52,
   "metadata": {},
   "outputs": [],
   "source": [
    "import csv\n",
    "names.to_csv('univ_names.csv', index = None, quoting=csv.QUOTE_NONE, escapechar=' ')"
   ]
  },
  {
   "cell_type": "code",
   "execution_count": 3,
   "metadata": {},
   "outputs": [],
   "source": [
    "data = pd.read_csv('all_institution_courses_cleaned.csv')"
   ]
  },
  {
   "cell_type": "code",
   "execution_count": 4,
   "metadata": {},
   "outputs": [
    {
     "data": {
      "text/html": [
       "<div>\n",
       "<style>\n",
       "    .dataframe thead tr:only-child th {\n",
       "        text-align: right;\n",
       "    }\n",
       "\n",
       "    .dataframe thead th {\n",
       "        text-align: left;\n",
       "    }\n",
       "\n",
       "    .dataframe tbody tr th {\n",
       "        vertical-align: top;\n",
       "    }\n",
       "</style>\n",
       "<table border=\"1\" class=\"dataframe\">\n",
       "  <thead>\n",
       "    <tr style=\"text-align: right;\">\n",
       "      <th></th>\n",
       "      <th>Unnamed: 0</th>\n",
       "      <th>cid</th>\n",
       "      <th>name</th>\n",
       "      <th>programme</th>\n",
       "      <th>discipline</th>\n",
       "      <th>discipline_group</th>\n",
       "      <th>discipline_group_category</th>\n",
       "      <th>intake</th>\n",
       "      <th>duration_year</th>\n",
       "    </tr>\n",
       "  </thead>\n",
       "  <tbody>\n",
       "    <tr>\n",
       "      <th>0</th>\n",
       "      <td>0</td>\n",
       "      <td>C100</td>\n",
       "      <td>Manish Institute of Computer Studies</td>\n",
       "      <td>Integrated M.C.A.-Integrated Master of Compute...</td>\n",
       "      <td>Computer Science</td>\n",
       "      <td>Computer Application</td>\n",
       "      <td>IT &amp; Computer</td>\n",
       "      <td>60</td>\n",
       "      <td>5</td>\n",
       "    </tr>\n",
       "    <tr>\n",
       "      <th>1</th>\n",
       "      <td>1</td>\n",
       "      <td>C100</td>\n",
       "      <td>Manish Institute of Computer Studies</td>\n",
       "      <td>M.C.A. -Master of Computer Applications</td>\n",
       "      <td>Computer Science</td>\n",
       "      <td>Computer Application</td>\n",
       "      <td>IT &amp; Computer</td>\n",
       "      <td>60</td>\n",
       "      <td>3</td>\n",
       "    </tr>\n",
       "    <tr>\n",
       "      <th>2</th>\n",
       "      <td>2</td>\n",
       "      <td>C10000</td>\n",
       "      <td>SIDDARTHA COLLEGE OF EDUCATION,  JAMKHANDI</td>\n",
       "      <td>B.Ed.-Bachelor of Education</td>\n",
       "      <td>Education</td>\n",
       "      <td>Education</td>\n",
       "      <td>Education</td>\n",
       "      <td>50</td>\n",
       "      <td>2</td>\n",
       "    </tr>\n",
       "    <tr>\n",
       "      <th>3</th>\n",
       "      <td>3</td>\n",
       "      <td>C10002</td>\n",
       "      <td>VVS'S ARTS/COMM COLLEGE,  BIJAPUR</td>\n",
       "      <td>B.C.A.-Bachelor of Computer Applications</td>\n",
       "      <td>COMPUTER</td>\n",
       "      <td>Computer Application</td>\n",
       "      <td>IT &amp; Computer</td>\n",
       "      <td>100</td>\n",
       "      <td>3</td>\n",
       "    </tr>\n",
       "    <tr>\n",
       "      <th>4</th>\n",
       "      <td>4</td>\n",
       "      <td>C10002</td>\n",
       "      <td>VVS'S ARTS/COMM COLLEGE,  BIJAPUR</td>\n",
       "      <td>B.A.-Bachelor of Arts</td>\n",
       "      <td>Arts</td>\n",
       "      <td>Arts</td>\n",
       "      <td>Arts</td>\n",
       "      <td>240</td>\n",
       "      <td>3</td>\n",
       "    </tr>\n",
       "  </tbody>\n",
       "</table>\n",
       "</div>"
      ],
      "text/plain": [
       "   Unnamed: 0     cid                                        name  \\\n",
       "0           0    C100        Manish Institute of Computer Studies   \n",
       "1           1    C100        Manish Institute of Computer Studies   \n",
       "2           2  C10000  SIDDARTHA COLLEGE OF EDUCATION,  JAMKHANDI   \n",
       "3           3  C10002           VVS'S ARTS/COMM COLLEGE,  BIJAPUR   \n",
       "4           4  C10002           VVS'S ARTS/COMM COLLEGE,  BIJAPUR   \n",
       "\n",
       "                                           programme        discipline  \\\n",
       "0  Integrated M.C.A.-Integrated Master of Compute...  Computer Science   \n",
       "1            M.C.A. -Master of Computer Applications  Computer Science   \n",
       "2                        B.Ed.-Bachelor of Education         Education   \n",
       "3           B.C.A.-Bachelor of Computer Applications          COMPUTER   \n",
       "4                              B.A.-Bachelor of Arts              Arts   \n",
       "\n",
       "       discipline_group discipline_group_category  intake  duration_year  \n",
       "0  Computer Application             IT & Computer      60              5  \n",
       "1  Computer Application             IT & Computer      60              3  \n",
       "2             Education                 Education      50              2  \n",
       "3  Computer Application             IT & Computer     100              3  \n",
       "4                  Arts                      Arts     240              3  "
      ]
     },
     "execution_count": 4,
     "metadata": {},
     "output_type": "execute_result"
    }
   ],
   "source": [
    "data.head()"
   ]
  },
  {
   "cell_type": "code",
   "execution_count": 5,
   "metadata": {},
   "outputs": [
    {
     "data": {
      "text/plain": [
       "0                          computer science\n",
       "1                          computer science\n",
       "2                                 education\n",
       "3                                  computer\n",
       "4                                      arts\n",
       "5                                       com\n",
       "6                                      arts\n",
       "7                                  commerce\n",
       "8                                  commerce\n",
       "9                                      arts\n",
       "10                                commerece\n",
       "11                                 commerce\n",
       "12                              mathematics\n",
       "13                                  science\n",
       "14                                  kannada\n",
       "15                                  science\n",
       "16                         computer science\n",
       "17                         computer science\n",
       "18                              mathematics\n",
       "19                                chemistry\n",
       "20                                  physics\n",
       "21                                  science\n",
       "22                         computer science\n",
       "23                                     arts\n",
       "24                                 commerce\n",
       "25                                education\n",
       "26          journalism & mass communication\n",
       "27          journalism & mass communication\n",
       "28                          performing arts\n",
       "29                                   kathak\n",
       "                        ...                \n",
       "211215                       it dual degree\n",
       "211216                                   it\n",
       "211217             architecture and planing\n",
       "211218                      cse dual degree\n",
       "211219                                  cse\n",
       "211220               information technology\n",
       "211221                           it weekend\n",
       "211222                  engineering physics\n",
       "211223            biotechnology dual degree\n",
       "211224                          ece weekend\n",
       "211225                         bio-chemical\n",
       "211226     chemical engineering dual degree\n",
       "211227                  chemical technology\n",
       "211228                 chemical engineering\n",
       "211229                        biotechnology\n",
       "211230                      ece dual degree\n",
       "211231             nanoscience & technology\n",
       "211232               m. tech bio-technology\n",
       "211233                      food processing\n",
       "211234                               b-arch\n",
       "211235              pgd women's empowerment\n",
       "211236    journalism and mass communication\n",
       "211237                         mjmc weekend\n",
       "211238                                  mmc\n",
       "211239                          llm weekend\n",
       "211240                                  law\n",
       "211241                                  law\n",
       "211242                                  llm\n",
       "211243                          llm weekend\n",
       "211244                                  law\n",
       "Name: discipline, Length: 211245, dtype: object"
      ]
     },
     "execution_count": 5,
     "metadata": {},
     "output_type": "execute_result"
    }
   ],
   "source": [
    "data['discipline'].str.lower()"
   ]
  },
  {
   "cell_type": "code",
   "execution_count": null,
   "metadata": {},
   "outputs": [],
   "source": []
  }
 ],
 "metadata": {
  "kernelspec": {
   "display_name": "Python 3",
   "language": "python",
   "name": "python3"
  },
  "language_info": {
   "codemirror_mode": {
    "name": "ipython",
    "version": 3
   },
   "file_extension": ".py",
   "mimetype": "text/x-python",
   "name": "python",
   "nbconvert_exporter": "python",
   "pygments_lexer": "ipython3",
   "version": "3.6.3"
  }
 },
 "nbformat": 4,
 "nbformat_minor": 2
}
