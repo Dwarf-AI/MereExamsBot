{
 "cells": [
  {
   "cell_type": "code",
   "execution_count": 1,
   "metadata": {},
   "outputs": [],
   "source": [
    "import numpy as np\n",
    "import pandas as pd"
   ]
  },
  {
   "cell_type": "code",
   "execution_count": 5,
   "metadata": {},
   "outputs": [
    {
     "name": "stderr",
     "output_type": "stream",
     "text": [
      "/home/kunal_goyal/anaconda3/lib/python3.6/site-packages/IPython/core/interactiveshell.py:2728: DtypeWarning: Columns (10,11,12,13,14,15,16,17,18,19,20,21,22,36,38,39,40,43,44,45,46) have mixed types. Specify dtype option on import or set low_memory=False.\n",
      "  interactivity=interactivity, compiler=compiler, result=result)\n"
     ]
    }
   ],
   "source": [
    "data = pd.read_csv('../all_institution_merged.csv',index_col=0)"
   ]
  },
  {
   "cell_type": "code",
   "execution_count": 7,
   "metadata": {},
   "outputs": [
    {
     "data": {
      "text/html": [
       "<div>\n",
       "<style scoped>\n",
       "    .dataframe tbody tr th:only-of-type {\n",
       "        vertical-align: middle;\n",
       "    }\n",
       "\n",
       "    .dataframe tbody tr th {\n",
       "        vertical-align: top;\n",
       "    }\n",
       "\n",
       "    .dataframe thead th {\n",
       "        text-align: right;\n",
       "    }\n",
       "</style>\n",
       "<table border=\"1\" class=\"dataframe\">\n",
       "  <thead>\n",
       "    <tr style=\"text-align: right;\">\n",
       "      <th></th>\n",
       "      <th>cid</th>\n",
       "      <th>old_me_name</th>\n",
       "      <th>old_me_city</th>\n",
       "      <th>Affiliated_to_University</th>\n",
       "      <th>state</th>\n",
       "      <th>area</th>\n",
       "      <th>website</th>\n",
       "      <th>year_of_establishment</th>\n",
       "      <th>management_type</th>\n",
       "      <th>playground</th>\n",
       "      <th>...</th>\n",
       "      <th>opportunity_cell</th>\n",
       "      <th>city</th>\n",
       "      <th>name</th>\n",
       "      <th>place_id</th>\n",
       "      <th>g_address</th>\n",
       "      <th>phone</th>\n",
       "      <th>g_map</th>\n",
       "      <th>lat</th>\n",
       "      <th>lng</th>\n",
       "      <th>address</th>\n",
       "    </tr>\n",
       "  </thead>\n",
       "  <tbody>\n",
       "    <tr>\n",
       "      <th>0</th>\n",
       "      <td>C100</td>\n",
       "      <td>Manish Institute of Computer Studies</td>\n",
       "      <td>Visnagar-384315</td>\n",
       "      <td>Sankalchand Patel University, Visnagar</td>\n",
       "      <td>Gujarat</td>\n",
       "      <td>2.5</td>\n",
       "      <td>www.mcavisnagar.org</td>\n",
       "      <td>2002.0</td>\n",
       "      <td>Private Un-Aided</td>\n",
       "      <td>True</td>\n",
       "      <td>...</td>\n",
       "      <td>False</td>\n",
       "      <td>visnagar</td>\n",
       "      <td>Manish Institute of Computer Studies, Visnagar</td>\n",
       "      <td>ChIJM7k39sBPXDkRiU6Om4PD_e8</td>\n",
       "      <td>SPCE Campus, Visnagar, Gujarat 384315, India</td>\n",
       "      <td>+91 2765 225 505</td>\n",
       "      <td>https://maps.google.com/?cid=17293193114190499465</td>\n",
       "      <td>23.683418</td>\n",
       "      <td>72.547188</td>\n",
       "      <td>S. K. Patel Campus, Kamana Char Rasta Gandhina...</td>\n",
       "    </tr>\n",
       "  </tbody>\n",
       "</table>\n",
       "<p>1 rows × 55 columns</p>\n",
       "</div>"
      ],
      "text/plain": [
       "    cid                           old_me_name      old_me_city  \\\n",
       "0  C100  Manish Institute of Computer Studies  Visnagar-384315   \n",
       "\n",
       "                 Affiliated_to_University    state  area              website  \\\n",
       "0  Sankalchand Patel University, Visnagar  Gujarat   2.5  www.mcavisnagar.org   \n",
       "\n",
       "   year_of_establishment   management_type playground  \\\n",
       "0                 2002.0  Private Un-Aided       True   \n",
       "\n",
       "                         ...                         opportunity_cell  \\\n",
       "0                        ...                                    False   \n",
       "\n",
       "       city                                            name  \\\n",
       "0  visnagar  Manish Institute of Computer Studies, Visnagar   \n",
       "\n",
       "                      place_id                                     g_address  \\\n",
       "0  ChIJM7k39sBPXDkRiU6Om4PD_e8  SPCE Campus, Visnagar, Gujarat 384315, India   \n",
       "\n",
       "              phone                                              g_map  \\\n",
       "0  +91 2765 225 505  https://maps.google.com/?cid=17293193114190499465   \n",
       "\n",
       "         lat        lng                                            address  \n",
       "0  23.683418  72.547188  S. K. Patel Campus, Kamana Char Rasta Gandhina...  \n",
       "\n",
       "[1 rows x 55 columns]"
      ]
     },
     "execution_count": 7,
     "metadata": {},
     "output_type": "execute_result"
    }
   ],
   "source": [
    "data.head(1)"
   ]
  },
  {
   "cell_type": "code",
   "execution_count": 42,
   "metadata": {},
   "outputs": [],
   "source": [
    "district = pd.read_csv('../data/district_college_id.csv',header=None)"
   ]
  },
  {
   "cell_type": "code",
   "execution_count": 43,
   "metadata": {},
   "outputs": [
    {
     "data": {
      "text/html": [
       "<div>\n",
       "<style scoped>\n",
       "    .dataframe tbody tr th:only-of-type {\n",
       "        vertical-align: middle;\n",
       "    }\n",
       "\n",
       "    .dataframe tbody tr th {\n",
       "        vertical-align: top;\n",
       "    }\n",
       "\n",
       "    .dataframe thead th {\n",
       "        text-align: right;\n",
       "    }\n",
       "</style>\n",
       "<table border=\"1\" class=\"dataframe\">\n",
       "  <thead>\n",
       "    <tr style=\"text-align: right;\">\n",
       "      <th></th>\n",
       "      <th>0</th>\n",
       "      <th>1</th>\n",
       "      <th>2</th>\n",
       "      <th>3</th>\n",
       "      <th>4</th>\n",
       "    </tr>\n",
       "  </thead>\n",
       "  <tbody>\n",
       "    <tr>\n",
       "      <th>0</th>\n",
       "      <td>C21410</td>\n",
       "      <td>Govt. Degree College Kupwara, Kashmir</td>\n",
       "      <td>0</td>\n",
       "      <td>Kupwara</td>\n",
       "      <td>dis_1000</td>\n",
       "    </tr>\n",
       "    <tr>\n",
       "      <th>1</th>\n",
       "      <td>C21418</td>\n",
       "      <td>Govt Degree College Handwara, Kashmir</td>\n",
       "      <td>1</td>\n",
       "      <td>Kupwara</td>\n",
       "      <td>dis_1000</td>\n",
       "    </tr>\n",
       "    <tr>\n",
       "      <th>2</th>\n",
       "      <td>ST15118</td>\n",
       "      <td>Government Polytechnic College Kupwara</td>\n",
       "      <td>0</td>\n",
       "      <td>Kupwara</td>\n",
       "      <td>dis_1000</td>\n",
       "    </tr>\n",
       "    <tr>\n",
       "      <th>3</th>\n",
       "      <td>C21442</td>\n",
       "      <td>Govt. Degree College Sogam Kupwara, Kashmir</td>\n",
       "      <td>0</td>\n",
       "      <td>Kupwara</td>\n",
       "      <td>dis_1000</td>\n",
       "    </tr>\n",
       "    <tr>\n",
       "      <th>4</th>\n",
       "      <td>ST12844</td>\n",
       "      <td>DISTRICT INSTITUTE OF EDUCATION &amp; TRAINING, KU...</td>\n",
       "      <td>0</td>\n",
       "      <td>Kupwara</td>\n",
       "      <td>dis_1000</td>\n",
       "    </tr>\n",
       "  </tbody>\n",
       "</table>\n",
       "</div>"
      ],
      "text/plain": [
       "         0                                                  1  2        3  \\\n",
       "0   C21410              Govt. Degree College Kupwara, Kashmir  0  Kupwara   \n",
       "1   C21418              Govt Degree College Handwara, Kashmir  1  Kupwara   \n",
       "2  ST15118             Government Polytechnic College Kupwara  0  Kupwara   \n",
       "3   C21442        Govt. Degree College Sogam Kupwara, Kashmir  0  Kupwara   \n",
       "4  ST12844  DISTRICT INSTITUTE OF EDUCATION & TRAINING, KU...  0  Kupwara   \n",
       "\n",
       "          4  \n",
       "0  dis_1000  \n",
       "1  dis_1000  \n",
       "2  dis_1000  \n",
       "3  dis_1000  \n",
       "4  dis_1000  "
      ]
     },
     "execution_count": 43,
     "metadata": {},
     "output_type": "execute_result"
    }
   ],
   "source": [
    "district.head()"
   ]
  },
  {
   "cell_type": "code",
   "execution_count": 45,
   "metadata": {},
   "outputs": [
    {
     "data": {
      "text/plain": [
       "(47249,)"
      ]
     },
     "execution_count": 45,
     "metadata": {},
     "output_type": "execute_result"
    }
   ],
   "source": [
    "district[0].shape"
   ]
  },
  {
   "cell_type": "code",
   "execution_count": 58,
   "metadata": {},
   "outputs": [],
   "source": [
    "district = district.drop(district[~district[0].isin(data.cid)].index)"
   ]
  },
  {
   "cell_type": "code",
   "execution_count": 61,
   "metadata": {},
   "outputs": [],
   "source": [
    "data = data.merge(district,left_on='cid',right_on=0)"
   ]
  },
  {
   "cell_type": "code",
   "execution_count": 64,
   "metadata": {},
   "outputs": [],
   "source": [
    "data = data.drop([0,3,1],axis=1)"
   ]
  },
  {
   "cell_type": "code",
   "execution_count": 68,
   "metadata": {},
   "outputs": [],
   "source": [
    "data.columns = [                           'cid',                    'old_me_name',\n",
    "                          'old_me_city',       'Affiliated_to_University',\n",
    "                                'state',                           'area',\n",
    "                              'website',          'year_of_establishment',\n",
    "                      'management_type',                     'playground',\n",
    "                           'auditorium',                        'theatre',\n",
    "                              'library',                     'laboratory',\n",
    "                      'conference_hall',                  'health_center',\n",
    "             'gymnasium_fitness_center',                 'indoor_stadium',\n",
    "                          'common_room',                'computer_center',\n",
    "                            'cafeteria',                    'guest_house',\n",
    "                    'no_of_playgrounds',              'no_of_auditoriums',\n",
    "                       'no_of_theatres',                'no_of_libraries',\n",
    "                   'no_of_laboratories',         'no_of_conference_halls',\n",
    "                 'no_of_health_centers', 'no_of_gymnasim_fitness_centers',\n",
    "                'no_of_indoor_stadiums',             'no_of_common_rooms',\n",
    "               'no_of_computer_centers',                'no_of_cafeteria',\n",
    "                   'no_of_guest_houses',        'separate_room_for_girls',\n",
    "       'no_of_separate_rooms_for_girls',         'solar_power_generation',\n",
    "                     'connectivity_nkn',            'connectivity_nmeict',\n",
    "                          'no_of_books',                 'no_of_journals',\n",
    "                      'campus_friendly',  'grievance_redressal_mechanism',\n",
    "                       'vigilance_cell',               'opportunity_cell',\n",
    "                                 'city',                           'name',\n",
    "                             'place_id',                      'g_address',\n",
    "                                'phone',                          'g_map',\n",
    "                                  'lat',                            'lng',\n",
    "                              'address',                                'priority',\n",
    "                                      'dis_id']"
   ]
  },
  {
   "cell_type": "code",
   "execution_count": 71,
   "metadata": {},
   "outputs": [],
   "source": [
    "data = data.drop(['old_me_name','old_me_city'],1)"
   ]
  },
  {
   "cell_type": "code",
   "execution_count": 9,
   "metadata": {},
   "outputs": [
    {
     "data": {
      "text/plain": [
       "7694"
      ]
     },
     "execution_count": 9,
     "metadata": {},
     "output_type": "execute_result"
    }
   ],
   "source": [
    "len(data.city.unique())"
   ]
  },
  {
   "cell_type": "code",
   "execution_count": 10,
   "metadata": {},
   "outputs": [],
   "source": [
    "cities = data.city.unique()"
   ]
  },
  {
   "cell_type": "code",
   "execution_count": 12,
   "metadata": {},
   "outputs": [],
   "source": [
    "cities = pd.DataFrame(cities)"
   ]
  },
  {
   "cell_type": "code",
   "execution_count": 14,
   "metadata": {},
   "outputs": [],
   "source": [
    "cities[1] = cities.index"
   ]
  },
  {
   "cell_type": "code",
   "execution_count": 16,
   "metadata": {},
   "outputs": [
    {
     "data": {
      "text/html": [
       "<div>\n",
       "<style scoped>\n",
       "    .dataframe tbody tr th:only-of-type {\n",
       "        vertical-align: middle;\n",
       "    }\n",
       "\n",
       "    .dataframe tbody tr th {\n",
       "        vertical-align: top;\n",
       "    }\n",
       "\n",
       "    .dataframe thead th {\n",
       "        text-align: right;\n",
       "    }\n",
       "</style>\n",
       "<table border=\"1\" class=\"dataframe\">\n",
       "  <thead>\n",
       "    <tr style=\"text-align: right;\">\n",
       "      <th></th>\n",
       "      <th>0</th>\n",
       "      <th>1</th>\n",
       "    </tr>\n",
       "  </thead>\n",
       "  <tbody>\n",
       "    <tr>\n",
       "      <th>0</th>\n",
       "      <td>visnagar</td>\n",
       "      <td>0</td>\n",
       "    </tr>\n",
       "    <tr>\n",
       "      <th>1</th>\n",
       "      <td>rajkot</td>\n",
       "      <td>1</td>\n",
       "    </tr>\n",
       "    <tr>\n",
       "      <th>2</th>\n",
       "      <td>jamkhandi</td>\n",
       "      <td>2</td>\n",
       "    </tr>\n",
       "    <tr>\n",
       "      <th>3</th>\n",
       "      <td>bijapur</td>\n",
       "      <td>3</td>\n",
       "    </tr>\n",
       "    <tr>\n",
       "      <th>4</th>\n",
       "      <td>athani</td>\n",
       "      <td>4</td>\n",
       "    </tr>\n",
       "  </tbody>\n",
       "</table>\n",
       "</div>"
      ],
      "text/plain": [
       "           0  1\n",
       "0   visnagar  0\n",
       "1     rajkot  1\n",
       "2  jamkhandi  2\n",
       "3    bijapur  3\n",
       "4     athani  4"
      ]
     },
     "execution_count": 16,
     "metadata": {},
     "output_type": "execute_result"
    }
   ],
   "source": [
    "cities.head() "
   ]
  },
  {
   "cell_type": "code",
   "execution_count": 22,
   "metadata": {},
   "outputs": [
    {
     "data": {
      "text/html": [
       "<div>\n",
       "<style scoped>\n",
       "    .dataframe tbody tr th:only-of-type {\n",
       "        vertical-align: middle;\n",
       "    }\n",
       "\n",
       "    .dataframe tbody tr th {\n",
       "        vertical-align: top;\n",
       "    }\n",
       "\n",
       "    .dataframe thead th {\n",
       "        text-align: right;\n",
       "    }\n",
       "</style>\n",
       "<table border=\"1\" class=\"dataframe\">\n",
       "  <thead>\n",
       "    <tr style=\"text-align: right;\">\n",
       "      <th></th>\n",
       "      <th>0</th>\n",
       "      <th>1</th>\n",
       "    </tr>\n",
       "  </thead>\n",
       "  <tbody>\n",
       "    <tr>\n",
       "      <th>36</th>\n",
       "      <td>NaN</td>\n",
       "      <td>36</td>\n",
       "    </tr>\n",
       "  </tbody>\n",
       "</table>\n",
       "</div>"
      ],
      "text/plain": [
       "      0   1\n",
       "36  NaN  36"
      ]
     },
     "execution_count": 22,
     "metadata": {},
     "output_type": "execute_result"
    }
   ],
   "source": [
    "cities[cities[0].isnull()]"
   ]
  },
  {
   "cell_type": "code",
   "execution_count": 34,
   "metadata": {},
   "outputs": [],
   "source": [
    "cities[1] = 'CY'+cities[1].astype(str)"
   ]
  },
  {
   "cell_type": "code",
   "execution_count": 32,
   "metadata": {},
   "outputs": [],
   "source": [
    "# data[data.city.str.contains('[0-9]',na=False)]"
   ]
  },
  {
   "cell_type": "code",
   "execution_count": 37,
   "metadata": {},
   "outputs": [],
   "source": [
    "cities[[0,1]] = cities[[1,0]]"
   ]
  },
  {
   "cell_type": "code",
   "execution_count": 39,
   "metadata": {},
   "outputs": [],
   "source": [
    "# cities.to_csv('../cities_id.csv')"
   ]
  },
  {
   "cell_type": "code",
   "execution_count": 77,
   "metadata": {},
   "outputs": [],
   "source": [
    "data = data.merge(cities,left_on='city',right_on=1)"
   ]
  },
  {
   "cell_type": "code",
   "execution_count": 81,
   "metadata": {},
   "outputs": [],
   "source": [
    "data = data.drop([1,'city'],1)"
   ]
  },
  {
   "cell_type": "code",
   "execution_count": 83,
   "metadata": {},
   "outputs": [],
   "source": [
    "data.columns = [                           'cid',       'Affiliated_to_University',\n",
    "                                'state',                           'area',\n",
    "                              'website',          'year_of_establishment',\n",
    "                      'management_type',                     'playground',\n",
    "                           'auditorium',                        'theatre',\n",
    "                              'library',                     'laboratory',\n",
    "                      'conference_hall',                  'health_center',\n",
    "             'gymnasium_fitness_center',                 'indoor_stadium',\n",
    "                          'common_room',                'computer_center',\n",
    "                            'cafeteria',                    'guest_house',\n",
    "                    'no_of_playgrounds',              'no_of_auditoriums',\n",
    "                       'no_of_theatres',                'no_of_libraries',\n",
    "                   'no_of_laboratories',         'no_of_conference_halls',\n",
    "                 'no_of_health_centers', 'no_of_gymnasim_fitness_centers',\n",
    "                'no_of_indoor_stadiums',             'no_of_common_rooms',\n",
    "               'no_of_computer_centers',                'no_of_cafeteria',\n",
    "                   'no_of_guest_houses',        'separate_room_for_girls',\n",
    "       'no_of_separate_rooms_for_girls',         'solar_power_generation',\n",
    "                     'connectivity_nkn',            'connectivity_nmeict',\n",
    "                          'no_of_books',                 'no_of_journals',\n",
    "                      'campus_friendly',  'grievance_redressal_mechanism',\n",
    "                       'vigilance_cell',               'opportunity_cell',\n",
    "                                 'name',                       'place_id',\n",
    "                            'g_address',                          'phone',\n",
    "                                'g_map',                            'lat',\n",
    "                                  'lng',                        'address',\n",
    "                             'priority',                         'dist_id',\n",
    "                                      'city_id']"
   ]
  },
  {
   "cell_type": "code",
   "execution_count": null,
   "metadata": {},
   "outputs": [],
   "source": [
    "data.loc[data.city_id == 'CY36','city_id'] = None"
   ]
  },
  {
   "cell_type": "code",
   "execution_count": 92,
   "metadata": {},
   "outputs": [
    {
     "data": {
      "text/html": [
       "<div>\n",
       "<style scoped>\n",
       "    .dataframe tbody tr th:only-of-type {\n",
       "        vertical-align: middle;\n",
       "    }\n",
       "\n",
       "    .dataframe tbody tr th {\n",
       "        vertical-align: top;\n",
       "    }\n",
       "\n",
       "    .dataframe thead th {\n",
       "        text-align: right;\n",
       "    }\n",
       "</style>\n",
       "<table border=\"1\" class=\"dataframe\">\n",
       "  <thead>\n",
       "    <tr style=\"text-align: right;\">\n",
       "      <th></th>\n",
       "      <th>cid</th>\n",
       "      <th>Affiliated_to_University</th>\n",
       "      <th>state</th>\n",
       "      <th>area</th>\n",
       "      <th>website</th>\n",
       "      <th>year_of_establishment</th>\n",
       "      <th>management_type</th>\n",
       "      <th>playground</th>\n",
       "      <th>auditorium</th>\n",
       "      <th>theatre</th>\n",
       "      <th>...</th>\n",
       "      <th>place_id</th>\n",
       "      <th>g_address</th>\n",
       "      <th>phone</th>\n",
       "      <th>g_map</th>\n",
       "      <th>lat</th>\n",
       "      <th>lng</th>\n",
       "      <th>address</th>\n",
       "      <th>priority</th>\n",
       "      <th>dist_id</th>\n",
       "      <th>city_id</th>\n",
       "    </tr>\n",
       "  </thead>\n",
       "  <tbody>\n",
       "    <tr>\n",
       "      <th>20279</th>\n",
       "      <td>C14493</td>\n",
       "      <td>Tamil Nadu Teacher Education University, Chennai</td>\n",
       "      <td>NaN</td>\n",
       "      <td>6.02</td>\n",
       "      <td>www.kathiredu.com</td>\n",
       "      <td>2007.0</td>\n",
       "      <td>Private Un-Aided</td>\n",
       "      <td>True</td>\n",
       "      <td>True</td>\n",
       "      <td>False</td>\n",
       "      <td>...</td>\n",
       "      <td>NaN</td>\n",
       "      <td>NaN</td>\n",
       "      <td>NaN</td>\n",
       "      <td>NaN</td>\n",
       "      <td>NaN</td>\n",
       "      <td>NaN</td>\n",
       "      <td>S.F.No: 806, \"Wisdom Tree\"\" ,Avinashi Road, pi...</td>\n",
       "      <td>1</td>\n",
       "      <td>dis_1619</td>\n",
       "      <td>CY1113</td>\n",
       "    </tr>\n",
       "  </tbody>\n",
       "</table>\n",
       "<p>1 rows × 55 columns</p>\n",
       "</div>"
      ],
      "text/plain": [
       "          cid                          Affiliated_to_University state  area  \\\n",
       "20279  C14493  Tamil Nadu Teacher Education University, Chennai   NaN  6.02   \n",
       "\n",
       "                 website  year_of_establishment   management_type playground  \\\n",
       "20279  www.kathiredu.com                 2007.0  Private Un-Aided       True   \n",
       "\n",
       "      auditorium theatre   ...   place_id g_address phone g_map lat lng  \\\n",
       "20279       True   False   ...        NaN       NaN   NaN   NaN NaN NaN   \n",
       "\n",
       "                                                 address priority   dist_id  \\\n",
       "20279  S.F.No: 806, \"Wisdom Tree\"\" ,Avinashi Road, pi...        1  dis_1619   \n",
       "\n",
       "      city_id  \n",
       "20279  CY1113  \n",
       "\n",
       "[1 rows x 55 columns]"
      ]
     },
     "execution_count": 92,
     "metadata": {},
     "output_type": "execute_result"
    }
   ],
   "source": [
    "data[(data.state.isnull())]"
   ]
  },
  {
   "cell_type": "code",
   "execution_count": 103,
   "metadata": {},
   "outputs": [],
   "source": [
    "data.loc[20279,'state'] = 'Tamil Nadu'"
   ]
  },
  {
   "cell_type": "code",
   "execution_count": 147,
   "metadata": {},
   "outputs": [],
   "source": [
    "state = pd.DataFrame(data.state.unique())"
   ]
  },
  {
   "cell_type": "code",
   "execution_count": 148,
   "metadata": {},
   "outputs": [],
   "source": [
    "state[1] = state.index"
   ]
  },
  {
   "cell_type": "code",
   "execution_count": 152,
   "metadata": {},
   "outputs": [],
   "source": [
    "state[[0,1]] = state[[1,0]]\n",
    "state[0] = 'SE'+state[0].astype(str)  "
   ]
  },
  {
   "cell_type": "code",
   "execution_count": 155,
   "metadata": {},
   "outputs": [],
   "source": [
    "state.columns = ['state_id','state']"
   ]
  },
  {
   "cell_type": "code",
   "execution_count": 159,
   "metadata": {},
   "outputs": [],
   "source": [
    "state.to_csv('../state.csv')"
   ]
  },
  {
   "cell_type": "code",
   "execution_count": 161,
   "metadata": {},
   "outputs": [],
   "source": [
    "data = data.merge(state,on='state')"
   ]
  },
  {
   "cell_type": "code",
   "execution_count": 163,
   "metadata": {},
   "outputs": [],
   "source": [
    "data = data.drop('state',1)"
   ]
  },
  {
   "cell_type": "code",
   "execution_count": 169,
   "metadata": {},
   "outputs": [
    {
     "data": {
      "text/plain": [
       "11904"
      ]
     },
     "execution_count": 169,
     "metadata": {},
     "output_type": "execute_result"
    }
   ],
   "source": [
    "sum(data.Affiliated_to_University.isnull())"
   ]
  },
  {
   "cell_type": "code",
   "execution_count": 173,
   "metadata": {},
   "outputs": [
    {
     "data": {
      "text/plain": [
       "(35286, 55)"
      ]
     },
     "execution_count": 173,
     "metadata": {},
     "output_type": "execute_result"
    }
   ],
   "source": [
    "data[data.Affiliated_to_University.notnull()].shape"
   ]
  },
  {
   "cell_type": "code",
   "execution_count": 176,
   "metadata": {},
   "outputs": [],
   "source": [
    "univ = pd.DataFrame(data.Affiliated_to_University.unique())"
   ]
  },
  {
   "cell_type": "code",
   "execution_count": 199,
   "metadata": {},
   "outputs": [],
   "source": [
    "univ[1] = univ.index"
   ]
  },
  {
   "cell_type": "code",
   "execution_count": 203,
   "metadata": {},
   "outputs": [],
   "source": [
    "univ[1] = 'UV' + univ[1].astype(str)"
   ]
  },
  {
   "cell_type": "code",
   "execution_count": 204,
   "metadata": {},
   "outputs": [],
   "source": [
    "univ[[0,1]] = univ[[1,0]]"
   ]
  },
  {
   "cell_type": "code",
   "execution_count": 206,
   "metadata": {},
   "outputs": [],
   "source": [
    "univ.columns = ['university_id','university']"
   ]
  },
  {
   "cell_type": "code",
   "execution_count": 207,
   "metadata": {},
   "outputs": [],
   "source": [
    "# univ.to_csv('../university_id.csv')"
   ]
  },
  {
   "cell_type": "code",
   "execution_count": 208,
   "metadata": {},
   "outputs": [
    {
     "data": {
      "text/html": [
       "<div>\n",
       "<style scoped>\n",
       "    .dataframe tbody tr th:only-of-type {\n",
       "        vertical-align: middle;\n",
       "    }\n",
       "\n",
       "    .dataframe tbody tr th {\n",
       "        vertical-align: top;\n",
       "    }\n",
       "\n",
       "    .dataframe thead th {\n",
       "        text-align: right;\n",
       "    }\n",
       "</style>\n",
       "<table border=\"1\" class=\"dataframe\">\n",
       "  <thead>\n",
       "    <tr style=\"text-align: right;\">\n",
       "      <th></th>\n",
       "      <th>university_id</th>\n",
       "      <th>university</th>\n",
       "    </tr>\n",
       "  </thead>\n",
       "  <tbody>\n",
       "    <tr>\n",
       "      <th>0</th>\n",
       "      <td>UV0</td>\n",
       "      <td>Sankalchand Patel University, Visnagar</td>\n",
       "    </tr>\n",
       "    <tr>\n",
       "      <th>1</th>\n",
       "      <td>UV1</td>\n",
       "      <td>Gujarat Technological University, Ahmedbabd</td>\n",
       "    </tr>\n",
       "    <tr>\n",
       "      <th>2</th>\n",
       "      <td>UV2</td>\n",
       "      <td>Hemchandracharya North Gujart University, Patan</td>\n",
       "    </tr>\n",
       "    <tr>\n",
       "      <th>3</th>\n",
       "      <td>UV3</td>\n",
       "      <td>NaN</td>\n",
       "    </tr>\n",
       "    <tr>\n",
       "      <th>4</th>\n",
       "      <td>UV4</td>\n",
       "      <td>Saurashtra University, Rajkot</td>\n",
       "    </tr>\n",
       "  </tbody>\n",
       "</table>\n",
       "</div>"
      ],
      "text/plain": [
       "  university_id                                       university\n",
       "0           UV0           Sankalchand Patel University, Visnagar\n",
       "1           UV1      Gujarat Technological University, Ahmedbabd\n",
       "2           UV2  Hemchandracharya North Gujart University, Patan\n",
       "3           UV3                                              NaN\n",
       "4           UV4                    Saurashtra University, Rajkot"
      ]
     },
     "execution_count": 208,
     "metadata": {},
     "output_type": "execute_result"
    }
   ],
   "source": [
    "univ.head()"
   ]
  },
  {
   "cell_type": "code",
   "execution_count": 216,
   "metadata": {},
   "outputs": [],
   "source": [
    "data = data.merge(univ,left_on = 'Affiliated_to_University', right_on = 'university')"
   ]
  },
  {
   "cell_type": "code",
   "execution_count": 217,
   "metadata": {},
   "outputs": [],
   "source": [
    "data.loc[data1.university_id == 'UV3','university_id'] = None"
   ]
  },
  {
   "cell_type": "code",
   "execution_count": 220,
   "metadata": {},
   "outputs": [],
   "source": [
    "data = data.drop('university',1)"
   ]
  },
  {
   "cell_type": "code",
   "execution_count": 221,
   "metadata": {},
   "outputs": [
    {
     "data": {
      "text/html": [
       "<div>\n",
       "<style scoped>\n",
       "    .dataframe tbody tr th:only-of-type {\n",
       "        vertical-align: middle;\n",
       "    }\n",
       "\n",
       "    .dataframe tbody tr th {\n",
       "        vertical-align: top;\n",
       "    }\n",
       "\n",
       "    .dataframe thead th {\n",
       "        text-align: right;\n",
       "    }\n",
       "</style>\n",
       "<table border=\"1\" class=\"dataframe\">\n",
       "  <thead>\n",
       "    <tr style=\"text-align: right;\">\n",
       "      <th></th>\n",
       "      <th>cid</th>\n",
       "      <th>Affiliated_to_University</th>\n",
       "      <th>area</th>\n",
       "      <th>website</th>\n",
       "      <th>year_of_establishment</th>\n",
       "      <th>management_type</th>\n",
       "      <th>playground</th>\n",
       "      <th>auditorium</th>\n",
       "      <th>theatre</th>\n",
       "      <th>library</th>\n",
       "      <th>...</th>\n",
       "      <th>phone</th>\n",
       "      <th>g_map</th>\n",
       "      <th>lat</th>\n",
       "      <th>lng</th>\n",
       "      <th>address</th>\n",
       "      <th>priority</th>\n",
       "      <th>dist_id</th>\n",
       "      <th>city_id</th>\n",
       "      <th>state_id</th>\n",
       "      <th>university_id</th>\n",
       "    </tr>\n",
       "  </thead>\n",
       "  <tbody>\n",
       "    <tr>\n",
       "      <th>0</th>\n",
       "      <td>C100</td>\n",
       "      <td>Sankalchand Patel University, Visnagar</td>\n",
       "      <td>2.5</td>\n",
       "      <td>www.mcavisnagar.org</td>\n",
       "      <td>2002.0</td>\n",
       "      <td>Private Un-Aided</td>\n",
       "      <td>True</td>\n",
       "      <td>True</td>\n",
       "      <td>False</td>\n",
       "      <td>True</td>\n",
       "      <td>...</td>\n",
       "      <td>+91 2765 225 505</td>\n",
       "      <td>https://maps.google.com/?cid=17293193114190499465</td>\n",
       "      <td>23.683418</td>\n",
       "      <td>72.547188</td>\n",
       "      <td>S. K. Patel Campus, Kamana Char Rasta Gandhina...</td>\n",
       "      <td>0</td>\n",
       "      <td>dis_1461</td>\n",
       "      <td>CY0</td>\n",
       "      <td>SE0</td>\n",
       "      <td>UV0</td>\n",
       "    </tr>\n",
       "    <tr>\n",
       "      <th>1</th>\n",
       "      <td>C152</td>\n",
       "      <td>Sankalchand Patel University, Visnagar</td>\n",
       "      <td>10.0</td>\n",
       "      <td>http://mba.spcevng.ac.in</td>\n",
       "      <td>2007.0</td>\n",
       "      <td>Private Un-Aided</td>\n",
       "      <td>True</td>\n",
       "      <td>True</td>\n",
       "      <td>False</td>\n",
       "      <td>True</td>\n",
       "      <td>...</td>\n",
       "      <td>+91 99250 35685</td>\n",
       "      <td>https://maps.google.com/?cid=9091386723698156795</td>\n",
       "      <td>23.695097</td>\n",
       "      <td>72.540796</td>\n",
       "      <td>Kamana Char Rasta, Gandhinagar-Ambaji Highway,...</td>\n",
       "      <td>0</td>\n",
       "      <td>dis_1461</td>\n",
       "      <td>CY0</td>\n",
       "      <td>SE0</td>\n",
       "      <td>UV0</td>\n",
       "    </tr>\n",
       "    <tr>\n",
       "      <th>2</th>\n",
       "      <td>C251</td>\n",
       "      <td>Sankalchand Patel University, Visnagar</td>\n",
       "      <td>2.5</td>\n",
       "      <td>www.nootanmba.ac.in</td>\n",
       "      <td>2001.0</td>\n",
       "      <td>Private Un-Aided</td>\n",
       "      <td>True</td>\n",
       "      <td>True</td>\n",
       "      <td>True</td>\n",
       "      <td>True</td>\n",
       "      <td>...</td>\n",
       "      <td>NaN</td>\n",
       "      <td>NaN</td>\n",
       "      <td>NaN</td>\n",
       "      <td>NaN</td>\n",
       "      <td>S. K. Campus Gandhinagar Ambaji Link Road, pin...</td>\n",
       "      <td>0</td>\n",
       "      <td>dis_1461</td>\n",
       "      <td>CY0</td>\n",
       "      <td>SE0</td>\n",
       "      <td>UV0</td>\n",
       "    </tr>\n",
       "    <tr>\n",
       "      <th>3</th>\n",
       "      <td>C331</td>\n",
       "      <td>Sankalchand Patel University, Visnagar</td>\n",
       "      <td>2.5</td>\n",
       "      <td>www.nootanpharmacyvisnagar.org</td>\n",
       "      <td>2006.0</td>\n",
       "      <td>Private Un-Aided</td>\n",
       "      <td>True</td>\n",
       "      <td>True</td>\n",
       "      <td>True</td>\n",
       "      <td>True</td>\n",
       "      <td>...</td>\n",
       "      <td>+91 2765 231 800</td>\n",
       "      <td>https://maps.google.com/?cid=11102121219608488665</td>\n",
       "      <td>23.700000</td>\n",
       "      <td>72.550000</td>\n",
       "      <td>S.P.Sahkar Vidyadham Near Kamana Crossing, Amb...</td>\n",
       "      <td>0</td>\n",
       "      <td>dis_1461</td>\n",
       "      <td>CY0</td>\n",
       "      <td>SE0</td>\n",
       "      <td>UV0</td>\n",
       "    </tr>\n",
       "    <tr>\n",
       "      <th>4</th>\n",
       "      <td>C384</td>\n",
       "      <td>Sankalchand Patel University, Visnagar</td>\n",
       "      <td>10.0</td>\n",
       "      <td>mca.spcevng.ac.in</td>\n",
       "      <td>2008.0</td>\n",
       "      <td>Private Un-Aided</td>\n",
       "      <td>True</td>\n",
       "      <td>True</td>\n",
       "      <td>True</td>\n",
       "      <td>True</td>\n",
       "      <td>...</td>\n",
       "      <td>NaN</td>\n",
       "      <td>NaN</td>\n",
       "      <td>NaN</td>\n",
       "      <td>NaN</td>\n",
       "      <td>Kamana Char Rasta, Gandhinagar-Ambaji Highway,...</td>\n",
       "      <td>0</td>\n",
       "      <td>dis_1461</td>\n",
       "      <td>CY0</td>\n",
       "      <td>SE0</td>\n",
       "      <td>UV0</td>\n",
       "    </tr>\n",
       "  </tbody>\n",
       "</table>\n",
       "<p>5 rows × 56 columns</p>\n",
       "</div>"
      ],
      "text/plain": [
       "    cid                Affiliated_to_University  area  \\\n",
       "0  C100  Sankalchand Patel University, Visnagar   2.5   \n",
       "1  C152  Sankalchand Patel University, Visnagar  10.0   \n",
       "2  C251  Sankalchand Patel University, Visnagar   2.5   \n",
       "3  C331  Sankalchand Patel University, Visnagar   2.5   \n",
       "4  C384  Sankalchand Patel University, Visnagar  10.0   \n",
       "\n",
       "                          website  year_of_establishment   management_type  \\\n",
       "0             www.mcavisnagar.org                 2002.0  Private Un-Aided   \n",
       "1        http://mba.spcevng.ac.in                 2007.0  Private Un-Aided   \n",
       "2             www.nootanmba.ac.in                 2001.0  Private Un-Aided   \n",
       "3  www.nootanpharmacyvisnagar.org                 2006.0  Private Un-Aided   \n",
       "4               mca.spcevng.ac.in                 2008.0  Private Un-Aided   \n",
       "\n",
       "  playground auditorium theatre library      ...                   phone  \\\n",
       "0       True       True   False    True      ...        +91 2765 225 505   \n",
       "1       True       True   False    True      ...         +91 99250 35685   \n",
       "2       True       True    True    True      ...                     NaN   \n",
       "3       True       True    True    True      ...        +91 2765 231 800   \n",
       "4       True       True    True    True      ...                     NaN   \n",
       "\n",
       "                                               g_map        lat        lng  \\\n",
       "0  https://maps.google.com/?cid=17293193114190499465  23.683418  72.547188   \n",
       "1   https://maps.google.com/?cid=9091386723698156795  23.695097  72.540796   \n",
       "2                                                NaN        NaN        NaN   \n",
       "3  https://maps.google.com/?cid=11102121219608488665  23.700000  72.550000   \n",
       "4                                                NaN        NaN        NaN   \n",
       "\n",
       "                                             address priority   dist_id  \\\n",
       "0  S. K. Patel Campus, Kamana Char Rasta Gandhina...        0  dis_1461   \n",
       "1  Kamana Char Rasta, Gandhinagar-Ambaji Highway,...        0  dis_1461   \n",
       "2  S. K. Campus Gandhinagar Ambaji Link Road, pin...        0  dis_1461   \n",
       "3  S.P.Sahkar Vidyadham Near Kamana Crossing, Amb...        0  dis_1461   \n",
       "4  Kamana Char Rasta, Gandhinagar-Ambaji Highway,...        0  dis_1461   \n",
       "\n",
       "  city_id state_id  university_id  \n",
       "0     CY0      SE0            UV0  \n",
       "1     CY0      SE0            UV0  \n",
       "2     CY0      SE0            UV0  \n",
       "3     CY0      SE0            UV0  \n",
       "4     CY0      SE0            UV0  \n",
       "\n",
       "[5 rows x 56 columns]"
      ]
     },
     "execution_count": 221,
     "metadata": {},
     "output_type": "execute_result"
    }
   ],
   "source": [
    "data.head()"
   ]
  },
  {
   "cell_type": "code",
   "execution_count": 222,
   "metadata": {},
   "outputs": [],
   "source": [
    "data.to_csv('../all_institution_merged1.csv')"
   ]
  },
  {
   "cell_type": "code",
   "execution_count": null,
   "metadata": {},
   "outputs": [],
   "source": []
  }
 ],
 "metadata": {
  "kernelspec": {
   "display_name": "Python 3",
   "language": "python",
   "name": "python3"
  },
  "language_info": {
   "codemirror_mode": {
    "name": "ipython",
    "version": 3
   },
   "file_extension": ".py",
   "mimetype": "text/x-python",
   "name": "python",
   "nbconvert_exporter": "python",
   "pygments_lexer": "ipython3",
   "version": "3.6.3"
  }
 },
 "nbformat": 4,
 "nbformat_minor": 2
}
