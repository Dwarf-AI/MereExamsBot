{
 "cells": [
  {
   "cell_type": "code",
   "execution_count": 3,
   "metadata": {
    "collapsed": true
   },
   "outputs": [],
   "source": [
    "import numpy as np\n",
    "import pandas as pd\n",
    "import requests as rq\n",
    "from bs4 import BeautifulSoup as bs\n",
    "#from google.colab import files\n",
    "from tqdm import *\n",
    "courses = pd.read_csv('mang_courses.csv')\n",
    "#career360_courses = pd.DataFrame(columns=['College','City','State','Course','Duration','Study mode','Approved intake','Course level','Course Fee','Approval','Eligiblity','Course_Detail'])\n",
    "from threading import Thread\n",
    "def scrapper(start, end):\n",
    "    career360_courses = pd.DataFrame(columns=['College','City','State','Course','Duration','Study mode','Approved intake','Course level','Course Fee','Approval','Eligiblity','Course_Detail'])\n",
    "    indx = 0\n",
    "    cnt = start - 1\n",
    "    for header_course in tqdm(courses['2'][start:end]):\n",
    "        cnt += 1\n",
    "        try:\n",
    "            num = int(np.ceil(int(courses['1'][cnt])/10))\n",
    "        except:\n",
    "            continue\n",
    "    #     print(f'num = {num}')\n",
    "        for page_num in tqdm(range(num)):\n",
    "            link = header_course + '?levelId=all&courseNid=all-all&page='+str(page_num)\n",
    "    #         print(link)\n",
    "            page = rq.get(link)\n",
    "            course_soup = bs(page.content, 'html.parser')\n",
    "        for course_link in course_soup.find_all('span',class_='readmore'):\n",
    "            course_link = 'https://bschool.careers360.com/' + course_link.a['href']\n",
    "            #             print(f'course_link = {course_link}')\n",
    "            page1 = rq.get(course_link)\n",
    "            soup = bs(page1.content,'html.parser')\n",
    "            career360_courses.loc[indx]=None\n",
    "\n",
    "            try:\n",
    "                career360_courses.loc[indx]['Course'] = soup.find_all('h2',class_='block-title')[0].get_text()\n",
    "                career360_courses.loc[indx]['College']=soup.find_all('h1',class_='titleNameCol')[0].get_text()\n",
    "                career360_courses.loc[indx]['City'] = soup.find_all('ul',class_='clg-info')[0].find_all('li')[0].find_all('a')[0].get_text()\n",
    "                career360_courses.loc[indx]['State'] = soup.find_all('ul',class_='clg-info')[0].find_all('li')[0].find_all('a')[1].get_text()\n",
    "            except:\n",
    "                pass\n",
    "\n",
    "            try:\n",
    "                career360_courses.loc[indx]['Eligiblity'] = soup.find_all('span',class_='more-eligibility')[0].get_text()[:-11]\n",
    "            except:\n",
    "                try:\n",
    "                    career360_courses.loc[indx]['Eligiblity'] = soup.find_all('div',class_='default-elig')[0].get_text()\n",
    "                except:\n",
    "                    career360_courses.loc[indx]['Eligiblity'] = None\n",
    "\n",
    "            try:\n",
    "                career360_courses.loc[indx]['Course_Detail'] = (soup.find_all('span',class_='moreCourseDetails')[0].p.get_text())[:-11]\n",
    "            except:\n",
    "                try:\n",
    "                    career360_courses.loc[indx]['Course_Detail'] = (soup.find_all('div',class_='default-course-details')[0].get_text())\n",
    "                except:\n",
    "                    career360_courses.loc[indx]['Course_Detail'] = None\n",
    "\n",
    "            for row in soup.find_all('div',class_='coursesPageLableInnerSec'):\n",
    "                career360_courses.loc[indx][row.strong.get_text()] = row.p.get_text()\n",
    "            indx+=1\n",
    "    career360_courses.to_csv(f'career360_scrap_dm_mang({start}-{end}).csv')\n"
   ]
  },
  {
   "cell_type": "code",
   "execution_count": null,
   "metadata": {},
   "outputs": [],
   "source": [
    "scrapper(1272,1908)"
   ]
  },
  {
   "cell_type": "code",
   "execution_count": null,
   "metadata": {
    "collapsed": true
   },
   "outputs": [],
   "source": []
  }
 ],
 "metadata": {
  "kernelspec": {
   "display_name": "Python 3",
   "language": "python",
   "name": "python3"
  },
  "language_info": {
   "codemirror_mode": {
    "name": "ipython",
    "version": 3
   },
   "file_extension": ".py",
   "mimetype": "text/x-python",
   "name": "python",
   "nbconvert_exporter": "python",
   "pygments_lexer": "ipython3",
   "version": "3.6.3"
  }
 },
 "nbformat": 4,
 "nbformat_minor": 2
}
