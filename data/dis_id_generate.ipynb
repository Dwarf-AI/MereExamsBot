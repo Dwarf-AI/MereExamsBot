{
 "cells": [
  {
   "cell_type": "code",
   "execution_count": 1,
   "metadata": {},
   "outputs": [
    {
     "name": "stderr",
     "output_type": "stream",
     "text": [
      "/home/ubuntu/anaconda3/lib/python3.6/importlib/_bootstrap.py:219: RuntimeWarning: numpy.dtype size changed, may indicate binary incompatibility. Expected 96, got 88\n",
      "  return f(*args, **kwds)\n",
      "/home/ubuntu/anaconda3/lib/python3.6/importlib/_bootstrap.py:219: RuntimeWarning: numpy.dtype size changed, may indicate binary incompatibility. Expected 96, got 88\n",
      "  return f(*args, **kwds)\n",
      "/home/ubuntu/anaconda3/lib/python3.6/importlib/_bootstrap.py:219: RuntimeWarning: numpy.dtype size changed, may indicate binary incompatibility. Expected 96, got 88\n",
      "  return f(*args, **kwds)\n"
     ]
    }
   ],
   "source": [
    "import pandas as pd"
   ]
  },
  {
   "cell_type": "code",
   "execution_count": 2,
   "metadata": {},
   "outputs": [],
   "source": [
    "data = pd.read_csv('college_institution_m_priority.csv')"
   ]
  },
  {
   "cell_type": "code",
   "execution_count": 3,
   "metadata": {},
   "outputs": [
    {
     "data": {
      "text/html": [
       "<div>\n",
       "<style>\n",
       "    .dataframe thead tr:only-child th {\n",
       "        text-align: right;\n",
       "    }\n",
       "\n",
       "    .dataframe thead th {\n",
       "        text-align: left;\n",
       "    }\n",
       "\n",
       "    .dataframe tbody tr th {\n",
       "        vertical-align: top;\n",
       "    }\n",
       "</style>\n",
       "<table border=\"1\" class=\"dataframe\">\n",
       "  <thead>\n",
       "    <tr style=\"text-align: right;\">\n",
       "      <th></th>\n",
       "      <th>Unnamed: 0</th>\n",
       "      <th>district_code</th>\n",
       "      <th>cid</th>\n",
       "      <th>name</th>\n",
       "      <th>priority</th>\n",
       "      <th>custom_order</th>\n",
       "      <th>district</th>\n",
       "    </tr>\n",
       "  </thead>\n",
       "  <tbody>\n",
       "    <tr>\n",
       "      <th>0</th>\n",
       "      <td>1</td>\n",
       "      <td>1</td>\n",
       "      <td>C21410</td>\n",
       "      <td>Govt. Degree College Kupwara, Kashmir</td>\n",
       "      <td>0</td>\n",
       "      <td>18861.0</td>\n",
       "      <td>Kupwara</td>\n",
       "    </tr>\n",
       "    <tr>\n",
       "      <th>1</th>\n",
       "      <td>2</td>\n",
       "      <td>1</td>\n",
       "      <td>C21418</td>\n",
       "      <td>Govt Degree College Handwara, Kashmir</td>\n",
       "      <td>1</td>\n",
       "      <td>19765.0</td>\n",
       "      <td>Kupwara</td>\n",
       "    </tr>\n",
       "    <tr>\n",
       "      <th>2</th>\n",
       "      <td>3</td>\n",
       "      <td>1</td>\n",
       "      <td>ST15118</td>\n",
       "      <td>Government Polytechnic College Kupwara</td>\n",
       "      <td>0</td>\n",
       "      <td>1905.0</td>\n",
       "      <td>Kupwara</td>\n",
       "    </tr>\n",
       "    <tr>\n",
       "      <th>3</th>\n",
       "      <td>4</td>\n",
       "      <td>1</td>\n",
       "      <td>C21442</td>\n",
       "      <td>Govt. Degree College Sogam Kupwara, Kashmir</td>\n",
       "      <td>0</td>\n",
       "      <td>23574.0</td>\n",
       "      <td>Kupwara</td>\n",
       "    </tr>\n",
       "    <tr>\n",
       "      <th>4</th>\n",
       "      <td>5</td>\n",
       "      <td>1</td>\n",
       "      <td>ST12844</td>\n",
       "      <td>DISTRICT INSTITUTE OF EDUCATION &amp; TRAINING, KU...</td>\n",
       "      <td>0</td>\n",
       "      <td>24054.0</td>\n",
       "      <td>Kupwara</td>\n",
       "    </tr>\n",
       "  </tbody>\n",
       "</table>\n",
       "</div>"
      ],
      "text/plain": [
       "   Unnamed: 0  district_code      cid  \\\n",
       "0           1              1   C21410   \n",
       "1           2              1   C21418   \n",
       "2           3              1  ST15118   \n",
       "3           4              1   C21442   \n",
       "4           5              1  ST12844   \n",
       "\n",
       "                                                name  priority  custom_order  \\\n",
       "0              Govt. Degree College Kupwara, Kashmir         0       18861.0   \n",
       "1              Govt Degree College Handwara, Kashmir         1       19765.0   \n",
       "2             Government Polytechnic College Kupwara         0        1905.0   \n",
       "3        Govt. Degree College Sogam Kupwara, Kashmir         0       23574.0   \n",
       "4  DISTRICT INSTITUTE OF EDUCATION & TRAINING, KU...         0       24054.0   \n",
       "\n",
       "  district  \n",
       "0  Kupwara  \n",
       "1  Kupwara  \n",
       "2  Kupwara  \n",
       "3  Kupwara  \n",
       "4  Kupwara  "
      ]
     },
     "execution_count": 3,
     "metadata": {},
     "output_type": "execute_result"
    }
   ],
   "source": [
    "data.head()"
   ]
  },
  {
   "cell_type": "code",
   "execution_count": 15,
   "metadata": {},
   "outputs": [
    {
     "data": {
      "text/plain": [
       "675"
      ]
     },
     "execution_count": 15,
     "metadata": {},
     "output_type": "execute_result"
    }
   ],
   "source": [
    "dis_to_id = {dis:'dis_'+str(i+1000) for i,dis in enumerate(data.district.unique())}\n",
    "len(dis_to_id.keys())"
   ]
  },
  {
   "cell_type": "code",
   "execution_count": 24,
   "metadata": {},
   "outputs": [],
   "source": [
    "data['dis_id'] = data.district.apply(lambda x: dis_to_id[x])\n",
    "dis = data.drop_duplicates(['dis_id'])[['dis_id', 'district']]\n",
    "dis.to_csv('district_dialogflow_id.csv', header=None, index=None)"
   ]
  },
  {
   "cell_type": "code",
   "execution_count": 21,
   "metadata": {},
   "outputs": [
    {
     "data": {
      "text/html": [
       "<div>\n",
       "<style>\n",
       "    .dataframe thead tr:only-child th {\n",
       "        text-align: right;\n",
       "    }\n",
       "\n",
       "    .dataframe thead th {\n",
       "        text-align: left;\n",
       "    }\n",
       "\n",
       "    .dataframe tbody tr th {\n",
       "        vertical-align: top;\n",
       "    }\n",
       "</style>\n",
       "<table border=\"1\" class=\"dataframe\">\n",
       "  <thead>\n",
       "    <tr style=\"text-align: right;\">\n",
       "      <th></th>\n",
       "      <th>cid</th>\n",
       "      <th>name</th>\n",
       "      <th>priority</th>\n",
       "      <th>district</th>\n",
       "      <th>dis_id</th>\n",
       "    </tr>\n",
       "  </thead>\n",
       "  <tbody>\n",
       "    <tr>\n",
       "      <th>0</th>\n",
       "      <td>C21410</td>\n",
       "      <td>Govt. Degree College Kupwara, Kashmir</td>\n",
       "      <td>0</td>\n",
       "      <td>Kupwara</td>\n",
       "      <td>dis_1000</td>\n",
       "    </tr>\n",
       "    <tr>\n",
       "      <th>1</th>\n",
       "      <td>C21418</td>\n",
       "      <td>Govt Degree College Handwara, Kashmir</td>\n",
       "      <td>1</td>\n",
       "      <td>Kupwara</td>\n",
       "      <td>dis_1000</td>\n",
       "    </tr>\n",
       "    <tr>\n",
       "      <th>2</th>\n",
       "      <td>ST15118</td>\n",
       "      <td>Government Polytechnic College Kupwara</td>\n",
       "      <td>0</td>\n",
       "      <td>Kupwara</td>\n",
       "      <td>dis_1000</td>\n",
       "    </tr>\n",
       "    <tr>\n",
       "      <th>3</th>\n",
       "      <td>C21442</td>\n",
       "      <td>Govt. Degree College Sogam Kupwara, Kashmir</td>\n",
       "      <td>0</td>\n",
       "      <td>Kupwara</td>\n",
       "      <td>dis_1000</td>\n",
       "    </tr>\n",
       "    <tr>\n",
       "      <th>4</th>\n",
       "      <td>ST12844</td>\n",
       "      <td>DISTRICT INSTITUTE OF EDUCATION &amp; TRAINING, KU...</td>\n",
       "      <td>0</td>\n",
       "      <td>Kupwara</td>\n",
       "      <td>dis_1000</td>\n",
       "    </tr>\n",
       "  </tbody>\n",
       "</table>\n",
       "</div>"
      ],
      "text/plain": [
       "       cid                                               name  priority  \\\n",
       "0   C21410              Govt. Degree College Kupwara, Kashmir         0   \n",
       "1   C21418              Govt Degree College Handwara, Kashmir         1   \n",
       "2  ST15118             Government Polytechnic College Kupwara         0   \n",
       "3   C21442        Govt. Degree College Sogam Kupwara, Kashmir         0   \n",
       "4  ST12844  DISTRICT INSTITUTE OF EDUCATION & TRAINING, KU...         0   \n",
       "\n",
       "  district    dis_id  \n",
       "0  Kupwara  dis_1000  \n",
       "1  Kupwara  dis_1000  \n",
       "2  Kupwara  dis_1000  \n",
       "3  Kupwara  dis_1000  \n",
       "4  Kupwara  dis_1000  "
      ]
     },
     "execution_count": 21,
     "metadata": {},
     "output_type": "execute_result"
    }
   ],
   "source": [
    "data = data[['cid', 'name', 'priority', 'district', 'dis_id']]\n",
    "data.head()"
   ]
  },
  {
   "cell_type": "code",
   "execution_count": 22,
   "metadata": {},
   "outputs": [],
   "source": [
    "data.to_csv('district_college_id.csv', header=None, index=None)"
   ]
  },
  {
   "cell_type": "code",
   "execution_count": null,
   "metadata": {},
   "outputs": [],
   "source": []
  }
 ],
 "metadata": {
  "kernelspec": {
   "display_name": "Python 3",
   "language": "python",
   "name": "python3"
  },
  "language_info": {
   "codemirror_mode": {
    "name": "ipython",
    "version": 3
   },
   "file_extension": ".py",
   "mimetype": "text/x-python",
   "name": "python",
   "nbconvert_exporter": "python",
   "pygments_lexer": "ipython3",
   "version": "3.6.3"
  }
 },
 "nbformat": 4,
 "nbformat_minor": 2
}
